{
  "nbformat": 4,
  "nbformat_minor": 0,
  "metadata": {
    "colab": {
      "name": "Untitled26.ipynb",
      "version": "0.3.2",
      "provenance": []
    },
    "kernelspec": {
      "name": "python3",
      "display_name": "Python 3"
    },
    "accelerator": "GPU"
  },
  "cells": [
    {
      "metadata": {
        "id": "nBEoCaNbVZcK",
        "colab_type": "text"
      },
      "cell_type": "markdown",
      "source": [
        "# Dogs vs Cats with Keras"
      ]
    },
    {
      "metadata": {
        "id": "xG9vLz0IVZLV",
        "colab_type": "text"
      },
      "cell_type": "markdown",
      "source": [
        "## Loading Liraries"
      ]
    },
    {
      "metadata": {
        "id": "b8rlEWkJVCZJ",
        "colab_type": "code",
        "colab": {}
      },
      "cell_type": "code",
      "source": [
        "!pip install fastai==0.7.0\n",
        "!{sys.executable} -m pip install torchtext==0.2.3\n",
        "!curl http://files.fast.ai/data/dogscats.zip --output sample_data/dogscats.zip\n",
        "!unzip sample_data/dogscats.zip"
      ],
      "execution_count": 0,
      "outputs": []
    },
    {
      "metadata": {
        "id": "ej3MaHAPVCOz",
        "colab_type": "code",
        "colab": {
          "base_uri": "https://localhost:8080/",
          "height": 34
        },
        "outputId": "920a12c1-527c-4b74-a5d7-ea2744098ffc"
      },
      "cell_type": "code",
      "source": [
        "!ls"
      ],
      "execution_count": 3,
      "outputs": [
        {
          "output_type": "stream",
          "text": [
            "dogscats  sample_data\n"
          ],
          "name": "stdout"
        }
      ]
    },
    {
      "metadata": {
        "id": "OYtuQI_bVlve",
        "colab_type": "text"
      },
      "cell_type": "markdown",
      "source": [
        "## Loading Keras Libraries"
      ]
    },
    {
      "metadata": {
        "id": "Hpd_3dTFU8bL",
        "colab_type": "code",
        "colab": {
          "base_uri": "https://localhost:8080/",
          "height": 51
        },
        "outputId": "4879b16b-e5f4-453f-bf7d-00a10187c188"
      },
      "cell_type": "code",
      "source": [
        "import numpy as np\n",
        "from keras.preprocessing.image import ImageDataGenerator\n",
        "from keras.preprocessing import image\n",
        "from keras.layers import Dropout, Flatten, Dense, GlobalAveragePooling2D\n",
        "from keras.applications import ResNet50\n",
        "from keras.models import Model, Sequential\n",
        "from keras import backend as K\n",
        "from keras.applications.resnet50 import preprocess_input\n",
        "K.tensorflow_backend._get_available_gpus()"
      ],
      "execution_count": 1,
      "outputs": [
        {
          "output_type": "stream",
          "text": [
            "Using TensorFlow backend.\n"
          ],
          "name": "stderr"
        },
        {
          "output_type": "execute_result",
          "data": {
            "text/plain": [
              "['/job:localhost/replica:0/task:0/device:GPU:0']"
            ]
          },
          "metadata": {
            "tags": []
          },
          "execution_count": 1
        }
      ]
    },
    {
      "metadata": {
        "id": "GoSHBpFeVC41",
        "colab_type": "code",
        "colab": {}
      },
      "cell_type": "code",
      "source": [
        "PATH = 'dogscats/'\n",
        "sz=224\n",
        "bs=64"
      ],
      "execution_count": 0,
      "outputs": []
    },
    {
      "metadata": {
        "id": "eIv58pUeWuWG",
        "colab_type": "code",
        "colab": {
          "base_uri": "https://localhost:8080/",
          "height": 34
        },
        "outputId": "311e6133-ff16-445a-9954-a7c25291e31e"
      },
      "cell_type": "code",
      "source": [
        "!ls {PATH}"
      ],
      "execution_count": 5,
      "outputs": [
        {
          "output_type": "stream",
          "text": [
            "models\tsample\ttest1  train  valid\n"
          ],
          "name": "stdout"
        }
      ]
    },
    {
      "metadata": {
        "id": "huvYhzgFWvnG",
        "colab_type": "code",
        "colab": {}
      },
      "cell_type": "code",
      "source": [
        "train_data_dir = f'{PATH}train'\n",
        "valid_data_dir = f'{PATH}valid'"
      ],
      "execution_count": 0,
      "outputs": []
    },
    {
      "metadata": {
        "id": "gWLa4UDVW5Hb",
        "colab_type": "code",
        "colab": {}
      },
      "cell_type": "code",
      "source": [
        "train_datagen = ImageDataGenerator(preprocessing_function=preprocess_input,\n",
        "                                   shear_range=0.2, zoom_range=0.2, horizontal_flip=True,\n",
        "                                   rotation_range=10,\n",
        "                                   vertical_flip=False)\n",
        "\n",
        "test_datagen = ImageDataGenerator(preprocessing_function=preprocess_input)"
      ],
      "execution_count": 0,
      "outputs": []
    },
    {
      "metadata": {
        "id": "0-XbXll8W7XL",
        "colab_type": "code",
        "colab": {
          "base_uri": "https://localhost:8080/",
          "height": 51
        },
        "outputId": "b4085f2c-c3c4-4576-eaae-8f6eabb0e035"
      },
      "cell_type": "code",
      "source": [
        "train_generator = train_datagen.flow_from_directory(train_data_dir, target_size=(sz, sz),\n",
        "                                  batch_size=bs, class_mode='binary')\n",
        "\n",
        "test_generator = test_datagen.flow_from_directory(valid_data_dir, target_size=(256, 256), \n",
        "                                 shuffle=False, batch_size=bs, class_mode='binary')"
      ],
      "execution_count": 8,
      "outputs": [
        {
          "output_type": "stream",
          "text": [
            "Found 23000 images belonging to 2 classes.\n",
            "Found 2000 images belonging to 2 classes.\n"
          ],
          "name": "stdout"
        }
      ]
    },
    {
      "metadata": {
        "id": "aAc4DA5qW9Q_",
        "colab_type": "code",
        "colab": {
          "base_uri": "https://localhost:8080/",
          "height": 156
        },
        "outputId": "2e78b1ce-8306-495d-8b44-c12205a79e9b"
      },
      "cell_type": "code",
      "source": [
        "base_model = ResNet50(weights='imagenet', include_top=False)\n",
        "x = base_model.output\n",
        "x = GlobalAveragePooling2D()(x)\n",
        "x = Dense(1024, activation='relu')(x)\n",
        "predictions = Dense(1, activation='sigmoid')(x)"
      ],
      "execution_count": 9,
      "outputs": [
        {
          "output_type": "stream",
          "text": [
            "WARNING:tensorflow:From /usr/local/lib/python3.6/dist-packages/tensorflow/python/framework/op_def_library.py:263: colocate_with (from tensorflow.python.framework.ops) is deprecated and will be removed in a future version.\n",
            "Instructions for updating:\n",
            "Colocations handled automatically by placer.\n"
          ],
          "name": "stdout"
        },
        {
          "output_type": "stream",
          "text": [
            "/usr/local/lib/python3.6/dist-packages/keras_applications/resnet50.py:265: UserWarning: The output shape of `ResNet50(include_top=False)` has been changed since Keras 2.2.0.\n",
            "  warnings.warn('The output shape of `ResNet50(include_top=False)` '\n"
          ],
          "name": "stderr"
        },
        {
          "output_type": "stream",
          "text": [
            "Downloading data from https://github.com/fchollet/deep-learning-models/releases/download/v0.2/resnet50_weights_tf_dim_ordering_tf_kernels_notop.h5\n",
            "94658560/94653016 [==============================] - 1s 0us/step\n"
          ],
          "name": "stdout"
        }
      ]
    },
    {
      "metadata": {
        "id": "xTSFjENWXnBg",
        "colab_type": "code",
        "colab": {}
      },
      "cell_type": "code",
      "source": [
        "model = Model(inputs=base_model.input, outputs=predictions)\n",
        "for layer in base_model.layers: \n",
        "  layer.trainable = False"
      ],
      "execution_count": 0,
      "outputs": []
    },
    {
      "metadata": {
        "id": "Vg0I2RDvXtJe",
        "colab_type": "code",
        "colab": {}
      },
      "cell_type": "code",
      "source": [
        "model.compile(optimizer='rmsprop', loss='binary_crossentropy', metrics=['accuracy'])"
      ],
      "execution_count": 0,
      "outputs": []
    },
    {
      "metadata": {
        "id": "1LGsuBKpXtHH",
        "colab_type": "code",
        "colab": {
          "base_uri": "https://localhost:8080/",
          "height": 241
        },
        "outputId": "93796df2-77a5-4f6d-c742-552375e30bb6"
      },
      "cell_type": "code",
      "source": [
        "%%time\n",
        "model.fit_generator(train_generator, train_generator.n // bs, epochs=3, workers=4,\n",
        "                    validation_data=test_generator, validation_steps=test_generator.n // bs)"
      ],
      "execution_count": 15,
      "outputs": [
        {
          "output_type": "stream",
          "text": [
            "WARNING:tensorflow:From /usr/local/lib/python3.6/dist-packages/tensorflow/python/ops/math_ops.py:3066: to_int32 (from tensorflow.python.ops.math_ops) is deprecated and will be removed in a future version.\n",
            "Instructions for updating:\n",
            "Use tf.cast instead.\n",
            "Epoch 1/3\n",
            "359/359 [==============================] - 335s 935ms/step - loss: 0.2155 - acc: 0.9480 - val_loss: 0.0357 - val_acc: 0.9894\n",
            "Epoch 2/3\n",
            "359/359 [==============================] - 319s 888ms/step - loss: 0.0878 - acc: 0.9692 - val_loss: 0.0504 - val_acc: 0.9845\n",
            "Epoch 3/3\n",
            "359/359 [==============================] - 317s 883ms/step - loss: 0.0713 - acc: 0.9743 - val_loss: 0.0615 - val_acc: 0.9840\n",
            "CPU times: user 29min 52s, sys: 53.5 s, total: 30min 45s\n",
            "Wall time: 16min 11s\n"
          ],
          "name": "stdout"
        },
        {
          "output_type": "execute_result",
          "data": {
            "text/plain": [
              "<keras.callbacks.History at 0x7f0fb16969b0>"
            ]
          },
          "metadata": {
            "tags": []
          },
          "execution_count": 15
        }
      ]
    },
    {
      "metadata": {
        "id": "BjmeKHlvd4uG",
        "colab_type": "code",
        "colab": {}
      },
      "cell_type": "code",
      "source": [
        "split_at = 140\n",
        "for layer in model.layers[:split_at]:\n",
        "  layer.trainable = False\n",
        "\n",
        "for layer in model.layers[split_at:]:\n",
        "  layer.trainable = True\n",
        "  \n",
        "model.compile(optimizer='rmsprop', loss='binary_crossentropy', metrics=['accuracy'])"
      ],
      "execution_count": 0,
      "outputs": []
    },
    {
      "metadata": {
        "id": "WBSV0tzFd6OC",
        "colab_type": "code",
        "colab": {
          "base_uri": "https://localhost:8080/",
          "height": 102
        },
        "outputId": "4b60e54e-185a-43af-a90f-61f494a46421"
      },
      "cell_type": "code",
      "source": [
        "%%time\n",
        "model.fit_generator(train_generator, train_generator.n // bs, epochs=1, workers=4,\n",
        "                    validation_data=test_generator, validation_steps=test_generator.n // bs)"
      ],
      "execution_count": 17,
      "outputs": [
        {
          "output_type": "stream",
          "text": [
            "Epoch 1/1\n",
            "359/359 [==============================] - 354s 986ms/step - loss: 0.0897 - acc: 0.9712 - val_loss: 0.1108 - val_acc: 0.9835\n",
            "CPU times: user 10min 46s, sys: 29.6 s, total: 11min 15s\n",
            "Wall time: 5min 55s\n"
          ],
          "name": "stdout"
        },
        {
          "output_type": "execute_result",
          "data": {
            "text/plain": [
              "<keras.callbacks.History at 0x7f0fc12909e8>"
            ]
          },
          "metadata": {
            "tags": []
          },
          "execution_count": 17
        }
      ]
    },
    {
      "metadata": {
        "id": "E7FaR3sEd_4X",
        "colab_type": "code",
        "colab": {}
      },
      "cell_type": "code",
      "source": [
        "from keras.callbacks import ReduceLROnPlateau\n",
        "from keras.optimizers import RMSprop"
      ],
      "execution_count": 0,
      "outputs": []
    },
    {
      "metadata": {
        "id": "KqAd3KHCgWWj",
        "colab_type": "code",
        "colab": {}
      },
      "cell_type": "code",
      "source": [
        "learning_rate_reduction = ReduceLROnPlateau(monitor='val_acc', \n",
        "                                            patience=2, \n",
        "                                            verbose=1, \n",
        "                                            factor=0.5, \n",
        "                                            min_lr=0.00001)"
      ],
      "execution_count": 0,
      "outputs": []
    },
    {
      "metadata": {
        "id": "7mHkmXj0fwI8",
        "colab_type": "code",
        "colab": {}
      },
      "cell_type": "code",
      "source": [
        "optimizer = RMSprop(lr=0.001, rho=0.9, epsilon=1e-08, decay=0.0)\n",
        "model.compile(optimizer=optimizer, loss='binary_crossentropy', metrics=['accuracy'])"
      ],
      "execution_count": 0,
      "outputs": []
    },
    {
      "metadata": {
        "id": "x7yYxCn5gVg2",
        "colab_type": "code",
        "colab": {
          "base_uri": "https://localhost:8080/",
          "height": 476
        },
        "outputId": "7973fd46-1c39-4d3f-b055-c7dc1976a917"
      },
      "cell_type": "code",
      "source": [
        "%%time\n",
        "model.fit_generator(train_generator, train_generator.n // bs, epochs=10, workers=4,\n",
        "                    validation_data=test_generator, validation_steps=test_generator.n // bs,\n",
        "                    callbacks=[learning_rate_reduction])"
      ],
      "execution_count": 22,
      "outputs": [
        {
          "output_type": "stream",
          "text": [
            "Epoch 1/10\n",
            "359/359 [==============================] - 351s 978ms/step - loss: 0.0472 - acc: 0.9845 - val_loss: 0.1507 - val_acc: 0.9793\n",
            "Epoch 2/10\n",
            "359/359 [==============================] - 324s 903ms/step - loss: 0.0349 - acc: 0.9886 - val_loss: 0.4086 - val_acc: 0.9489\n",
            "Epoch 3/10\n",
            "359/359 [==============================] - 321s 894ms/step - loss: 0.0270 - acc: 0.9910 - val_loss: 0.0696 - val_acc: 0.9861\n",
            "Epoch 4/10\n",
            "359/359 [==============================] - 322s 897ms/step - loss: 0.0227 - acc: 0.9931 - val_loss: 0.0852 - val_acc: 0.9835\n",
            "Epoch 5/10\n",
            "359/359 [==============================] - 319s 889ms/step - loss: 0.0187 - acc: 0.9940 - val_loss: 0.0495 - val_acc: 0.9897\n",
            "Epoch 6/10\n",
            "359/359 [==============================] - 318s 885ms/step - loss: 0.0163 - acc: 0.9946 - val_loss: 0.0332 - val_acc: 0.9912\n",
            "Epoch 7/10\n",
            "359/359 [==============================] - 313s 871ms/step - loss: 0.0141 - acc: 0.9954 - val_loss: 0.0353 - val_acc: 0.9897\n",
            "Epoch 8/10\n",
            "359/359 [==============================] - 312s 869ms/step - loss: 0.0137 - acc: 0.9958 - val_loss: 0.0413 - val_acc: 0.9886\n",
            "\n",
            "Epoch 00008: ReduceLROnPlateau reducing learning rate to 0.0005000000237487257.\n",
            "Epoch 9/10\n",
            "359/359 [==============================] - 309s 860ms/step - loss: 0.0085 - acc: 0.9975 - val_loss: 0.0507 - val_acc: 0.9871\n",
            "Epoch 10/10\n",
            "359/359 [==============================] - 308s 857ms/step - loss: 0.0070 - acc: 0.9979 - val_loss: 0.0411 - val_acc: 0.9886\n",
            "\n",
            "Epoch 00010: ReduceLROnPlateau reducing learning rate to 0.0002500000118743628.\n",
            "CPU times: user 1h 37min 21s, sys: 4min 9s, total: 1h 41min 31s\n",
            "Wall time: 53min 17s\n"
          ],
          "name": "stdout"
        },
        {
          "output_type": "execute_result",
          "data": {
            "text/plain": [
              "<keras.callbacks.History at 0x7f0fb125e358>"
            ]
          },
          "metadata": {
            "tags": []
          },
          "execution_count": 22
        }
      ]
    },
    {
      "metadata": {
        "id": "tnEGhd9MhSWY",
        "colab_type": "code",
        "colab": {}
      },
      "cell_type": "code",
      "source": [
        ""
      ],
      "execution_count": 0,
      "outputs": []
    }
  ]
}