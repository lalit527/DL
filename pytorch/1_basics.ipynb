{
  "nbformat": 4,
  "nbformat_minor": 0,
  "metadata": {
    "colab": {
      "name": "Untitled32.ipynb",
      "version": "0.3.2",
      "provenance": []
    },
    "kernelspec": {
      "name": "python3",
      "display_name": "Python 3"
    },
    "accelerator": "GPU"
  },
  "cells": [
    {
      "metadata": {
        "id": "ff4iv0wUjT5k",
        "colab_type": "code",
        "colab": {}
      },
      "cell_type": "code",
      "source": [
        "import torch"
      ],
      "execution_count": 0,
      "outputs": []
    },
    {
      "metadata": {
        "id": "rZbQB_3djhYN",
        "colab_type": "code",
        "colab": {}
      },
      "cell_type": "code",
      "source": [
        "def activation(x):\n",
        "  return 1/(1+torch.exp(-x))"
      ],
      "execution_count": 0,
      "outputs": []
    },
    {
      "metadata": {
        "id": "CO146JlEjnvD",
        "colab_type": "code",
        "colab": {}
      },
      "cell_type": "code",
      "source": [
        "torch.manual_seed(7)\n",
        "\n",
        "features = torch.randn((1, 5))\n",
        "weights = torch.rand_like(features)\n",
        "\n",
        "bias = torch.randn((1, 1))"
      ],
      "execution_count": 0,
      "outputs": []
    },
    {
      "metadata": {
        "id": "0ybdnha2kMdW",
        "colab_type": "code",
        "colab": {
          "base_uri": "https://localhost:8080/",
          "height": 34
        },
        "outputId": "89a1231a-ffeb-40d7-dd64-eaea2210f2a3"
      },
      "cell_type": "code",
      "source": [
        "torch.matmul(features, weights.view(5, 1))"
      ],
      "execution_count": 12,
      "outputs": [
        {
          "output_type": "execute_result",
          "data": {
            "text/plain": [
              "tensor([[1.3592]])"
            ]
          },
          "metadata": {
            "tags": []
          },
          "execution_count": 12
        }
      ]
    },
    {
      "metadata": {
        "id": "tX6Puh0Ajxr5",
        "colab_type": "code",
        "colab": {}
      },
      "cell_type": "code",
      "source": [
        "torch.manual_seed(7)\n",
        "\n",
        "features = torch.randn((1, 3))\n",
        "\n",
        "n_input = features.shape[1]\n",
        "n_hidden = 2\n",
        "n_output = 1\n",
        "\n",
        "W1 = torch.randn(n_input, n_hidden)\n",
        "W2 = torch.randn(n_hidden, n_output)\n",
        "\n",
        "b1 = torch.randn((1, n_hidden))\n",
        "b2 = torch.randn((1, n_output))\n",
        "\n",
        "\n"
      ],
      "execution_count": 0,
      "outputs": []
    },
    {
      "metadata": {
        "id": "lJKvWDLHkMI7",
        "colab_type": "code",
        "colab": {
          "base_uri": "https://localhost:8080/",
          "height": 34
        },
        "outputId": "ea27905e-846c-4fbe-ef0d-debfb3c18ad7"
      },
      "cell_type": "code",
      "source": [
        "z = torch.add(torch.matmul(features, W1), b1)\n",
        "a = activation(z)\n",
        "o = torch.add(torch.matmul(a, W2), b2)\n",
        "o = activation(o)\n",
        "o"
      ],
      "execution_count": 32,
      "outputs": [
        {
          "output_type": "execute_result",
          "data": {
            "text/plain": [
              "tensor([[0.3171]])"
            ]
          },
          "metadata": {
            "tags": []
          },
          "execution_count": 32
        }
      ]
    },
    {
      "metadata": {
        "id": "B0W-6Ds1jvbU",
        "colab_type": "code",
        "colab": {}
      },
      "cell_type": "code",
      "source": [
        "import numpy as np"
      ],
      "execution_count": 0,
      "outputs": []
    },
    {
      "metadata": {
        "id": "ATFLrow-jwRC",
        "colab_type": "code",
        "colab": {
          "base_uri": "https://localhost:8080/",
          "height": 86
        },
        "outputId": "3a218168-bf51-4414-e1d1-83961bd9c0aa"
      },
      "cell_type": "code",
      "source": [
        "a = np.random.rand(4, 3)\n",
        "a"
      ],
      "execution_count": 35,
      "outputs": [
        {
          "output_type": "execute_result",
          "data": {
            "text/plain": [
              "array([[0.80699185, 0.31767882, 0.64695696],\n",
              "       [0.19461783, 0.75210534, 0.10054803],\n",
              "       [0.65637573, 0.14584952, 0.37685669],\n",
              "       [0.06622911, 0.12107514, 0.97041293]])"
            ]
          },
          "metadata": {
            "tags": []
          },
          "execution_count": 35
        }
      ]
    },
    {
      "metadata": {
        "id": "Fkshv5xhl35v",
        "colab_type": "code",
        "colab": {
          "base_uri": "https://localhost:8080/",
          "height": 86
        },
        "outputId": "c3c25701-c387-4724-bc47-9a27b823638e"
      },
      "cell_type": "code",
      "source": [
        "b = torch.from_numpy(a)\n",
        "b"
      ],
      "execution_count": 36,
      "outputs": [
        {
          "output_type": "execute_result",
          "data": {
            "text/plain": [
              "tensor([[0.8070, 0.3177, 0.6470],\n",
              "        [0.1946, 0.7521, 0.1005],\n",
              "        [0.6564, 0.1458, 0.3769],\n",
              "        [0.0662, 0.1211, 0.9704]], dtype=torch.float64)"
            ]
          },
          "metadata": {
            "tags": []
          },
          "execution_count": 36
        }
      ]
    },
    {
      "metadata": {
        "id": "Yp8znVFyoPU7",
        "colab_type": "code",
        "colab": {
          "base_uri": "https://localhost:8080/",
          "height": 86
        },
        "outputId": "6a1967bb-1d8d-4219-b378-2802be165e4c"
      },
      "cell_type": "code",
      "source": [
        "b.numpy()"
      ],
      "execution_count": 37,
      "outputs": [
        {
          "output_type": "execute_result",
          "data": {
            "text/plain": [
              "array([[0.80699185, 0.31767882, 0.64695696],\n",
              "       [0.19461783, 0.75210534, 0.10054803],\n",
              "       [0.65637573, 0.14584952, 0.37685669],\n",
              "       [0.06622911, 0.12107514, 0.97041293]])"
            ]
          },
          "metadata": {
            "tags": []
          },
          "execution_count": 37
        }
      ]
    },
    {
      "metadata": {
        "id": "eN3uzlRRoRhu",
        "colab_type": "code",
        "colab": {
          "base_uri": "https://localhost:8080/",
          "height": 86
        },
        "outputId": "f808a8c4-3745-438e-d085-d9273bbf35b8"
      },
      "cell_type": "code",
      "source": [
        "b.mul_(2)"
      ],
      "execution_count": 38,
      "outputs": [
        {
          "output_type": "execute_result",
          "data": {
            "text/plain": [
              "tensor([[1.6140, 0.6354, 1.2939],\n",
              "        [0.3892, 1.5042, 0.2011],\n",
              "        [1.3128, 0.2917, 0.7537],\n",
              "        [0.1325, 0.2422, 1.9408]], dtype=torch.float64)"
            ]
          },
          "metadata": {
            "tags": []
          },
          "execution_count": 38
        }
      ]
    },
    {
      "metadata": {
        "id": "AhPjPM2ooUBE",
        "colab_type": "code",
        "colab": {
          "base_uri": "https://localhost:8080/",
          "height": 86
        },
        "outputId": "26f094a1-505e-4486-f3e7-6b622893c260"
      },
      "cell_type": "code",
      "source": [
        "a"
      ],
      "execution_count": 39,
      "outputs": [
        {
          "output_type": "execute_result",
          "data": {
            "text/plain": [
              "array([[1.6139837 , 0.63535764, 1.29391391],\n",
              "       [0.38923566, 1.50421068, 0.20109606],\n",
              "       [1.31275146, 0.29169905, 0.75371338],\n",
              "       [0.13245822, 0.24215028, 1.94082587]])"
            ]
          },
          "metadata": {
            "tags": []
          },
          "execution_count": 39
        }
      ]
    },
    {
      "metadata": {
        "id": "mCr1EivMoVpf",
        "colab_type": "code",
        "colab": {}
      },
      "cell_type": "code",
      "source": [
        ""
      ],
      "execution_count": 0,
      "outputs": []
    }
  ]
}