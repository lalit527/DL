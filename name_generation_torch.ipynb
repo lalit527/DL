{
  "nbformat": 4,
  "nbformat_minor": 0,
  "metadata": {
    "colab": {
      "name": "Untitled66.ipynb",
      "version": "0.3.2",
      "provenance": [],
      "include_colab_link": true
    },
    "kernelspec": {
      "name": "python3",
      "display_name": "Python 3"
    },
    "accelerator": "GPU"
  },
  "cells": [
    {
      "cell_type": "markdown",
      "metadata": {
        "id": "view-in-github",
        "colab_type": "text"
      },
      "source": [
        "<a href=\"https://colab.research.google.com/github/lalit527/DL/blob/master/name_generation_torch.ipynb\" target=\"_parent\"><img src=\"https://colab.research.google.com/assets/colab-badge.svg\" alt=\"Open In Colab\"/></a>"
      ]
    },
    {
      "cell_type": "markdown",
      "metadata": {
        "id": "EA-2TAjFB3n-",
        "colab_type": "text"
      },
      "source": [
        "# Name Generation"
      ]
    },
    {
      "cell_type": "markdown",
      "metadata": {
        "id": "_Odc7cm9B999",
        "colab_type": "text"
      },
      "source": [
        "## Get the Data"
      ]
    },
    {
      "cell_type": "code",
      "metadata": {
        "id": "Sy0Sj0yKBucc",
        "colab_type": "code",
        "colab": {}
      },
      "source": [
        "!curl https://download.pytorch.org/tutorial/data.zip -o data.zip\n",
        "!unzip data.zip"
      ],
      "execution_count": 0,
      "outputs": []
    },
    {
      "cell_type": "markdown",
      "metadata": {
        "id": "Ytu-5P4bCFKd",
        "colab_type": "text"
      },
      "source": [
        "## Import Libraries"
      ]
    },
    {
      "cell_type": "code",
      "metadata": {
        "id": "nzEoFTF__4Cf",
        "colab_type": "code",
        "colab": {}
      },
      "source": [
        "from io import open\n",
        "import glob\n",
        "import os\n",
        "import unicodedata\n",
        "import string"
      ],
      "execution_count": 0,
      "outputs": []
    },
    {
      "cell_type": "markdown",
      "metadata": {
        "id": "-UroXHd4CNAz",
        "colab_type": "text"
      },
      "source": [
        "**Get all Engilsh letters from Python's string library**"
      ]
    },
    {
      "cell_type": "code",
      "metadata": {
        "id": "LZyceDuBAFZK",
        "colab_type": "code",
        "colab": {}
      },
      "source": [
        "all_letters = string.ascii_letters + \" .,;'-\"\n",
        "n_letters = len(all_letters) + 1"
      ],
      "execution_count": 0,
      "outputs": []
    },
    {
      "cell_type": "markdown",
      "metadata": {
        "id": "grxFl2vXCbjs",
        "colab_type": "text"
      },
      "source": [
        "***Helper function for returning files from given path***"
      ]
    },
    {
      "cell_type": "code",
      "metadata": {
        "id": "iUJuDERfARUf",
        "colab_type": "code",
        "colab": {}
      },
      "source": [
        "def find_files(path):\n",
        "    return glob.glob(path)"
      ],
      "execution_count": 0,
      "outputs": []
    },
    {
      "cell_type": "markdown",
      "metadata": {
        "id": "l1N7I2dLCmg5",
        "colab_type": "text"
      },
      "source": [
        "***Convert text from unicode to Ascii chaaracters***"
      ]
    },
    {
      "cell_type": "code",
      "metadata": {
        "id": "xQL0SpVIAb1X",
        "colab_type": "code",
        "colab": {}
      },
      "source": [
        "def unicode_to_ascii(s):\n",
        "    return ''.join(c for c in unicodedata.normalize('NFD', s) if unicodedata.category(c) != 'Mn' and c in all_letters)"
      ],
      "execution_count": 0,
      "outputs": []
    },
    {
      "cell_type": "markdown",
      "metadata": {
        "id": "tORii7PQCryK",
        "colab_type": "text"
      },
      "source": [
        "***Read lines from Individual files***"
      ]
    },
    {
      "cell_type": "code",
      "metadata": {
        "id": "ck5eVgtYAsIa",
        "colab_type": "code",
        "colab": {}
      },
      "source": [
        "def read_lines(filename):\n",
        "    lines = open(filename, encoding='utf-8').read().strip().split('\\n')\n",
        "    return [unicode_to_ascii(line) for line in lines]"
      ],
      "execution_count": 0,
      "outputs": []
    },
    {
      "cell_type": "markdown",
      "metadata": {
        "id": "7_92wZVMC0wK",
        "colab_type": "text"
      },
      "source": [
        "## Read all files:-\n",
        "- create list of categories from file names\n",
        "- create list of all lines from the files"
      ]
    },
    {
      "cell_type": "code",
      "metadata": {
        "id": "rgEBZh59A6wy",
        "colab_type": "code",
        "outputId": "c1240137-ffcf-4f4a-8ce8-f00bf6ab972e",
        "colab": {
          "base_uri": "https://localhost:8080/",
          "height": 72
        }
      },
      "source": [
        "category_lines = {}\n",
        "all_categories = []\n",
        "\n",
        "for filename in find_files('data/names/*.txt'):\n",
        "    category = os.path.splitext(os.path.basename(filename))[0]\n",
        "    all_categories.append(category)\n",
        "    lines = read_lines(filename)\n",
        "    category_lines[category] = lines\n",
        "n_categories = len(all_categories)\n",
        "print('# categories:', n_categories, all_categories)\n",
        "print(unicode_to_ascii(\"O'Néàl\"))"
      ],
      "execution_count": 0,
      "outputs": [
        {
          "output_type": "stream",
          "text": [
            "# categories: 18 ['Japanese', 'Spanish', 'Vietnamese', 'Czech', 'Greek', 'Portuguese', 'Russian', 'German', 'Chinese', 'Dutch', 'Korean', 'Italian', 'French', 'Arabic', 'Irish', 'Polish', 'Scottish', 'English']\n",
            "O'Neal\n"
          ],
          "name": "stdout"
        }
      ]
    },
    {
      "cell_type": "markdown",
      "metadata": {
        "id": "YMPg5RHRDDei",
        "colab_type": "text"
      },
      "source": [
        "## Define the architecture of the Model"
      ]
    },
    {
      "cell_type": "code",
      "metadata": {
        "id": "iSFqr2TbBgFq",
        "colab_type": "code",
        "colab": {}
      },
      "source": [
        "import torch\n",
        "import torch.nn as nn"
      ],
      "execution_count": 0,
      "outputs": []
    },
    {
      "cell_type": "code",
      "metadata": {
        "id": "cc_qT77dDLSW",
        "colab_type": "code",
        "colab": {}
      },
      "source": [
        "class RNN(nn.Module):\n",
        "    def __init__(self, n_categories, input_size, hidden_size, output_size):\n",
        "        super().__init__()\n",
        "        self.hidden_size = hidden_size\n",
        "        self.i2h = nn.Linear(n_categories + input_size + hidden_size, hidden_size)\n",
        "        self.i2o = nn.Linear(n_categories + input_size + hidden_size, output_size)\n",
        "        self.o2o = nn.Linear(hidden_size + output_size, output_size)\n",
        "        self.dropout = nn.Dropout(0.1)\n",
        "        self.softmax = nn.LogSoftmax(dim=1)\n",
        "        \n",
        "    def forward(self, category, inputs, hidden):\n",
        "        input_combined = torch.cat((category, inputs, hidden), 1)\n",
        "        hidden = self.i2h(input_combined)\n",
        "        output = self.i2o(input_combined)\n",
        "        output_combined = torch.cat((hidden, output), 1)\n",
        "        output = self.o2o(output_combined)\n",
        "        output = self.dropout(output)\n",
        "        output = self.softmax(output)\n",
        "        return output, hidden\n",
        "    \n",
        "    def init_hidden(self):\n",
        "        return torch.zeros(1, self.hidden_size)"
      ],
      "execution_count": 0,
      "outputs": []
    },
    {
      "cell_type": "markdown",
      "metadata": {
        "id": "p2ynM4IsEkhh",
        "colab_type": "text"
      },
      "source": [
        "### Defining Training Samples ###"
      ]
    },
    {
      "cell_type": "code",
      "metadata": {
        "id": "1fPeUvEbGtog",
        "colab_type": "code",
        "colab": {}
      },
      "source": [
        "import random"
      ],
      "execution_count": 0,
      "outputs": []
    },
    {
      "cell_type": "code",
      "metadata": {
        "id": "2a17iywBGnSZ",
        "colab_type": "code",
        "colab": {}
      },
      "source": [
        "def random_choice(l):\n",
        "    return l[random.randint(0, len(l) - 1)]\n",
        "\n",
        "def random_training_pair():\n",
        "    category = random_choice(all_categories)\n",
        "    line = random_choice(category_lines[category])\n",
        "    return category, line"
      ],
      "execution_count": 0,
      "outputs": []
    },
    {
      "cell_type": "code",
      "metadata": {
        "id": "S3p7fqmsEa9R",
        "colab_type": "code",
        "colab": {}
      },
      "source": [
        "def random_choice(l):\n",
        "    return l[random.randint(0, len(l) - 1)]\n",
        "\n",
        "def random_training_pair():\n",
        "    category = random_choice(all_categories)\n",
        "    line = random_choice(category_lines[category])\n",
        "    return category, line\n",
        "\n",
        "def category_tensor(category):\n",
        "    li = all_categories.index(category)\n",
        "    tensor = torch.zeros(1, n_categories)\n",
        "    tensor[0][li] = 1\n",
        "    return tensor\n",
        "\n",
        "def input_tensor(line):\n",
        "    tensor = torch.zeros(len(line), 1, n_letters)\n",
        "    for li in range(len(line)):\n",
        "        letter = line[li]\n",
        "        tensor[li][0][all_letters.find(letter)] = 1\n",
        "    return tensor\n",
        "\n",
        "def target_tensor(line):\n",
        "    letter_indexes = [all_letters.find(line[li]) for li in range(1, len(line))]\n",
        "    letter_indexes.append(n_letters - 1)\n",
        "    return torch.LongTensor(letter_indexes)\n",
        "\n",
        "def random_training_example():\n",
        "    cat, line = random_training_pair()\n",
        "    cat_tensor = category_tensor(cat)\n",
        "    input_line_tensor = input_tensor(line)\n",
        "    target_line_tensor = target_tensor(line)\n",
        "    return cat_tensor, input_line_tensor, target_line_tensor"
      ],
      "execution_count": 0,
      "outputs": []
    },
    {
      "cell_type": "markdown",
      "metadata": {
        "id": "Ynq3yhzaI65_",
        "colab_type": "text"
      },
      "source": [
        "### Training Model ###"
      ]
    },
    {
      "cell_type": "code",
      "metadata": {
        "id": "8CymrTUbKXVc",
        "colab_type": "code",
        "colab": {}
      },
      "source": [
        "import time\n",
        "import math\n",
        "\n",
        "def time_since(since):\n",
        "    now = time.time()\n",
        "    s = now - since\n",
        "    m = math.floor(s / 60)\n",
        "    s -= m * 60\n",
        "    return '%dm %ds' % (m, s)"
      ],
      "execution_count": 0,
      "outputs": []
    },
    {
      "cell_type": "code",
      "metadata": {
        "id": "Qa0hrmqILclo",
        "colab_type": "code",
        "colab": {}
      },
      "source": [
        "for p in rnn.parameters():\n",
        "    print(p.data)"
      ],
      "execution_count": 0,
      "outputs": []
    },
    {
      "cell_type": "code",
      "metadata": {
        "id": "8i9Jtv02FZcl",
        "colab_type": "code",
        "colab": {}
      },
      "source": [
        "criterion = nn.NLLLoss()\n",
        "lr = 0.0005\n",
        "rnn = RNN(n_categories, n_letters, 128, n_letters)"
      ],
      "execution_count": 0,
      "outputs": []
    },
    {
      "cell_type": "code",
      "metadata": {
        "id": "1eiNjvBiFbKE",
        "colab_type": "code",
        "colab": {}
      },
      "source": [
        "def train(cat_tensor, input_line_tensor, target_line_tensor):\n",
        "    target_line_tensor.unsqueeze_(-1)\n",
        "    hidden = rnn.init_hidden()\n",
        "    rnn.zero_grad()\n",
        "    loss = 0\n",
        "    for i in range(input_line_tensor.size(0)):\n",
        "        output, hidden = rnn(cat_tensor, input_line_tensor[i], hidden)\n",
        "        loss += criterion(output, target_line_tensor[i])\n",
        "    loss.backward()\n",
        "    \n",
        "    for p in rnn.parameters():\n",
        "        p.data.add_(-lr, p.grad.data)\n",
        "        \n",
        "    return output, loss.item() / input_line_tensor.size(0)"
      ],
      "execution_count": 0,
      "outputs": []
    },
    {
      "cell_type": "code",
      "metadata": {
        "id": "D7lK6L6oKPV2",
        "colab_type": "code",
        "outputId": "b205837a-363f-4b73-d8ff-8c28cc6f32f5",
        "colab": {
          "base_uri": "https://localhost:8080/",
          "height": 364
        }
      },
      "source": [
        "n_iters = 100000\n",
        "print_every = 5000\n",
        "plot_every = 500\n",
        "all_losses = []\n",
        "total_loss = 0\n",
        "start = time.time()\n",
        "\n",
        "for iter in range(1, n_iters + 1):\n",
        "    output, loss = train(*random_training_example())\n",
        "    total_loss += loss\n",
        "    \n",
        "    if iter % print_every == 0:\n",
        "        print('%s (%d %d%%) %.4f' % (time_since(start), iter, iter / n_iters * 100, loss))\n",
        "        \n",
        "    if iter % plot_every == 0:\n",
        "        \tall_losses.append(total_loss / plot_every)\n",
        "        \ttotal_loss = 0"
      ],
      "execution_count": 0,
      "outputs": [
        {
          "output_type": "stream",
          "text": [
            "0m 13s (5000 5%) 2.7188\n",
            "0m 27s (10000 10%) 3.3979\n",
            "0m 40s (15000 15%) 3.0859\n",
            "0m 53s (20000 20%) 2.3250\n",
            "1m 6s (25000 25%) 2.5298\n",
            "1m 21s (30000 30%) 3.2870\n",
            "1m 34s (35000 35%) 2.4974\n",
            "1m 48s (40000 40%) 2.1614\n",
            "2m 3s (45000 45%) 2.5393\n",
            "2m 17s (50000 50%) 2.2101\n",
            "2m 30s (55000 55%) 2.4095\n",
            "2m 44s (60000 60%) 2.6098\n",
            "2m 58s (65000 65%) 2.9114\n",
            "3m 11s (70000 70%) 2.5226\n",
            "3m 25s (75000 75%) 2.4548\n",
            "3m 38s (80000 80%) 2.6964\n",
            "3m 52s (85000 85%) 2.4946\n",
            "4m 6s (90000 90%) 1.1339\n",
            "4m 20s (95000 95%) 2.9691\n",
            "4m 33s (100000 100%) 2.8107\n"
          ],
          "name": "stdout"
        }
      ]
    },
    {
      "cell_type": "code",
      "metadata": {
        "id": "y_m3ZYbnKWK4",
        "colab_type": "code",
        "outputId": "edccea86-1667-4ee3-dbbf-d0c9961ae8b7",
        "colab": {
          "base_uri": "https://localhost:8080/",
          "height": 286
        }
      },
      "source": [
        "import matplotlib.pyplot as plt\n",
        "import matplotlib.ticker as ticker\n",
        "\n",
        "plt.figure()\n",
        "plt.plot(all_losses)"
      ],
      "execution_count": 0,
      "outputs": [
        {
          "output_type": "execute_result",
          "data": {
            "text/plain": [
              "[<matplotlib.lines.Line2D at 0x7f66d3c9edd8>]"
            ]
          },
          "metadata": {
            "tags": []
          },
          "execution_count": 69
        },
        {
          "output_type": "display_data",
          "data": {
            "image/png": "[encoded data removed]",
            "text/plain": [
              "<Figure size 432x288 with 1 Axes>"
            ]
          },
          "metadata": {
            "tags": []
          }
        }
      ]
    },
    {
      "cell_type": "code",
      "metadata": {
        "id": "vVhqFsfQNacR",
        "colab_type": "code",
        "colab": {}
      },
      "source": [
        "max_length = 20\n",
        "\n",
        "# Sample from a category and starting letter\n",
        "def sample(category, start_letter='A'):\n",
        "    with torch.no_grad():\n",
        "        cat_tensor = category_tensor(category)\n",
        "        input_line_tensor = input_tensor(start_letter)\n",
        "        hidden = rnn.init_hidden()\n",
        "        \n",
        "        output_name = start_letter\n",
        "        \n",
        "        for i in range(max_length):\n",
        "            output, hidden = rnn(cat_tensor, input_line_tensor[0], hidden)\n",
        "            topv, topi = output.topk(1)\n",
        "            topi = topi[0][0]\n",
        "            if topi == n_letters - 1:\n",
        "                break\n",
        "            else:\n",
        "                letter = all_letters[topi]\n",
        "                output_name += letter\n",
        "            input_line_tensor = input_tensor(letter)\n",
        "            \n",
        "        return output_name\n",
        "    \n",
        "    \n",
        "def samples(category, start_letters='ABC'):\n",
        "    for start_letter in start_letters:\n",
        "        print(sample(category, start_letter))"
      ],
      "execution_count": 0,
      "outputs": []
    },
    {
      "cell_type": "code",
      "metadata": {
        "id": "A0mOTCAhOpeS",
        "colab_type": "code",
        "outputId": "547e70ad-854d-4c06-f35d-aedf21bf0390",
        "colab": {
          "base_uri": "https://localhost:8080/",
          "height": 225
        }
      },
      "source": [
        "samples('Russian', 'RUS')\n",
        "\n",
        "samples('German', 'GER')\n",
        "\n",
        "samples('Spanish', 'SPA')\n",
        "\n",
        "samples('Chinese', 'CHI')"
      ],
      "execution_count": 0,
      "outputs": [
        {
          "output_type": "stream",
          "text": [
            "Rovakov\n",
            "Uarishiv\n",
            "Sankinov\n",
            "Garter\n",
            "Erer\n",
            "Roskers\n",
            "Sollo\n",
            "Parer\n",
            "Allan\n",
            "Can\n",
            "Han\n",
            "Iun\n"
          ],
          "name": "stdout"
        }
      ]
    },
    {
      "cell_type": "code",
      "metadata": {
        "id": "VMjP_w1SOtYi",
        "colab_type": "code",
        "colab": {}
      },
      "source": [
        ""
      ],
      "execution_count": 0,
      "outputs": []
    }
  ]
}