{
  "nbformat": 4,
  "nbformat_minor": 0,
  "metadata": {
    "colab": {
      "name": "02b_initializing.ipynb",
      "version": "0.3.2",
      "provenance": []
    },
    "kernelspec": {
      "name": "python3",
      "display_name": "Python 3"
    },
    "accelerator": "GPU"
  },
  "cells": [
    {
      "cell_type": "code",
      "metadata": {
        "id": "7WkO63FN2eHH",
        "colab_type": "code",
        "colab": {}
      },
      "source": [
        "import torch"
      ],
      "execution_count": 0,
      "outputs": []
    },
    {
      "cell_type": "markdown",
      "metadata": {
        "id": "2R0xAJvP48sE",
        "colab_type": "text"
      },
      "source": [
        "## Why you need a good init\n",
        "\n",
        "To understand why initialization is important in a neural net, we'll focus on the basic operation we have there: matrix multiplications. So let's just take a vector x, and a matrix a initialized randomly, then multiply them 100 times (as if we had 100 layers)."
      ]
    },
    {
      "cell_type": "code",
      "metadata": {
        "id": "fZstSJMC2ik5",
        "colab_type": "code",
        "colab": {}
      },
      "source": [
        "x = torch.randn(512)\n",
        "a = torch.randn(512, 512)"
      ],
      "execution_count": 0,
      "outputs": []
    },
    {
      "cell_type": "code",
      "metadata": {
        "id": "1sd2xSY72pZw",
        "colab_type": "code",
        "colab": {}
      },
      "source": [
        "for i in range(100):\n",
        "    x = a @ x"
      ],
      "execution_count": 0,
      "outputs": []
    },
    {
      "cell_type": "code",
      "metadata": {
        "id": "oW1soBER2uBf",
        "colab_type": "code",
        "colab": {
          "base_uri": "https://localhost:8080/",
          "height": 33
        },
        "outputId": "82440707-fcaf-4938-8572-bd902d19ccc9"
      },
      "source": [
        "x.mean(), x.std()"
      ],
      "execution_count": 4,
      "outputs": [
        {
          "output_type": "execute_result",
          "data": {
            "text/plain": [
              "(tensor(nan), tensor(nan))"
            ]
          },
          "metadata": {
            "tags": []
          },
          "execution_count": 4
        }
      ]
    },
    {
      "cell_type": "markdown",
      "metadata": {
        "id": "GroKFb-Q5HrG",
        "colab_type": "text"
      },
      "source": [
        "The problem we'll get with that is activation explosion: very soon, your activations will go to nan. We can even ask the loop to break when that first happens."
      ]
    },
    {
      "cell_type": "code",
      "metadata": {
        "id": "rupVsjuQ2wVI",
        "colab_type": "code",
        "colab": {}
      },
      "source": [
        "x = torch.randn(512)\n",
        "a = torch.randn(512, 512)"
      ],
      "execution_count": 0,
      "outputs": []
    },
    {
      "cell_type": "code",
      "metadata": {
        "id": "KHicU4HQ22E_",
        "colab_type": "code",
        "colab": {}
      },
      "source": [
        "for i in range(100):\n",
        "    x = a @ x\n",
        "    if x.std() != x.std():\n",
        "        break"
      ],
      "execution_count": 0,
      "outputs": []
    },
    {
      "cell_type": "code",
      "metadata": {
        "id": "ai-xu1_R29oG",
        "colab_type": "code",
        "colab": {
          "base_uri": "https://localhost:8080/",
          "height": 33
        },
        "outputId": "39170ec8-ffc0-425d-9a35-7acdc540c05f"
      },
      "source": [
        "i"
      ],
      "execution_count": 7,
      "outputs": [
        {
          "output_type": "execute_result",
          "data": {
            "text/plain": [
              "28"
            ]
          },
          "metadata": {
            "tags": []
          },
          "execution_count": 7
        }
      ]
    },
    {
      "cell_type": "markdown",
      "metadata": {
        "id": "O-5nfh5Z5Okq",
        "colab_type": "text"
      },
      "source": [
        "It only takes around 30 multiplications! On the other hand, if you initialize your activations with a scale that is too low, then you'll get another problem."
      ]
    },
    {
      "cell_type": "code",
      "metadata": {
        "id": "rA3c9i132-72",
        "colab_type": "code",
        "colab": {}
      },
      "source": [
        "x = torch.randn(512)\n",
        "a = torch.randn(512, 512) * 0.01"
      ],
      "execution_count": 0,
      "outputs": []
    },
    {
      "cell_type": "code",
      "metadata": {
        "id": "FNvc7O2h3Gdl",
        "colab_type": "code",
        "colab": {}
      },
      "source": [
        "for i in range(100):\n",
        "    x = a @ x"
      ],
      "execution_count": 0,
      "outputs": []
    },
    {
      "cell_type": "code",
      "metadata": {
        "id": "2ZSPyhv73L9c",
        "colab_type": "code",
        "colab": {
          "base_uri": "https://localhost:8080/",
          "height": 33
        },
        "outputId": "7db3f019-f8a7-4177-c98a-c339a1964987"
      },
      "source": [
        "x.mean(), x.std()"
      ],
      "execution_count": 10,
      "outputs": [
        {
          "output_type": "execute_result",
          "data": {
            "text/plain": [
              "(tensor(0.), tensor(0.))"
            ]
          },
          "metadata": {
            "tags": []
          },
          "execution_count": 10
        }
      ]
    },
    {
      "cell_type": "markdown",
      "metadata": {
        "id": "uZOhod0h5X8D",
        "colab_type": "text"
      },
      "source": [
        "Here, every activation vanished to 0."
      ]
    },
    {
      "cell_type": "code",
      "metadata": {
        "id": "m5n-MMSY5XIx",
        "colab_type": "code",
        "colab": {}
      },
      "source": [
        "for i in range(100):\n",
        "    x = a @ x\n",
        "    if x.std == 0:\n",
        "        break"
      ],
      "execution_count": 0,
      "outputs": []
    },
    {
      "cell_type": "code",
      "metadata": {
        "id": "zKYsHGXw5eTG",
        "colab_type": "code",
        "colab": {
          "base_uri": "https://localhost:8080/",
          "height": 33
        },
        "outputId": "ca507bea-3e75-4147-a007-2af82fa48eaa"
      },
      "source": [
        "i"
      ],
      "execution_count": 25,
      "outputs": [
        {
          "output_type": "execute_result",
          "data": {
            "text/plain": [
              "99"
            ]
          },
          "metadata": {
            "tags": []
          },
          "execution_count": 25
        }
      ]
    },
    {
      "cell_type": "markdown",
      "metadata": {
        "id": "fquIW2QZ5oCA",
        "colab_type": "text"
      },
      "source": [
        "So to avoid that problem, people have come with several strategies to initialize their weight matrices, such as:\n",
        " \n",
        "- use a standard deviation that will make sure x and Ax have exactly the same scale\n",
        "- use an orthogonal matrix to initialize the weight (orthogonal matrices have the special property that they preserve the L2 norm, so x and Ax would have the same sum of squares in that case)\n",
        "- use spectral normalization on the matrix A (the spectral norm of A is the least possible number M such that torch.norm(A@x) <= M*torch.norm(x) so dividing A by this M insures you don't overflow. You can still vanish with this)"
      ]
    },
    {
      "cell_type": "markdown",
      "metadata": {
        "id": "6AIANnzd561f",
        "colab_type": "text"
      },
      "source": [
        "## The magic number for scaling\n",
        "\n",
        "Here we will focus on the first one, which is the Xavier initialization. It tells us that we should use a scale equal to 1/math.sqrt(n_in) where n_in is the number of inputs of our matrix."
      ]
    },
    {
      "cell_type": "code",
      "metadata": {
        "id": "HGp1cjHG3NoE",
        "colab_type": "code",
        "colab": {}
      },
      "source": [
        "import math"
      ],
      "execution_count": 0,
      "outputs": []
    },
    {
      "cell_type": "code",
      "metadata": {
        "id": "bohZE-So3XEZ",
        "colab_type": "code",
        "colab": {}
      },
      "source": [
        "x = torch.randn(512)\n",
        "a = torch.randn(512, 512) / math.sqrt(512)"
      ],
      "execution_count": 0,
      "outputs": []
    },
    {
      "cell_type": "code",
      "metadata": {
        "id": "i1MtS4CJ3chp",
        "colab_type": "code",
        "colab": {}
      },
      "source": [
        "for i in range(100):\n",
        "    x = a @ x"
      ],
      "execution_count": 0,
      "outputs": []
    },
    {
      "cell_type": "code",
      "metadata": {
        "id": "0SPEf9hK3gWK",
        "colab_type": "code",
        "colab": {
          "base_uri": "https://localhost:8080/",
          "height": 33
        },
        "outputId": "947a6ae2-81cc-440e-c41c-2a583737d15b"
      },
      "source": [
        "x.mean(), x.std()"
      ],
      "execution_count": 29,
      "outputs": [
        {
          "output_type": "execute_result",
          "data": {
            "text/plain": [
              "(tensor(0.1432), tensor(3.7354))"
            ]
          },
          "metadata": {
            "tags": []
          },
          "execution_count": 29
        }
      ]
    },
    {
      "cell_type": "code",
      "metadata": {
        "id": "2LB8IsBE3inZ",
        "colab_type": "code",
        "colab": {
          "base_uri": "https://localhost:8080/",
          "height": 33
        },
        "outputId": "91d654ba-0a3f-4f9a-b236-bf452ff6cd0c"
      },
      "source": [
        "1/ math.sqrt(512)"
      ],
      "execution_count": 30,
      "outputs": [
        {
          "output_type": "execute_result",
          "data": {
            "text/plain": [
              "0.044194173824159216"
            ]
          },
          "metadata": {
            "tags": []
          },
          "execution_count": 30
        }
      ]
    },
    {
      "cell_type": "markdown",
      "metadata": {
        "id": "oWWK9FnV6U2U",
        "colab_type": "text"
      },
      "source": [
        "But where does it come from? It's not that mysterious if you remember the definition of the matrix multiplication. When we do y = a @ x, the coefficients of y are defined by\n",
        "\n",
        "$$y_{i} = a_{i,0} x_{0} + a_{i,1} x_{1} + \\cdots + a_{i,n-1} x_{n-1} = \\sum_{k=0}^{n-1} a_{i,k} x_{k}$$\n",
        "or in code:\n",
        "\n",
        "y[i] = sum([c*d for c,d in zip(a[i], x)])\n",
        "Now at the very beginning, our x vector has a mean of roughly 0. and a standard deviation of roughly 1."
      ]
    },
    {
      "cell_type": "code",
      "metadata": {
        "id": "nry1QWgr3m_J",
        "colab_type": "code",
        "colab": {
          "base_uri": "https://localhost:8080/",
          "height": 33
        },
        "outputId": "6388ae5b-6b0f-4db0-bf58-ceb2a29fe69f"
      },
      "source": [
        "x = torch.randn(512)\n",
        "x.mean(), x.std()"
      ],
      "execution_count": 16,
      "outputs": [
        {
          "output_type": "execute_result",
          "data": {
            "text/plain": [
              "(tensor(-0.0576), tensor(1.0152))"
            ]
          },
          "metadata": {
            "tags": []
          },
          "execution_count": 16
        }
      ]
    },
    {
      "cell_type": "markdown",
      "metadata": {
        "id": "zwefJd8L6c95",
        "colab_type": "text"
      },
      "source": [
        "NB: This is why it's extremely important to normalize your inputs in Deep Learning, the initialization rules have been designed with inputs that have a mean 0. and a standard deviation of 1.\n",
        "\n",
        "If you need a refresher from your statistics course, the mean is the sum of all the elements divided by the number of elements (a basic average). The standard deviation shows whether the data points stay close to the mean or are far away from it. It's computed by the following formula:\n",
        "\n",
        "$$\\sigma = \\sqrt{\\frac{1}{n}\\left[(x_{0}-m)^{2} + (x_{1}-m)^{2} + \\cdots + (x_{n-1}-m)^{2}\\right]}$$\n",
        "where m is the mean and $\\sigma$ (the greek letter sigma) is the standard deviation. To avoid that square root, we also often consider a quantity called the variance, which is $\\sigma$ squared.\n",
        "\n",
        "Here we have a mean of 0, so the variance is just the mean of x squared, and the standard deviation is its square root.\n",
        "\n",
        "If we go back to y = a @ x and assume that we chose weights for a that also have a mean of 0, we can compute the variance of y quite easily. Since it's random, and we may fall on bad numbers, we repeat the operation 100 times."
      ]
    },
    {
      "cell_type": "code",
      "metadata": {
        "id": "4-sKAmkR3v0C",
        "colab_type": "code",
        "colab": {
          "base_uri": "https://localhost:8080/",
          "height": 33
        },
        "outputId": "3962d825-ab00-464d-a358-9c7b57582d52"
      },
      "source": [
        "mean,sqr = 0.,0.\n",
        "for i in range(100):\n",
        "    x = torch.randn(512)\n",
        "    a = torch.randn(512, 512)\n",
        "    y = a @ x\n",
        "    mean += y.mean().item()\n",
        "    sqr  += y.pow(2).mean().item()\n",
        "mean/100,sqr/100"
      ],
      "execution_count": 31,
      "outputs": [
        {
          "output_type": "execute_result",
          "data": {
            "text/plain": [
              "(-0.12716790169477463, 512.9975775146485)"
            ]
          },
          "metadata": {
            "tags": []
          },
          "execution_count": 31
        }
      ]
    },
    {
      "cell_type": "markdown",
      "metadata": {
        "id": "bAyyu9HU7J8d",
        "colab_type": "text"
      },
      "source": [
        "Now that looks very close to the dimension of our matrix 512. And that's no coincidence! When you compute y, you sum 512 product of one element of a by one element of x. So what's the mean and the standard deviation of such a product of one element of a by one element of x? We can show mathematically that as long as the elements in a and the elements in x are independent, the mean is 0 and the std is 1."
      ]
    },
    {
      "cell_type": "code",
      "metadata": {
        "id": "sN89EDa737d7",
        "colab_type": "code",
        "colab": {
          "base_uri": "https://localhost:8080/",
          "height": 33
        },
        "outputId": "a43c2501-f9f1-408e-f1f0-9ec880e57b41"
      },
      "source": [
        "mean,sqr = 0.,0.\n",
        "for i in range(10000):\n",
        "    x = torch.randn(1)\n",
        "    a = torch.randn(1)\n",
        "    y = a*x\n",
        "    mean += y.item()\n",
        "    sqr  += y.pow(2).item()\n",
        "mean/10000,math.sqrt(sqr/10000)"
      ],
      "execution_count": 32,
      "outputs": [
        {
          "output_type": "execute_result",
          "data": {
            "text/plain": [
              "(-0.005341660951716995, 0.9796729761921331)"
            ]
          },
          "metadata": {
            "tags": []
          },
          "execution_count": 32
        }
      ]
    },
    {
      "cell_type": "markdown",
      "metadata": {
        "id": "XbtpJdSV7PoP",
        "colab_type": "text"
      },
      "source": [
        "Then we sum 512 of those things that have a mean of zero, and a variance of 1, so we get something that has a mean of 0, and variance of 512. To go to the standard deviation, we have to add a square root, hence math.sqrt(512) being our magic number.\n",
        "\n",
        "If we scale the weights of the matrix a and divide them by this math.sqrt(512), it will give us a y of scale 1, and repeating the product as many times as we want and it won't overflow or vanish."
      ]
    },
    {
      "cell_type": "markdown",
      "metadata": {
        "id": "qkx4oOvr7cVu",
        "colab_type": "text"
      },
      "source": [
        "## Adding ReLU in the mix\n",
        "\n",
        "We can reproduce the previous experiment with a ReLU, to see that this time, the mean shifts and the variance becomes 0.5. This time the magic number will be math.sqrt(2/512) to properly scale the weights of the matrix."
      ]
    },
    {
      "cell_type": "code",
      "metadata": {
        "id": "_lh4krPN4Q1g",
        "colab_type": "code",
        "colab": {
          "base_uri": "https://localhost:8080/",
          "height": 33
        },
        "outputId": "473480cd-32a2-4295-8561-e1014d66d27a"
      },
      "source": [
        "mean,sqr = 0.,0.\n",
        "for i in range(10000):\n",
        "    x = torch.randn(1)\n",
        "    a = torch.randn(1)\n",
        "    y = a*x\n",
        "    y = 0 if y < 0 else y.item()\n",
        "    mean += y\n",
        "    sqr  += y ** 2\n",
        "mean/10000,sqr/10000"
      ],
      "execution_count": 19,
      "outputs": [
        {
          "output_type": "execute_result",
          "data": {
            "text/plain": [
              "(0.32445738581195677, 0.5107410284328188)"
            ]
          },
          "metadata": {
            "tags": []
          },
          "execution_count": 19
        }
      ]
    },
    {
      "cell_type": "markdown",
      "metadata": {
        "id": "7eFFTMA77nXi",
        "colab_type": "text"
      },
      "source": [
        "We can double check by running the experiment on the whole matrix product. The variance becomes 512/2 this time:"
      ]
    },
    {
      "cell_type": "code",
      "metadata": {
        "id": "Llt_ISS84kFz",
        "colab_type": "code",
        "colab": {
          "base_uri": "https://localhost:8080/",
          "height": 33
        },
        "outputId": "bd82d255-edef-4128-c9ec-213bebd6589e"
      },
      "source": [
        "mean,sqr = 0.,0.\n",
        "for i in range(100):\n",
        "    x = torch.randn(512)\n",
        "    a = torch.randn(512, 512)\n",
        "    y = a @ x\n",
        "    y = y.clamp(min=0)\n",
        "    mean += y.mean().item()\n",
        "    sqr  += y.pow(2).mean().item()\n",
        "mean/100,sqr/100"
      ],
      "execution_count": 20,
      "outputs": [
        {
          "output_type": "execute_result",
          "data": {
            "text/plain": [
              "(8.999300966262817, 253.9831100463867)"
            ]
          },
          "metadata": {
            "tags": []
          },
          "execution_count": 20
        }
      ]
    },
    {
      "cell_type": "markdown",
      "metadata": {
        "id": "otI8msrc7rNU",
        "colab_type": "text"
      },
      "source": [
        "Or that scaling the coefficient with the magic number gives us a scale of 1."
      ]
    },
    {
      "cell_type": "code",
      "metadata": {
        "id": "9rnc4RHH4oVc",
        "colab_type": "code",
        "colab": {
          "base_uri": "https://localhost:8080/",
          "height": 33
        },
        "outputId": "a1b141fa-1efe-4a1f-de4f-3d37c4f63256"
      },
      "source": [
        "mean,sqr = 0.,0.\n",
        "for i in range(100):\n",
        "    x = torch.randn(512)\n",
        "    a = torch.randn(512, 512) * math.sqrt(2/512)\n",
        "    y = a @ x\n",
        "    y = y.clamp(min=0)\n",
        "    mean += y.mean().item()\n",
        "    sqr  += y.pow(2).mean().item()\n",
        "mean/100,math.sqrt(sqr/100)"
      ],
      "execution_count": 21,
      "outputs": [
        {
          "output_type": "execute_result",
          "data": {
            "text/plain": [
              "(0.5615067800879479, 0.9953371976126716)"
            ]
          },
          "metadata": {
            "tags": []
          },
          "execution_count": 21
        }
      ]
    },
    {
      "cell_type": "code",
      "metadata": {
        "id": "z-wIsATI4thl",
        "colab_type": "code",
        "colab": {}
      },
      "source": [
        ""
      ],
      "execution_count": 0,
      "outputs": []
    }
  ]
}