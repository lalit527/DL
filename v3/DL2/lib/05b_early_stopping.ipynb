{
 "cells": [
  {
   "cell_type": "code",
   "execution_count": 2,
   "metadata": {},
   "outputs": [],
   "source": [
    "%reload_ext autoreload\n",
    "%autoreload 2\n",
    "\n",
    "%matplotlib inline"
   ]
  },
  {
   "cell_type": "code",
   "execution_count": 3,
   "metadata": {},
   "outputs": [],
   "source": [
    "#export\n",
    "from exp.nb_05 import *"
   ]
  },
  {
   "cell_type": "markdown",
   "metadata": {},
   "source": [
    "## Early Stopping"
   ]
  },
  {
   "cell_type": "markdown",
   "metadata": {},
   "source": [
    "### Better callback cancellation"
   ]
  },
  {
   "cell_type": "code",
   "execution_count": 4,
   "metadata": {},
   "outputs": [],
   "source": [
    "x_train, y_train, x_valid, y_valid = get_data()\n",
    "train_ds, valid_ds = Dataset(x_train, y_train), Dataset(x_valid, y_valid)\n",
    "nb, bs = 50, 512\n",
    "c = y_train.max().item()+1\n",
    "loss_func = F.cross_entropy"
   ]
  },
  {
   "cell_type": "code",
   "execution_count": 5,
   "metadata": {},
   "outputs": [],
   "source": [
    "data = DataBunch(*get_dls(train_ds, valid_ds, bs), c)"
   ]
  },
  {
   "cell_type": "code",
   "execution_count": 24,
   "metadata": {},
   "outputs": [],
   "source": [
    "#export\n",
    "class Callback():\n",
    "    _order=0\n",
    "    def set_runner(self, run):\n",
    "        self.run = run\n",
    "    def __getattr__(self, k):\n",
    "        return getattr(self.run, k)\n",
    "    \n",
    "    @property\n",
    "    def name(self):\n",
    "        name = re.sub(r'Callback$', '', self.__class__.__name__)\n",
    "        return camel2snake(name or 'callback')\n",
    "    \n",
    "    def __call__(self, cb_name):\n",
    "        f = getattr(self, cb_name, None)\n",
    "        if f and f():\n",
    "            return True\n",
    "        return False\n",
    "    \n",
    "\n",
    "class TrainEvalCallback(Callback):\n",
    "    def begin_fit(self):\n",
    "        self.run.n_epochs=0.\n",
    "        self.run.n_iter=0\n",
    "        \n",
    "    def after_batch(self):\n",
    "        if not self.in_train:\n",
    "            return\n",
    "        self.run.n_epochs += 1./self.iters\n",
    "        self.run.n_iter += 1\n",
    "        \n",
    "    def begin_epoch(self):\n",
    "        self.run.n_epochs=self.epoch\n",
    "        self.model.train()\n",
    "        self.run.in_train=True\n",
    "        \n",
    "    def begin_validate(self):\n",
    "        self.model.eval()\n",
    "        self.run.in_train=False\n",
    "        \n",
    "class CancelTrainException(Exception):\n",
    "    pass\n",
    "\n",
    "class CancelEpochException(Exception):\n",
    "    pass\n",
    "\n",
    "class CancelBatchException(Exception):\n",
    "    pass"
   ]
  },
  {
   "cell_type": "code",
   "execution_count": 25,
   "metadata": {},
   "outputs": [],
   "source": [
    "#export\n",
    "class Runner():\n",
    "    def __init__(self, cbs=None, cb_funcs=None):\n",
    "        self.in_train = False\n",
    "        cbs = listify(cbs)\n",
    "        for cbf in listify(cb_funcs):\n",
    "            cb = cbf()\n",
    "            setattr(self, cb.name, cb)\n",
    "            cbs.append(cb)\n",
    "        self.stop, self.cbs = False, [TrainEvalCallback()] + cbs\n",
    "        \n",
    "    @property\n",
    "    def opt(self):\n",
    "        return self.learn.opt\n",
    "    \n",
    "    @property\n",
    "    def model(self):\n",
    "        return self.learn.model\n",
    "    \n",
    "    @property\n",
    "    def loss_func(self):\n",
    "        return self.learn.loss_func\n",
    "    \n",
    "    @property\n",
    "    def data(self):\n",
    "        return self.learn.data\n",
    "    \n",
    "    def one_batch(self, xb, yb):\n",
    "        try:\n",
    "            self.xb, self.yb = xb, yb\n",
    "            self('begin_batch')\n",
    "            self.pred = self.model(self.xb)\n",
    "            self('after_pred')\n",
    "            self.loss = self.loss_func(self.pred, self.yb)\n",
    "            self('after_loss')\n",
    "            if not self.in_train:\n",
    "                return\n",
    "            self.loss.backward()\n",
    "            self('after_backward')\n",
    "            self.opt.step()\n",
    "            self('after_step')\n",
    "            self.opt.zero_grad()\n",
    "        except CancelBatchException:\n",
    "            self('after_cancel_batch')\n",
    "        finally:\n",
    "            self('after_batch')\n",
    "            \n",
    "    def all_batches(self, dl):\n",
    "        self.iters = len(dl)\n",
    "        try:\n",
    "            for xb, yb in dl:\n",
    "                self.one_batch(xb, yb)\n",
    "        except CancelEpochException:\n",
    "            self('after_cancel_epoch')\n",
    "            \n",
    "    def fit(self, epochs, learn):\n",
    "        self.epochs, self.learn, self.loss = epochs, learn, tensor(0.)\n",
    "        try:\n",
    "            for cb in self.cbs:\n",
    "                cb.set_runner(self)\n",
    "            self('begin_fit')\n",
    "            for epoch in range(epochs):\n",
    "                self.epoch = epoch\n",
    "                if not self('begin_epoch'):\n",
    "                    self.all_batches(self.data.train_dl)\n",
    "                with torch.no_grad():\n",
    "                    if not self('begin_validate'):\n",
    "                        self.all_batches(self.data.valid_dl)\n",
    "                self('after_epoch')\n",
    "        except CancelTrainException:\n",
    "            self('after_cancel_train')\n",
    "        finally:\n",
    "            self('after_fit')\n",
    "            self.learn = None\n",
    "            \n",
    "    def __call__(self, cb_name):\n",
    "        res = True\n",
    "        for cb in sorted(self.cbs, key= lambda x: x._order):\n",
    "            res = cb(cb_name) and res\n",
    "        return res\n",
    "    "
   ]
  },
  {
   "cell_type": "code",
   "execution_count": 26,
   "metadata": {},
   "outputs": [],
   "source": [
    "learn = create_learner(get_model, loss_func, data)"
   ]
  },
  {
   "cell_type": "code",
   "execution_count": 27,
   "metadata": {},
   "outputs": [],
   "source": [
    "class TestCallback(Callback):\n",
    "    _order = 1\n",
    "    def after_step(self):\n",
    "        print(self.n_iter)\n",
    "        if self.n_iter >= 10:\n",
    "            raise CancelTrainException()"
   ]
  },
  {
   "cell_type": "code",
   "execution_count": 28,
   "metadata": {},
   "outputs": [],
   "source": [
    "run = Runner(cb_funcs=TestCallback)"
   ]
  },
  {
   "cell_type": "code",
   "execution_count": 29,
   "metadata": {},
   "outputs": [
    {
     "name": "stdout",
     "output_type": "stream",
     "text": [
      "0\n",
      "1\n",
      "2\n",
      "3\n",
      "4\n",
      "5\n",
      "6\n",
      "7\n",
      "8\n",
      "9\n",
      "10\n"
     ]
    }
   ],
   "source": [
    "run.fit(3, learn)"
   ]
  },
  {
   "cell_type": "markdown",
   "metadata": {},
   "source": [
    "### Other callbacks"
   ]
  },
  {
   "cell_type": "code",
<<<<<<< HEAD
   "execution_count": 48,
=======
   "execution_count": 30,
>>>>>>> 085be678ea7a23ff7b89f7fb345197dfd195a127
   "metadata": {},
   "outputs": [],
   "source": [
    "#export\n",
    "class AvgStatsCallback(Callback):\n",
    "    def __init__(self, metrics):\n",
    "        self.train_stats, self.valid_stats = AvgStats(metrics, True), AvgStats(metrics,False)\n",
    "    \n",
    "    def begin_epoch(self):\n",
    "        self.train_stats.reset()\n",
    "        self.valid_stats.reset()\n",
    "        \n",
    "    def after_loss(self):\n",
    "        stats = self.train_stats if self.in_train else self.valid_stats\n",
    "        with torch.no_grad():\n",
    "            stats.accumulate(self.run)\n",
    "            \n",
    "    def after_epoch(self):\n",
    "        print(self.train_stats)\n",
    "        print(self.valid_stats)\n",
    "        \n",
    "class Recorder(Callback):\n",
    "    def begin_fit(self):\n",
    "        self.lrs = [[] for _ in self.opt.param_groups]\n",
    "        self.losses = []\n",
    "        \n",
    "    def after_batch(self):\n",
    "        if not self.in_train:\n",
    "            return\n",
    "        for pg, lr in zip(self.opt.param_groups, self.lrs):\n",
    "            lr.append(pg['lr'])\n",
    "        self.losses.append(self.loss.detach().cpu())\n",
    "        \n",
    "    def plot_lr(self, pgid=-1):\n",
    "        plt.plot(self.lrs[pgid])\n",
    "        \n",
    "    def plot_loss(self, skip_last=0):\n",
    "        plt.plot(self.losses[:len(self.losses)-skip_last])\n",
    "        \n",
    "    def plot(self, skip_last=0, pgid=-1):\n",
    "        losses = [o.item() for o in self.losses]\n",
    "        lrs = self.lrs[pgid]\n",
    "        n = len(losses) - skip_last\n",
    "        plt.xscale('log')\n",
    "        plt.plot(lrs[:n], losses[:n])\n",
    "        \n",
    "class ParamScheduler(Callback):\n",
    "    _order=1\n",
    "    def __init__(self, pname, sched_funcs):\n",
    "        self.pname, self.sched_funcs = pname, sched_funcs\n",
    "        \n",
    "    def begin_fit(self):\n",
    "        if not isinstance(self.sched_funcs, (list, tuple)):\n",
    "            self.sched_funcs = [self.sched_funcs] * len(self.opt.param_groups)\n",
    "            \n",
    "    def set_param(self):\n",
    "        assert len(self.opt.param_groups) == len(self.sched_funcs)\n",
    "        for pg, f in zip(self.opt.param_groups, self.sched_funcs):\n",
    "            pg[self.pname] = f(self.n_epochs/self.epochs)\n",
    "            \n",
    "    def begin_batch(self):\n",
    "        if self.in_train:\n",
    "            self.set_param()"
   ]
  },
  {
   "cell_type": "markdown",
   "metadata": {},
   "source": [
    "### LR Finder"
   ]
  },
  {
   "cell_type": "markdown",
   "metadata": {},
   "source": [
    "NB: You may want to also add something that saves the model before running this, and loads it back after running - otherwise you'll lose your weights!"
   ]
  },
  {
   "cell_type": "code",
   "execution_count": 49,
   "metadata": {},
   "outputs": [],
   "source": [
    "#export\n",
    "class LR_Find(Callback):\n",
    "    _order=1\n",
    "    def __init__(self, max_iter=100, min_lr=1e-6, max_lr=10):\n",
    "        self.max_iter, self.min_lr, self.max_lr = max_iter, min_lr, max_lr\n",
    "        self.best_loss = 1e9\n",
    "        \n",
    "    def begin_batch(self):\n",
    "        if not self.in_train:\n",
    "            return\n",
    "        pos = self.n_iter / self.max_iter\n",
    "        lr = self.min_lr * (self.max_lr / self.min_lr) ** pos\n",
    "        for pg in self.opt.param_groups:\n",
    "            pg['lr'] = lr\n",
    "    \n",
    "    def after_step(self):\n",
    "        if self.n_iter >= self.max_iter or self.loss > self.best_loss * 10:\n",
    "            raise CancelTrainException()\n",
    "        if self.loss < self.best_loss:\n",
    "            self.best_loss = self.loss"
   ]
  },
  {
   "cell_type": "code",
   "execution_count": 50,
   "metadata": {},
   "outputs": [],
   "source": [
    "learn = create_learner(get_model, loss_func, data)"
   ]
  },
  {
   "cell_type": "code",
   "execution_count": 51,
   "metadata": {},
   "outputs": [],
   "source": [
    "run = Runner(cb_funcs=[LR_Find, Recorder])"
   ]
  },
  {
   "cell_type": "code",
   "execution_count": 52,
   "metadata": {},
   "outputs": [],
   "source": [
    "run.fit(2, learn)"
   ]
  },
  {
   "cell_type": "code",
   "execution_count": 54,
   "metadata": {},
   "outputs": [
    {
     "data": {
      "image/png": "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\n",
      "text/plain": [
       "<Figure size 432x288 with 1 Axes>"
      ]
     },
     "metadata": {
      "needs_background": "light"
     },
     "output_type": "display_data"
    }
   ],
   "source": [
    "run.recorder.plot()"
   ]
  },
  {
   "cell_type": "code",
   "execution_count": 55,
   "metadata": {},
   "outputs": [
    {
     "data": {
      "image/png": "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\n",
      "text/plain": [
       "<Figure size 432x288 with 1 Axes>"
      ]
     },
     "metadata": {
      "needs_background": "light"
     },
     "output_type": "display_data"
    }
   ],
   "source": [
    "run.recorder.plot_lr()"
   ]
  },
  {
   "cell_type": "code",
   "execution_count": 56,
   "metadata": {},
   "outputs": [
    {
     "name": "stdout",
     "output_type": "stream",
     "text": [
      "Converted 05b_early_stopping.ipynb to exp/nb_05b.py\r\n"
     ]
    }
   ],
   "source": [
    "!python notebook2script.py 05b_early_stopping.ipynb"
   ]
  },
  {
   "cell_type": "code",
   "execution_count": null,
   "metadata": {},
   "outputs": [],
   "source": []
  }
 ],
 "metadata": {
  "kernelspec": {
   "display_name": "Python 3",
   "language": "python",
   "name": "python3"
  },
  "language_info": {
   "codemirror_mode": {
    "name": "ipython",
    "version": 3
   },
   "file_extension": ".py",
   "mimetype": "text/x-python",
   "name": "python",
   "nbconvert_exporter": "python",
   "pygments_lexer": "ipython3",
   "version": "3.7.1"
  }
 },
 "nbformat": 4,
 "nbformat_minor": 2
}
