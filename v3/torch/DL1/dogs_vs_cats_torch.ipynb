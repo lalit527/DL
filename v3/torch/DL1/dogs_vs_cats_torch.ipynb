{
  "nbformat": 4,
  "nbformat_minor": 0,
  "metadata": {
    "colab": {
      "name": "dogs_vs_cats_torch.ipynb",
      "version": "0.3.2",
      "provenance": []
    },
    "kernelspec": {
      "name": "python3",
      "display_name": "Python 3"
    },
    "accelerator": "GPU"
  },
  "cells": [
    {
      "metadata": {
        "id": "MXiOCAIAeqaL",
        "colab_type": "code",
        "colab": {}
      },
      "cell_type": "code",
      "source": [
        "def extract_data(url, fname=None, dest=None, force_download=False):\n",
        "    from urllib.request import urlopen\n",
        "    from zipfile import ZipFile\n",
        "    import os\n",
        "    import shutil\n",
        "    from pathlib import Path\n",
        "    filename = url.rpartition('/')[2]\n",
        "    foldername = filename.split('.')[0]\n",
        "    if os.path.exists(f'{dest}/{foldername}'):\n",
        "        print('Already Downloaded')\n",
        "        if force_download:\n",
        "            print('Removing Old Downloaded')\n",
        "            shutil.rmtree(f'{dest}/{foldername}')\n",
        "        else:\n",
        "            return Path(f'{dest}/{foldername}')\n",
        "    print('Downloading from remote server')\n",
        "    response = urlopen(url)\n",
        "    if dest is None: dest = '.'\n",
        "    tmpzip = open(f'{dest}/{filename}', 'wb')\n",
        "    tmpzip.write(response.read())\n",
        "    tmpzip.close()\n",
        "    if (filename.endswith(\"zip\")):\n",
        "        zf = ZipFile(f'{dest}/{filename}')\n",
        "        zf.extractall(path = dest)\n",
        "        zf.close()\n",
        "    elif (filename.endswith(\"tar.gz\") or filename.endswith(\"tgz\")):\n",
        "        tar = tarfile.open(filename, \"r:gz\")\n",
        "        tar.extractall(path = dest)\n",
        "        tar.close()\n",
        "    elif (filename.endswith(\"tar\")):\n",
        "        tar = tarfile.open(filename, \"r:\")\n",
        "        tar.extractall(path = dest)\n",
        "        tar.close()\n",
        "    os.remove(f'{dest}/{filename}')\n",
        "    return Path(f'{dest}/{foldername}')"
      ],
      "execution_count": 0,
      "outputs": []
    },
    {
      "metadata": {
        "id": "GKmqB2wysEeD",
        "colab_type": "code",
        "colab": {}
      },
      "cell_type": "code",
      "source": [
        "import torch\n",
        "import torch.nn as nn\n",
        "import torch.nn.functional as F\n",
        "import torch.optim as optim\n",
        "from torch.optim import lr_scheduler\n",
        "from torch.utils.data import Dataset, DataLoader\n",
        "from torchvision import transforms, utils, models, transforms, datasets\n",
        "import matplotlib.pyplot as plt\n",
        "import time\n",
        "import os\n",
        "import copy\n",
        "from pathlib import Path\n",
        "from PIL import Image\n",
        "import numpy as np"
      ],
      "execution_count": 0,
      "outputs": []
    },
    {
      "metadata": {
        "id": "NA_tQ4ZPohOc",
        "colab_type": "code",
        "colab": {}
      },
      "cell_type": "code",
      "source": [
        "device = torch.device(\"cuda:0\" if torch.cuda.is_available() else \"cpu\")"
      ],
      "execution_count": 0,
      "outputs": []
    },
    {
      "metadata": {
        "id": "pAQr2UrWoigG",
        "colab_type": "code",
        "colab": {
          "base_uri": "https://localhost:8080/",
          "height": 34
        },
        "outputId": "58587673-3e1d-48e8-d40c-ac1c6c470ec0"
      },
      "cell_type": "code",
      "source": [
        "device"
      ],
      "execution_count": 29,
      "outputs": [
        {
          "output_type": "execute_result",
          "data": {
            "text/plain": [
              "device(type='cuda', index=0)"
            ]
          },
          "metadata": {
            "tags": []
          },
          "execution_count": 29
        }
      ]
    },
    {
      "metadata": {
        "id": "S-CHyiqce2Bn",
        "colab_type": "code",
        "colab": {
          "base_uri": "https://localhost:8080/",
          "height": 123
        },
        "outputId": "ec0aef8e-bcbd-426e-e409-83af79bba037"
      },
      "cell_type": "code",
      "source": [
        "path = extract_data('http://files.fast.ai/data/dogscats.zip', dest='sample_data')\n",
        "list(iter(path.iterdir()))"
      ],
      "execution_count": 4,
      "outputs": [
        {
          "output_type": "stream",
          "text": [
            "Downloading from remote server\n"
          ],
          "name": "stdout"
        },
        {
          "output_type": "execute_result",
          "data": {
            "text/plain": [
              "[PosixPath('sample_data/dogscats/models'),\n",
              " PosixPath('sample_data/dogscats/valid'),\n",
              " PosixPath('sample_data/dogscats/train'),\n",
              " PosixPath('sample_data/dogscats/sample'),\n",
              " PosixPath('sample_data/dogscats/test1')]"
            ]
          },
          "metadata": {
            "tags": []
          },
          "execution_count": 4
        }
      ]
    },
    {
      "metadata": {
        "id": "V5FgFkLWgpVQ",
        "colab_type": "code",
        "colab": {}
      },
      "cell_type": "code",
      "source": [
        "path_train = path/'train'\n",
        "path_valid = path/'valid'\n",
        "path_test  = path/'test1'"
      ],
      "execution_count": 0,
      "outputs": []
    },
    {
      "metadata": {
        "id": "46I3oYCTtGML",
        "colab_type": "code",
        "colab": {}
      },
      "cell_type": "code",
      "source": [
        "size=224\n",
        "batch = 64 "
      ],
      "execution_count": 0,
      "outputs": []
    },
    {
      "metadata": {
        "id": "jjGMibCMl1HN",
        "colab_type": "code",
        "colab": {}
      },
      "cell_type": "code",
      "source": [
        "imagenet_stats = ([0.485, 0.456, 0.406], [0.229, 0.224, 0.225])"
      ],
      "execution_count": 0,
      "outputs": []
    },
    {
      "metadata": {
        "id": "_s_CVBvZsxQU",
        "colab_type": "code",
        "colab": {}
      },
      "cell_type": "code",
      "source": [
        "data_transforms = {\n",
        "    'train': transforms.Compose([\n",
        "        transforms.RandomResizedCrop(size),\n",
        "        transforms.RandomHorizontalFlip(),\n",
        "        transforms.ToTensor(),\n",
        "        transforms.Normalize(*imagenet_stats),\n",
        "    ]),\n",
        "    'valid': transforms.Compose([\n",
        "        transforms.Resize(size),\n",
        "        transforms.CenterCrop(size),\n",
        "        transforms.ToTensor(),\n",
        "        transforms.Normalize(*imagenet_stats)\n",
        "    ]),\n",
        "    'test': transforms.Compose([\n",
        "        transforms.Resize(size),\n",
        "        transforms.CenterCrop(size),\n",
        "        transforms.ToTensor(),\n",
        "        transforms.Normalize(*imagenet_stats)\n",
        "    ])\n",
        "}"
      ],
      "execution_count": 0,
      "outputs": []
    },
    {
      "metadata": {
        "id": "XaTyJlipwWSN",
        "colab_type": "code",
        "colab": {}
      },
      "cell_type": "code",
      "source": [
        "from skimage.io import imread"
      ],
      "execution_count": 0,
      "outputs": []
    },
    {
      "metadata": {
        "id": "GHYW1y-90TJS",
        "colab_type": "code",
        "colab": {}
      },
      "cell_type": "code",
      "source": [
        "class CustomImageDatset(Dataset):\n",
        "    def __init__(self, root_dir, train, transform=None,  mode='train'):\n",
        "        self.root_dir = root_dir\n",
        "        self.train = train\n",
        "        self.filenames = []\n",
        "        self.targets = []\n",
        "        self.transform = transform\n",
        "        \n",
        "        self.classes = os.listdir(f'{root_dir}/{train}')\n",
        "        self.c = len(self.classes)\n",
        "        for i, folder in enumerate(self.classes):\n",
        "            for name in os.listdir(f'{root_dir}/{train}/{folder}'):\n",
        "                self.filenames.append(f'{root_dir}/{train}/{folder}/{name}')\n",
        "                self.targets.append(i)\n",
        "        self.len = len(self.filenames)\n",
        "\n",
        "    def __len__(self):\n",
        "        return self.len\n",
        "    \n",
        "    def __getitem__(self, index):\n",
        "#         import pdb; pdb.set_trace();\n",
        "        img_name = self.filenames[index]\n",
        "        target = self.targets[index]\n",
        "        image = Image.open(img_name)\n",
        "        if self.transform:\n",
        "            image = self.transform(image)\n",
        "        image = image / 255\n",
        "        data = (image, target)\n",
        "        \n",
        "        return data"
      ],
      "execution_count": 0,
      "outputs": []
    },
    {
      "metadata": {
        "id": "sY2pNRHktjFm",
        "colab_type": "code",
        "colab": {}
      },
      "cell_type": "code",
      "source": [
        "train_datasets = CustomImageDatset(path, 'train', data_transforms['train'])\n",
        "valid_datasets = CustomImageDatset(path, 'valid', data_transforms['valid'])"
      ],
      "execution_count": 0,
      "outputs": []
    },
    {
      "metadata": {
        "id": "qmAFmmvW21Rj",
        "colab_type": "code",
        "colab": {}
      },
      "cell_type": "code",
      "source": [
        "train_dataloader = DataLoader(train_datasets, batch_size=batch, shuffle=True)\n",
        "valid_dataloader = DataLoader(valid_datasets, batch_size=batch, shuffle=False)"
      ],
      "execution_count": 0,
      "outputs": []
    },
    {
      "metadata": {
        "id": "jB5QpqFRAmeT",
        "colab_type": "code",
        "colab": {}
      },
      "cell_type": "code",
      "source": [
        "loaders = {\n",
        "    'train': train_dataloader,\n",
        "    'valid': valid_dataloader\n",
        "}"
      ],
      "execution_count": 0,
      "outputs": []
    },
    {
      "metadata": {
        "id": "riXsJxGPpwCa",
        "colab_type": "code",
        "colab": {}
      },
      "cell_type": "code",
      "source": [
        "# train_data = datasets.ImageFolder(train_dir, transform=data_transforms['train'])\n",
        "# valid_data = datasets.ImageFolder(valid_dir, transform=data_transforms['val'])\n",
        "# test_data = datasets.ImageFolder(test_dir, transform=data_transforms['test'])"
      ],
      "execution_count": 0,
      "outputs": []
    },
    {
      "metadata": {
        "id": "blfQPnIQGwOX",
        "colab_type": "code",
        "colab": {
          "base_uri": "https://localhost:8080/",
          "height": 72
        },
        "outputId": "2fd08de0-68df-46f3-e54f-46e14b282ff8"
      },
      "cell_type": "code",
      "source": [
        "arch = models.resnet34(pretrained=True)"
      ],
      "execution_count": 14,
      "outputs": [
        {
          "output_type": "stream",
          "text": [
            "Downloading: \"https://download.pytorch.org/models/resnet34-333f7ec4.pth\" to /root/.torch/models/resnet34-333f7ec4.pth\n",
            "87306240it [00:01, 49279970.07it/s]\n"
          ],
          "name": "stderr"
        }
      ]
    },
    {
      "metadata": {
        "id": "jbfaMx0MIfva",
        "colab_type": "code",
        "colab": {}
      },
      "cell_type": "code",
      "source": [
        "class Flatten(nn.Module):\n",
        "    def forward(self, input):\n",
        "        return input.view(input.size(0), -1)\n"
      ],
      "execution_count": 0,
      "outputs": []
    },
    {
      "metadata": {
        "id": "a6jntsEkG8Ik",
        "colab_type": "code",
        "colab": {}
      },
      "cell_type": "code",
      "source": [
        "# arch.fc = nn.Sequential(\n",
        "#   nn.AdaptiveAvgPool2d(output_size=1),\n",
        "#   nn.AdaptiveMaxPool2d(output_size=1),\n",
        "#   Flatten(),\n",
        "#   nn.BatchNorm1d(1024, eps=1e-05, momentum=0.1, affine=True, track_running_stats=True),\n",
        "#   nn.Dropout(p=0.25),\n",
        "#   nn.Linear(in_features=1024, out_features=512, bias=True),\n",
        "#   nn.ReLU(),\n",
        "#   nn.BatchNorm1d(512, eps=1e-05, momentum=0.1, affine=True, track_running_stats=True),\n",
        "#   nn.Dropout(p=0.5),\n",
        "#   nn.Linear(in_features=512, out_features=train_datasets.c, bias=True),\n",
        "# )\n",
        "\n",
        "arch.fc = nn.Linear(512, 2, bias=True)"
      ],
      "execution_count": 0,
      "outputs": []
    },
    {
      "metadata": {
        "id": "P3Pnld7fHnEz",
        "colab_type": "code",
        "colab": {}
      },
      "cell_type": "code",
      "source": [
        "arch"
      ],
      "execution_count": 0,
      "outputs": []
    },
    {
      "metadata": {
        "id": "BVvQusNJHnUx",
        "colab_type": "code",
        "colab": {}
      },
      "cell_type": "code",
      "source": [
        "arch = arch.cuda()"
      ],
      "execution_count": 0,
      "outputs": []
    },
    {
      "metadata": {
        "id": "htTtVVUowF7p",
        "colab_type": "code",
        "colab": {}
      },
      "cell_type": "code",
      "source": [
        "criterion = nn.CrossEntropyLoss()\n",
        "optimizer = optim.SGD(arch.parameters(), lr=1e-2, momentum=0.9)\n",
        "exp_lr_scheduler = lr_scheduler.StepLR(optimizer, step_size=7, gamma=0.1)"
      ],
      "execution_count": 0,
      "outputs": []
    },
    {
      "metadata": {
        "id": "T-OpQc380jJG",
        "colab_type": "code",
        "colab": {}
      },
      "cell_type": "code",
      "source": [
        "import time"
      ],
      "execution_count": 0,
      "outputs": []
    },
    {
      "metadata": {
        "id": "s2wgpBpAzPmF",
        "colab_type": "code",
        "colab": {}
      },
      "cell_type": "code",
      "source": [
        "# def train(epochs, loader, model, optimizer, criterion, save_path):\n",
        "#     since = time.time()\n",
        "#     val_acc_history = []\n",
        "#     best_model_wts = copy.deepcopy(model.state_dict())\n",
        "#     best_acc = 0.0\n",
        "    \n",
        "#     for epoch in range(1, epochs + 1):\n",
        "#         print('Epoch {}/{}'.format(epoch, epochs))\n",
        "#         print('-' * 10)\n",
        "        \n",
        "#         for phase in ['train', 'valid']:\n",
        "#             if phase == 'train':\n",
        "#                 model.train()\n",
        "#             else:\n",
        "#                 model.eval()\n",
        "                \n",
        "#             running_loss = 0.0\n",
        "#             running_corrects = 0\n",
        "#             for batch_idx, (data, target) in enumerate(loaders[phase]):\n",
        "#                 data, target = data.cuda(), target.cuda()\n",
        "#                 optimizer.zero_grad()\n",
        "                \n",
        "#                 with torch.set_grad_enabled(phase == 'train'):\n",
        "#                     outputs = model(data)\n",
        "#                     loss = criterion(outputs, target)\n",
        "#                     _, preds = torch.max(outputs, 1)\n",
        "#                 if phase == 'train':\n",
        "#                     loss.backward()\n",
        "#                     optimizer.step()\n",
        "\n",
        "#             # statistics\n",
        "#             running_loss += loss.item() * data.size(0)\n",
        "#             running_corrects += torch.sum(preds == target.data)            \n",
        "#         epoch_loss = running_loss / len(loaders[phase].dataset)\n",
        "#         epoch_acc = running_corrects.double() / len(loaders[phase].dataset)\n",
        "\n",
        "#         print('{} Loss: {:.4f} Acc: {:.4f}'.format(phase, epoch_loss, epoch_acc))\n",
        "#         # deep copy the model\n",
        "#         if phase == 'val' and epoch_acc > best_acc:\n",
        "#             best_acc = epoch_acc\n",
        "#             best_model_wts = copy.deepcopy(model.state_dict())\n",
        "#         if phase == 'val':\n",
        "#             val_acc_history.append(epoch_acc)\n",
        "#     print()\n",
        "#     time_elapsed = time.time() - since\n",
        "#     print('Training complete in {:.0f}m {:.0f}s'.format(time_elapsed // 60, time_elapsed % 60))\n",
        "#     print('Best val Acc: {:4f}'.format(best_acc))\n",
        "\n",
        "#     # load best model weights\n",
        "#     model.load_state_dict(best_model_wts)\n",
        "#     return model, val_acc_history\n",
        "\n"
      ],
      "execution_count": 0,
      "outputs": []
    },
    {
      "metadata": {
        "id": "boGHJ-DODyRX",
        "colab_type": "code",
        "colab": {}
      },
      "cell_type": "code",
      "source": [
        "def set_parameter_requires_grad(model, feature_extracting):\n",
        "    if feature_extracting:\n",
        "        for param in model.parameters():\n",
        "            param.requires_grad = False\n"
      ],
      "execution_count": 0,
      "outputs": []
    },
    {
      "metadata": {
        "id": "PFP8HrnoE-5I",
        "colab_type": "code",
        "colab": {}
      },
      "cell_type": "code",
      "source": [
        "feature_extract = True"
      ],
      "execution_count": 0,
      "outputs": []
    },
    {
      "metadata": {
        "id": "KI_ftMgmD9fB",
        "colab_type": "code",
        "colab": {}
      },
      "cell_type": "code",
      "source": [
        "params_to_update = arch.parameters()\n",
        "\n",
        "if feature_extract:\n",
        "    params_to_update = []\n",
        "    for name,param in arch.named_parameters():\n",
        "        if param.requires_grad == True:\n",
        "            params_to_update.append(param)\n",
        "#             print(\"\\t\",name)\n",
        "else:\n",
        "    for name,param in model_ft.named_parameters():\n",
        "        if param.requires_grad == True:\n",
        "            pass\n",
        "#             print(\"\\t\",name)"
      ],
      "execution_count": 0,
      "outputs": []
    },
    {
      "metadata": {
        "id": "xNxoA_dxm1Bs",
        "colab_type": "code",
        "colab": {}
      },
      "cell_type": "code",
      "source": [
        "set_parameter_requires_grad(arch, feature_extract)"
      ],
      "execution_count": 0,
      "outputs": []
    },
    {
      "metadata": {
        "id": "qdHKU0I0nJL4",
        "colab_type": "code",
        "colab": {}
      },
      "cell_type": "code",
      "source": [
        "for param in arch.fc.parameters():\n",
        "    param.requires_grad = True"
      ],
      "execution_count": 0,
      "outputs": []
    },
    {
      "metadata": {
        "id": "9HpQefpeoUSJ",
        "colab_type": "code",
        "colab": {}
      },
      "cell_type": "code",
      "source": [
        "def train_model(model, dataloaders, criterion, optimizer, scheduler, num_epochs=25):\n",
        "    since = time.time()\n",
        "\n",
        "    best_model_wts = copy.deepcopy(model.state_dict())\n",
        "    best_acc = 0.0\n",
        "\n",
        "    for epoch in range(num_epochs):\n",
        "        print('Epoch {}/{}'.format(epoch, num_epochs - 1))\n",
        "        print('-' * 10)\n",
        "\n",
        "        # Each epoch has a training and validation phase\n",
        "        for phase in ['train', 'valid']:\n",
        "            if phase == 'train':\n",
        "                scheduler.step()\n",
        "                model.train()  # Set model to training mode\n",
        "            else:\n",
        "                model.eval()   # Set model to evaluate mode\n",
        "\n",
        "            running_loss = 0.0\n",
        "            running_corrects = 0\n",
        "\n",
        "            # Iterate over data.\n",
        "            for inputs, labels in dataloaders[phase]:\n",
        "                inputs = inputs.to(device)\n",
        "                labels = labels.to(device)\n",
        "\n",
        "                # zero the parameter gradients\n",
        "                optimizer.zero_grad()\n",
        "\n",
        "                # forward\n",
        "                # track history if only in train\n",
        "                with torch.set_grad_enabled(phase == 'train'):\n",
        "                    outputs = model(inputs)\n",
        "                    _, preds = torch.max(outputs, 1)\n",
        "                    loss = criterion(outputs, labels)\n",
        "\n",
        "                    # backward + optimize only if in training phase\n",
        "                    if phase == 'train':\n",
        "                        loss.backward()\n",
        "                        optimizer.step()\n",
        "\n",
        "                # statistics\n",
        "                running_loss += loss.item() * inputs.size(0)\n",
        "                running_corrects += torch.sum(preds == labels.data)\n",
        "\n",
        "            epoch_loss = running_loss / len(loaders[phase].dataset)\n",
        "            epoch_acc = running_corrects.double() / len(loaders[phase].dataset)\n",
        "\n",
        "            print('{} Loss: {:.4f} Acc: {:.4f}'.format(\n",
        "                phase, epoch_loss, epoch_acc))\n",
        "\n",
        "            # deep copy the model\n",
        "            if phase == 'valid' and epoch_acc > best_acc:\n",
        "                best_acc = epoch_acc\n",
        "                best_model_wts = copy.deepcopy(model.state_dict())\n",
        "\n",
        "        print()\n",
        "\n",
        "    time_elapsed = time.time() - since\n",
        "    print('Training complete in {:.0f}m {:.0f}s'.format(\n",
        "        time_elapsed // 60, time_elapsed % 60))\n",
        "    print('Best val Acc: {:4f}'.format(best_acc))\n",
        "\n",
        "    # load best model weights\n",
        "    model.load_state_dict(best_model_wts)\n",
        "    return model\n"
      ],
      "execution_count": 0,
      "outputs": []
    },
    {
      "metadata": {
        "id": "JLsYBW3LHViR",
        "colab_type": "code",
        "colab": {
          "base_uri": "https://localhost:8080/",
          "height": 318
        },
        "outputId": "70ad9b99-bf56-4438-ebf8-bcde36ff5c0a"
      },
      "cell_type": "code",
      "source": [
        "model = train_model(arch, loaders, criterion, optimizer, exp_lr_scheduler, num_epochs=3)"
      ],
      "execution_count": 105,
      "outputs": [
        {
          "output_type": "stream",
          "text": [
            "Epoch 0/2\n",
            "----------\n",
            "train Loss: 0.1225 Acc: 0.9493\n",
            "valid Loss: 0.0301 Acc: 0.9875\n",
            "\n",
            "Epoch 1/2\n",
            "----------\n",
            "train Loss: 0.1221 Acc: 0.9483\n",
            "valid Loss: 0.0300 Acc: 0.9865\n",
            "\n",
            "Epoch 2/2\n",
            "----------\n",
            "train Loss: 0.1145 Acc: 0.9507\n",
            "valid Loss: 0.0303 Acc: 0.9865\n",
            "\n",
            "Training complete in 8m 47s\n",
            "Best val Acc: 0.000000\n"
          ],
          "name": "stdout"
        }
      ]
    },
    {
      "metadata": {
        "id": "LuZJmN6Vvywq",
        "colab_type": "code",
        "colab": {}
      },
      "cell_type": "code",
      "source": [
        ""
      ],
      "execution_count": 0,
      "outputs": []
    }
  ]
}