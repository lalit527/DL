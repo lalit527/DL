{
  "nbformat": 4,
  "nbformat_minor": 0,
  "metadata": {
    "colab": {
      "name": "chr_rnn_fastai_v3_try.ipynb",
      "version": "0.3.2",
      "provenance": []
    },
    "kernelspec": {
      "name": "python3",
      "display_name": "Python 3"
    },
    "accelerator": "GPU"
  },
  "cells": [
    {
      "cell_type": "code",
      "metadata": {
        "id": "Y9AZq-js7S4r",
        "colab_type": "code",
        "colab": {}
      },
      "source": [
        "!curl https://download.pytorch.org/tutorial/data.zip -o sample_data/data.zip\n",
        "!unzip sample_data/data.zip -d sample_data/data/"
      ],
      "execution_count": 0,
      "outputs": []
    },
    {
      "cell_type": "code",
      "metadata": {
        "id": "PkJPjkuW8hId",
        "colab_type": "code",
        "colab": {
          "base_uri": "https://localhost:8080/",
          "height": 82
        },
        "outputId": "d39ee0db-b179-4810-ff92-292c66f961a9"
      },
      "source": [
        "!ls sample_data/data/data/names"
      ],
      "execution_count": 2,
      "outputs": [
        {
          "output_type": "stream",
          "text": [
            "Arabic.txt   English.txt  Irish.txt\tPolish.txt\tSpanish.txt\n",
            "Chinese.txt  French.txt   Italian.txt\tPortuguese.txt\tVietnamese.txt\n",
            "Czech.txt    German.txt   Japanese.txt\tRussian.txt\n",
            "Dutch.txt    Greek.txt\t  Korean.txt\tScottish.txt\n"
          ],
          "name": "stdout"
        }
      ]
    },
    {
      "cell_type": "code",
      "metadata": {
        "id": "4_1vRHSt8bYR",
        "colab_type": "code",
        "colab": {}
      },
      "source": [
        "from io import open\n",
        "import glob\n",
        "import os\n",
        "import unicodedata\n",
        "import string\n",
        "from pathlib import Path\n",
        "import torch\n",
        "import torch.nn as nn\n",
        "from torch.utils.data import Dataset, DataLoader\n",
        "from torch.utils.data.sampler import SubsetRandomSampler"
      ],
      "execution_count": 0,
      "outputs": []
    },
    {
      "cell_type": "code",
      "metadata": {
        "id": "ZSSfr64x8sKX",
        "colab_type": "code",
        "colab": {}
      },
      "source": [
        "all_letters = string.ascii_letters + \" .,;'-\"\n",
        "n_letters = len(all_letters) + 1"
      ],
      "execution_count": 0,
      "outputs": []
    },
    {
      "cell_type": "code",
      "metadata": {
        "id": "pMvCrrEl9AuK",
        "colab_type": "code",
        "colab": {
          "base_uri": "https://localhost:8080/",
          "height": 310
        },
        "outputId": "692a13c5-8ba2-4a3c-ab32-f71373968e4d"
      },
      "source": [
        "path = Path('sample_data/data/data/names')\n",
        "all_files = list(path.iterdir())\n",
        "all_files"
      ],
      "execution_count": 5,
      "outputs": [
        {
          "output_type": "execute_result",
          "data": {
            "text/plain": [
              "[PosixPath('sample_data/data/data/names/Italian.txt'),\n",
              " PosixPath('sample_data/data/data/names/English.txt'),\n",
              " PosixPath('sample_data/data/data/names/Czech.txt'),\n",
              " PosixPath('sample_data/data/data/names/Portuguese.txt'),\n",
              " PosixPath('sample_data/data/data/names/Vietnamese.txt'),\n",
              " PosixPath('sample_data/data/data/names/Japanese.txt'),\n",
              " PosixPath('sample_data/data/data/names/Scottish.txt'),\n",
              " PosixPath('sample_data/data/data/names/French.txt'),\n",
              " PosixPath('sample_data/data/data/names/Spanish.txt'),\n",
              " PosixPath('sample_data/data/data/names/Polish.txt'),\n",
              " PosixPath('sample_data/data/data/names/Korean.txt'),\n",
              " PosixPath('sample_data/data/data/names/Chinese.txt'),\n",
              " PosixPath('sample_data/data/data/names/Irish.txt'),\n",
              " PosixPath('sample_data/data/data/names/Dutch.txt'),\n",
              " PosixPath('sample_data/data/data/names/German.txt'),\n",
              " PosixPath('sample_data/data/data/names/Russian.txt'),\n",
              " PosixPath('sample_data/data/data/names/Arabic.txt'),\n",
              " PosixPath('sample_data/data/data/names/Greek.txt')]"
            ]
          },
          "metadata": {
            "tags": []
          },
          "execution_count": 5
        }
      ]
    },
    {
      "cell_type": "code",
      "metadata": {
        "id": "SW6z4LYS83rv",
        "colab_type": "code",
        "colab": {
          "base_uri": "https://localhost:8080/",
          "height": 70
        },
        "outputId": "5d24c4cc-4fb6-4d14-a9d5-000f7b482264"
      },
      "source": [
        "def find_files(path):\n",
        "    return glob.glob(path)\n",
        "\n",
        "def unicode_to_ascii(s):\n",
        "    return ''.join(c for c in unicodedata.normalize('NFD', s)\n",
        "                   if unicodedata.category(c) != 'Mn'\n",
        "                   and c in all_letters)\n",
        "\n",
        "def read_lines(filename):\n",
        "    lines = open(filename, encoding='utf-8').read().strip().split('\\n')\n",
        "    return [unicode_to_ascii(line) for line in lines]\n",
        "\n",
        "category_lines = {}\n",
        "all_categories = []\n",
        "for filename in all_files:\n",
        "    category = filename.stem\n",
        "    all_categories.append(category)\n",
        "    lines = read_lines(filename)\n",
        "    category_lines[category] = lines\n",
        "    \n",
        "n_categories = len(all_categories)\n",
        "\n",
        "print('# categories:', n_categories, all_categories)\n",
        "print(unicode_to_ascii(\"O'Néàl\"))"
      ],
      "execution_count": 6,
      "outputs": [
        {
          "output_type": "stream",
          "text": [
            "# categories: 18 ['Italian', 'English', 'Czech', 'Portuguese', 'Vietnamese', 'Japanese', 'Scottish', 'French', 'Spanish', 'Polish', 'Korean', 'Chinese', 'Irish', 'Dutch', 'German', 'Russian', 'Arabic', 'Greek']\n",
            "O'Neal\n"
          ],
          "name": "stdout"
        }
      ]
    },
    {
      "cell_type": "markdown",
      "metadata": {
        "id": "MaH_FuLBA1UP",
        "colab_type": "text"
      },
      "source": [
        "## Data"
      ]
    },
    {
      "cell_type": "code",
      "metadata": {
        "id": "ZhoI4Q_cA1AU",
        "colab_type": "code",
        "colab": {}
      },
      "source": [
        "def category_tensor(category):\n",
        "    li = all_categories.index(category)\n",
        "    tensor = torch.zeros(1, n_categories)\n",
        "    tensor[0][li] = 1\n",
        "    return tensor\n",
        "\n",
        "def input_tensor(line):\n",
        "    tensor = torch.zeros(len(line), 1, n_letters)\n",
        "    for li in range(len(line)):\n",
        "        letter = line[li]\n",
        "        tensor[li][0][all_letters.find(letter)] = 1\n",
        "    return tensor\n",
        "\n",
        "def target_tensor(line):\n",
        "    letter_indexes = [all_letters.find(line[li]) for li in range(1, len(line))]\n",
        "    letter_indexes.append(n_letters - 1)\n",
        "    return torch.torch.LongTensor(letter_indexes)"
      ],
      "execution_count": 0,
      "outputs": []
    },
    {
      "cell_type": "markdown",
      "metadata": {
        "id": "0VojWfkG_Hxk",
        "colab_type": "text"
      },
      "source": [
        "## Model"
      ]
    },
    {
      "cell_type": "code",
      "metadata": {
        "id": "aY4XVSXH--qX",
        "colab_type": "code",
        "colab": {}
      },
      "source": [
        "class RNN(nn.Module):\n",
        "    def __init__(self, input_size, hidden_size, output_size):\n",
        "        super().__init__()\n",
        "        self.hidden_size = hidden_size\n",
        "        self.output_size = output_size\n",
        "        self.input_size = input_size\n",
        "        self.i2h = nn.Linear(n_categories + input_size + hidden_size, hidden_size)\n",
        "        self.i2o = nn.Linear(n_categories + input_size + hidden_size, output_size)\n",
        "        self.o2o = nn.Linear(hidden_size + output_size, output_size)\n",
        "        self.dropout = nn.Dropout(0.2)\n",
        "        self.softmax = nn.LogSoftmax(dim=1)\n",
        "        \n",
        "    def forward(self, category, inputs):\n",
        "        hidden = self.init_hidden()\n",
        "        hidden = hidden.cuda()\n",
        "        category = category.squeeze(0)\n",
        "        inputs = inputs.squeeze(0)\n",
        "        outputs = []\n",
        "        for inp in inputs:\n",
        "            category = category.cuda()\n",
        "            inp = inp.cuda()\n",
        "            inputs_combined = torch.cat((category, inp, hidden), 1)\n",
        "            hidden = self.i2h(inputs_combined)\n",
        "            output = self.i2o(inputs_combined)\n",
        "            output_combined = torch.cat((hidden, output), 1)\n",
        "            output = self.o2o(output_combined)\n",
        "            output = self.dropout(output)\n",
        "            output = self.softmax(output)\n",
        "            outputs.append(output)\n",
        "        return outputs\n",
        "    \n",
        "    def init_hidden(self):\n",
        "        return torch.zeros(1, self.hidden_size)\n",
        "        "
      ],
      "execution_count": 0,
      "outputs": []
    },
    {
      "cell_type": "code",
      "metadata": {
        "id": "-VW6IyVqJw_2",
        "colab_type": "code",
        "colab": {}
      },
      "source": [
        ""
      ],
      "execution_count": 0,
      "outputs": []
    },
    {
      "cell_type": "code",
      "metadata": {
        "id": "JQZgI1gtDrIy",
        "colab_type": "code",
        "colab": {}
      },
      "source": [
        "# category_line_tensors, input_line_tensors, target_line_tensors = [], [], []\n",
        "# for category in all_categories:\n",
        "#     category_line_tensor = category_tensor(category)\n",
        "#     line = category_lines[category]\n",
        "#     input_line_tensor = input_tensor(line)\n",
        "#     target_line_tensor = target_tensor(line)\n",
        "#     category_line_tensors.append(category_line_tensor)\n",
        "#     input_line_tensors.append(input_line_tensor)\n",
        "#     target_line_tensors.append(target_line_tensor)"
      ],
      "execution_count": 0,
      "outputs": []
    },
    {
      "cell_type": "code",
      "metadata": {
        "id": "ztMZ0L2uDeSR",
        "colab_type": "code",
        "colab": {}
      },
      "source": [
        "# len(category_line_tensors), len(input_line_tensors), len(target_line_tensors)"
      ],
      "execution_count": 0,
      "outputs": []
    },
    {
      "cell_type": "code",
      "metadata": {
        "id": "vqXMyVkA4Lxx",
        "colab_type": "code",
        "colab": {}
      },
      "source": [
        "# input_line_tensor.shape"
      ],
      "execution_count": 0,
      "outputs": []
    },
    {
      "cell_type": "code",
      "metadata": {
        "id": "BDXDcD_q4N-5",
        "colab_type": "code",
        "colab": {}
      },
      "source": [
        ""
      ],
      "execution_count": 0,
      "outputs": []
    },
    {
      "cell_type": "code",
      "metadata": {
        "id": "jU4vaAoiv5eC",
        "colab_type": "code",
        "colab": {}
      },
      "source": [
        "def prepare_data(category_lines):\n",
        "        data = []\n",
        "        for key, values in category_lines.items():\n",
        "            category = category_tensor(key)\n",
        "            for value in values:\n",
        "                inputs = input_tensor(value)\n",
        "                targets = target_tensor(value)\n",
        "                data.append({\n",
        "                    'category': category,\n",
        "                    'inputs': inputs,\n",
        "                    'targets': targets\n",
        "                })\n",
        "        return data"
      ],
      "execution_count": 0,
      "outputs": []
    },
    {
      "cell_type": "code",
      "metadata": {
        "id": "8xY1120zv8Xk",
        "colab_type": "code",
        "colab": {
          "base_uri": "https://localhost:8080/",
          "height": 33
        },
        "outputId": "3b493c55-1770-4484-b12c-9beea554c35c"
      },
      "source": [
        "import random\n",
        "data = prepare_data(category_lines)\n",
        "n = len(data)\n",
        "split = int(0.2 * n)\n",
        "random.shuffle(data)\n",
        "train_data = data[4014:]\n",
        "valid_data = data[:4014]\n",
        "len(train_data), len(valid_data)"
      ],
      "execution_count": 13,
      "outputs": [
        {
          "output_type": "execute_result",
          "data": {
            "text/plain": [
              "(16060, 4014)"
            ]
          },
          "metadata": {
            "tags": []
          },
          "execution_count": 13
        }
      ]
    },
    {
      "cell_type": "code",
      "metadata": {
        "id": "FNjasJQsAlnz",
        "colab_type": "code",
        "colab": {}
      },
      "source": [
        "class NamedDataset(Dataset):\n",
        "    def __init__(self, root_dir, data):\n",
        "        self.root_dir = root_dir\n",
        "        self.data = data\n",
        "        \n",
        "    def __len__(self):\n",
        "        return len(self.data)\n",
        "    \n",
        "    def __getitem__(self, idx):\n",
        "        data = self.data[idx]\n",
        "        category = data['category']\n",
        "        inputs = data['inputs']\n",
        "        targets = data['targets']\n",
        "        return ((category, inputs), targets)"
      ],
      "execution_count": 0,
      "outputs": []
    },
    {
      "cell_type": "code",
      "metadata": {
        "id": "xgWVNQJux-Qs",
        "colab_type": "code",
        "colab": {}
      },
      "source": [
        "from fastai.text import *"
      ],
      "execution_count": 0,
      "outputs": []
    },
    {
      "cell_type": "code",
      "metadata": {
        "id": "aEGWIsSALIi3",
        "colab_type": "code",
        "colab": {}
      },
      "source": [
        "train_ds = NamedDataset(path, train_data)\n",
        "valid_ds = NamedDataset(path, valid_data)\n",
        "data_bunch = DataBunch.create(train_ds, valid_ds, bs=1)"
      ],
      "execution_count": 0,
      "outputs": []
    },
    {
      "cell_type": "code",
      "metadata": {
        "id": "Dfjs7qmKyhKA",
        "colab_type": "code",
        "colab": {}
      },
      "source": [
        "rnn = RNN(n_letters, 256, n_letters).cuda()"
      ],
      "execution_count": 0,
      "outputs": []
    },
    {
      "cell_type": "code",
      "metadata": {
        "id": "bWQyWqnY1rT4",
        "colab_type": "code",
        "colab": {}
      },
      "source": [
        "x, y = next(iter(data_bunch.train_dl))"
      ],
      "execution_count": 0,
      "outputs": []
    },
    {
      "cell_type": "code",
      "metadata": {
        "id": "ufGAGZoEQGsR",
        "colab_type": "code",
        "colab": {}
      },
      "source": [
        "def custom_loss(pred, targ):\n",
        "    targ = targ.view(-1, 1)\n",
        "    loss = 0\n",
        "    for i in range(len(pred)):\n",
        "        loss += F.nll_loss(pred[i], targ[i])\n",
        "    return loss"
      ],
      "execution_count": 0,
      "outputs": []
    },
    {
      "cell_type": "code",
      "metadata": {
        "id": "9-TBAef7vXva",
        "colab_type": "code",
        "colab": {}
      },
      "source": [
        "learn = Learner(data_bunch, rnn, opt_func=optim.Adam, loss_func=custom_loss, metrics=accuracy)"
      ],
      "execution_count": 0,
      "outputs": []
    },
    {
      "cell_type": "code",
      "metadata": {
        "id": "6sU7A8tYvaSj",
        "colab_type": "code",
        "colab": {
          "base_uri": "https://localhost:8080/",
          "height": 33
        },
        "outputId": "1880a5a9-e078-49b0-8008-7c109c7d81fd"
      },
      "source": [
        "learn.lr_find()"
      ],
      "execution_count": 46,
      "outputs": [
        {
          "output_type": "display_data",
          "data": {
            "text/html": [
              ""
            ],
            "text/plain": [
              "<IPython.core.display.HTML object>"
            ]
          },
          "metadata": {
            "tags": []
          }
        },
        {
          "output_type": "stream",
          "text": [
            "LR Finder is complete, type {learner_name}.recorder.plot() to see the graph.\n"
          ],
          "name": "stdout"
        }
      ]
    },
    {
      "cell_type": "code",
      "metadata": {
        "id": "5PIkZl7yuUnQ",
        "colab_type": "code",
        "colab": {
          "base_uri": "https://localhost:8080/",
          "height": 283
        },
        "outputId": "d425425e-a0ee-4f75-bbc6-23f5f8c8400f"
      },
      "source": [
        "learn.recorder.plot()"
      ],
      "execution_count": 48,
      "outputs": [
        {
          "output_type": "display_data",
          "data": {
            "image/png": "[encoded data removed]",
            "text/plain": [
              "<Figure size 432x288 with 1 Axes>"
            ]
          },
          "metadata": {
            "tags": []
          }
        }
      ]
    },
    {
      "cell_type": "code",
      "metadata": {
        "id": "R7Nm4Ic9NJf3",
        "colab_type": "code",
        "colab": {}
      },
      "source": [
        "learn.fit_one_cycle(1, slice(1e-3))"
      ],
      "execution_count": 0,
      "outputs": []
    },
    {
      "cell_type": "code",
      "metadata": {
        "id": "l73_llSaIyLL",
        "colab_type": "code",
        "colab": {}
      },
      "source": [
        ""
      ],
      "execution_count": 0,
      "outputs": []
    }
  ]
}