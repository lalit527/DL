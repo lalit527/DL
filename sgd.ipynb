{
 "cells": [
  {
   "cell_type": "markdown",
   "metadata": {},
   "source": [
    "# Stochastic Gradient Descent — SGD "
   ]
  },
  {
   "cell_type": "markdown",
   "metadata": {
    "colab_type": "text",
    "id": "view-in-github"
   },
   "source": [
    "<a href=\"https://colab.research.google.com/github/lalit527/DL/blob/master/sgd.ipynb\" target=\"_parent\"><img src=\"https://colab.research.google.com/assets/colab-badge.svg\" alt=\"Open In Colab\"/></a>"
   ]
  },
  {
   "cell_type": "code",
   "execution_count": 0,
   "metadata": {
    "colab": {},
    "colab_type": "code",
    "id": "Cz4LGca65wjM"
   },
   "outputs": [],
   "source": [
    "!pip install fastai==0.7.0\n",
    "import sys\n",
    "!{sys.executable} -m pip install torchtext==0.2.3"
   ]
  },
  {
   "cell_type": "code",
   "execution_count": null,
   "metadata": {},
   "outputs": [],
   "source": []
  },
  {
   "cell_type": "code",
   "execution_count": 1,
   "metadata": {
    "colab": {
     "base_uri": "https://localhost:8080/",
     "height": 34
    },
    "colab_type": "code",
    "id": "Nbmt0009wpDh",
    "outputId": "740bc37a-91b2-4b2c-d884-331f3d2d8be6"
   },
   "outputs": [
    {
     "name": "stdout",
     "output_type": "stream",
     "text": [
      "fastai==0.7.0\n"
     ]
    }
   ],
   "source": [
    "!pip freeze | grep fastai "
   ]
  },
  {
   "cell_type": "markdown",
   "metadata": {},
   "source": [
    "# Table of Contents\n",
    " <p><div class=\"lev1 toc-item\"><a href=\"#Linear-Regression-problem\" data-toc-modified-id=\"Linear-Regression-problem-1\"><span class=\"toc-item-num\">1&nbsp;&nbsp;</span>Linear Regression problem</a></div><div class=\"lev1 toc-item\"><a href=\"#Gradient-Descent\" data-toc-modified-id=\"Gradient-Descent-2\"><span class=\"toc-item-num\">2&nbsp;&nbsp;</span>Gradient Descent</a></div><div class=\"lev1 toc-item\"><a href=\"#Gradient-Descent---Classification\" data-toc-modified-id=\"Gradient-Descent---Classification-3\"><span class=\"toc-item-num\">3&nbsp;&nbsp;</span>Gradient Descent - Classification</a></div><div class=\"lev1 toc-item\"><a href=\"#Gradient-descent-with-numpy\" data-toc-modified-id=\"Gradient-descent-with-numpy-4\"><span class=\"toc-item-num\">4&nbsp;&nbsp;</span>Gradient descent with numpy</a></div>"
   ]
  },
  {
   "cell_type": "code",
   "execution_count": 0,
   "metadata": {
    "colab": {},
    "colab_type": "code",
    "id": "IXEScDg75qjp"
   },
   "outputs": [],
   "source": [
    "%matplotlib inline\n",
    "from fastai.learner import *"
   ]
  },
  {
   "cell_type": "markdown",
   "metadata": {},
   "source": [
    "- To make sure we are totally comfortable with SGD which is an optimization method commonly used in neural networks, we will use it to learn y = ax + b"
   ]
  },
  {
   "cell_type": "markdown",
   "metadata": {},
   "source": [
    "###  Linear Regression problem"
   ]
  },
  {
   "cell_type": "markdown",
   "metadata": {},
   "source": [
    "The goal of linear regression is to fit a line to a set of points."
   ]
  },
  {
   "cell_type": "code",
   "execution_count": 0,
   "metadata": {
    "colab": {},
    "colab_type": "code",
    "id": "QFqNdy1j6-Ie"
   },
   "outputs": [],
   "source": [
    "def lin(a, b, x):\n",
    "  return a * x + b"
   ]
  },
  {
   "cell_type": "code",
   "execution_count": 0,
   "metadata": {
    "colab": {},
    "colab_type": "code",
    "id": "OHiURn1v7McJ"
   },
   "outputs": [],
   "source": [
    "def gen_fake_data(n, a, b):\n",
    "  x = s = np.random.uniform(0, 1, n)\n",
    "  y = lin(a, b, x) + 0.1 * np.random.normal(0, 3, n)\n",
    "  return x, y\n",
    "\n",
    "x, y = gen_fake_data(50, 3., 8.)"
   ]
  },
  {
   "cell_type": "code",
   "execution_count": 7,
   "metadata": {
    "colab": {
     "base_uri": "https://localhost:8080/",
     "height": 279
    },
    "colab_type": "code",
    "id": "VdpiS4Go72xy",
    "outputId": "ddc9733c-07e3-4bac-ad29-c23d3994f024"
   },
   "outputs": [
    {
     "data": {
      "image/png": "[encoded data removed]",
      "text/plain": [
       "<Figure size 432x288 with 1 Axes>"
      ]
     },
     "metadata": {
      "tags": []
     },
     "output_type": "display_data"
    }
   ],
   "source": [
    "plt.scatter(x, y, s=8)\n",
    "plt.xlabel(\"x\")\n",
    "plt.ylabel(\"y\");"
   ]
  },
  {
   "cell_type": "markdown",
   "metadata": {},
   "source": [
    "You want to find parameters (weights)  𝑎  and  𝑏  such that you minimize the error between the points and the line  𝑎⋅𝑥+𝑏 . Note that here  𝑎  and  𝑏  are unknown. For a regression problem the most common error function or loss function is the mean squared error."
   ]
  },
  {
   "cell_type": "markdown",
   "metadata": {},
   "source": [
    "To get started, we need a loss function. This is a regression problem since the output is continuous output, and the most common loss function is the mean squared error (MSE).\n",
    "- Regression — the target output is a real number or a whole vector of real numbers\n",
    "- Classification — the target output is a class label"
   ]
  },
  {
   "cell_type": "code",
   "execution_count": 0,
   "metadata": {
    "colab": {},
    "colab_type": "code",
    "id": "OfCyn3WA77YB"
   },
   "outputs": [],
   "source": [
    "def mse(y_hat, y):\n",
    "  return ((y_hat - y) ** 2).mean()"
   ]
  },
  {
   "cell_type": "code",
   "execution_count": 10,
   "metadata": {
    "colab": {
     "base_uri": "https://localhost:8080/",
     "height": 34
    },
    "colab_type": "code",
    "id": "b29-cfbG8ON1",
    "outputId": "de136e75-7d96-4c57-d1fd-01be9b15a3d1"
   },
   "outputs": [
    {
     "data": {
      "text/plain": [
       "4.8532222901176105"
      ]
     },
     "execution_count": 10,
     "metadata": {
      "tags": []
     },
     "output_type": "execute_result"
    }
   ],
   "source": [
    "y_hat = lin(10, 5, x)\n",
    "mse(y_hat, y)"
   ]
  },
  {
   "cell_type": "code",
   "execution_count": 0,
   "metadata": {
    "colab": {},
    "colab_type": "code",
    "id": "yel8A9OG8YQV"
   },
   "outputs": [],
   "source": [
    "def mse_loss(a, b, x, y):\n",
    "  return mse(lin(a, b, x), y)"
   ]
  },
  {
   "cell_type": "code",
   "execution_count": 13,
   "metadata": {
    "colab": {
     "base_uri": "https://localhost:8080/",
     "height": 34
    },
    "colab_type": "code",
    "id": "TxVqW2358nGK",
    "outputId": "c87fadfe-5ef3-4dec-975b-19578b83f19d"
   },
   "outputs": [
    {
     "data": {
      "text/plain": [
       "4.8532222901176105"
      ]
     },
     "execution_count": 13,
     "metadata": {
      "tags": []
     },
     "output_type": "execute_result"
    }
   ],
   "source": [
    "mse_loss(10, 5, x, y)"
   ]
  },
  {
   "cell_type": "markdown",
   "metadata": {},
   "source": [
    "So far we have specified the model (linear regression) and the evaluation criteria (or loss function). Now we need to handle optimization; that is, how do we find the best values for  𝑎  and  𝑏 ? How do we find the best fitting linear regression."
   ]
  },
  {
   "cell_type": "markdown",
   "metadata": {},
   "source": [
    "# Gradient Descent"
   ]
  },
  {
   "cell_type": "markdown",
   "metadata": {},
   "source": [
    "For a fixed dataset $x$ and $y$ `mse_loss(a,b)` is a function of $a$ and $b$. We would like to find the values of $a$ and $b$ that minimize that function.\n",
    "\n",
    "**Gradient descent** is an algorithm that minimizes functions. Given a function defined by a set of parameters, gradient descent starts with an initial set of parameter values and iteratively moves toward a set of parameter values that minimize the function. This iterative minimization is achieved by taking steps in the negative direction of the function gradient.\n",
    "\n",
    "Here is gradient descent implemented in [PyTorch](http://pytorch.org/)."
   ]
  },
  {
   "cell_type": "markdown",
   "metadata": {},
   "source": [
    "We will make 10,000 more fake data and turn them into PyTorch variables for taking derivatives"
   ]
  },
  {
   "cell_type": "code",
   "execution_count": 14,
   "metadata": {
    "colab": {
     "base_uri": "https://localhost:8080/",
     "height": 34
    },
    "colab_type": "code",
    "id": "u9Z3THuw8rEi",
    "outputId": "845660bf-f413-4d4a-93e8-62eb16d513d4"
   },
   "outputs": [
    {
     "data": {
      "text/plain": [
       "((10000,), (10000,))"
      ]
     },
     "execution_count": 14,
     "metadata": {
      "tags": []
     },
     "output_type": "execute_result"
    }
   ],
   "source": [
    "x, y = gen_fake_data(10000, 3., 8.)\n",
    "x.shape, y.shape"
   ]
  },
  {
   "cell_type": "code",
   "execution_count": 0,
   "metadata": {
    "colab": {},
    "colab_type": "code",
    "id": "emEm-8xk9HqZ"
   },
   "outputs": [],
   "source": [
    "x, y = V(x), V(y)"
   ]
  },
  {
   "cell_type": "markdown",
   "metadata": {},
   "source": [
    "Then create random weight for a and b , they are the variables we want to learn, so set requires_grad=True ."
   ]
  },
  {
   "cell_type": "code",
   "execution_count": 16,
   "metadata": {
    "colab": {
     "base_uri": "https://localhost:8080/",
     "height": 102
    },
    "colab_type": "code",
    "id": "STrXH2fd9LA5",
    "outputId": "beb15ba9-49a3-420e-d9d5-d750bd5a317a"
   },
   "outputs": [
    {
     "data": {
      "text/plain": [
       "(Variable containing:\n",
       " -1.0508\n",
       " [torch.cuda.FloatTensor of size 1 (GPU 0)], Variable containing:\n",
       " -0.8502\n",
       " [torch.cuda.FloatTensor of size 1 (GPU 0)])"
      ]
     },
     "execution_count": 16,
     "metadata": {
      "tags": []
     },
     "output_type": "execute_result"
    }
   ],
   "source": [
    "a = V(np.random.randn(1), requires_grad=True)\n",
    "b = V(np.random.randn(1), requires_grad=True)\n",
    "a, b"
   ]
  },
  {
   "cell_type": "markdown",
   "metadata": {},
   "source": [
    "Then set the learning rate and do 10,000 epoch of full gradient descent (not SGD as each epoch will look at all of the data):"
   ]
  },
  {
   "cell_type": "code",
   "execution_count": 17,
   "metadata": {
    "colab": {
     "base_uri": "https://localhost:8080/",
     "height": 187
    },
    "colab_type": "code",
    "id": "jiHypP689alv",
    "outputId": "bef1c143-95f4-4152-8a2f-013df07fea48"
   },
   "outputs": [
    {
     "name": "stdout",
     "output_type": "stream",
     "text": [
      "119.61125183105469\n",
      "0.8558089137077332\n",
      "0.10768608748912811\n",
      "0.09976880252361298\n",
      "0.09724397957324982\n",
      "0.09533124417066574\n",
      "0.0938660278916359\n",
      "0.09274344146251678\n",
      "0.09188316017389297\n",
      "0.09122397005558014\n"
     ]
    }
   ],
   "source": [
    "learning_rate = 1e-3\n",
    "for t in range(10000):\n",
    "  loss = mse_loss(a, b, x, y)\n",
    "  if t % 1000 == 0:\n",
    "    print(loss.data[0])\n",
    "    \n",
    "  loss.backward()\n",
    "  \n",
    "  a.data -= learning_rate * a.grad.data\n",
    "  b.data -= learning_rate * b.grad.data\n",
    "  \n",
    "  a.grad.data.zero_()\n",
    "  b.grad.data.zero_()"
   ]
  },
  {
   "cell_type": "markdown",
   "metadata": {},
   "source": [
    "- calculate the loss (remember, a and b are set to random initially)\n",
    "- from time to time (every 1000 epochs), print out the loss\n",
    "- loss.backward() will calculate gradients for all variables with requires_grad=True and fill in .grad property\n",
    "- update a to whatever it was minus LR * grad ( .data accesses a tensor inside of a variable)\n",
    "- when there are multiple loss functions or many output layers contributing to the gradient, PyTorch will add them together. So you need to tell when to set gradients back to zero (zero_() in the _ means that the variable is changed in-place)."
   ]
  },
  {
   "cell_type": "markdown",
   "metadata": {},
   "source": [
    "Nearly all of deep learning is powered by one very important algorithm: **stochastic gradient descent (SGD)**. SGD can be seeing as an approximation of **gradient descent** (GD). In GD you have to run through *all* the samples in your training set to do a single itaration. In SGD you use *only one* or *a subset*  of training samples to do the update for a parameter in a particular iteration. The subset use in every iteration is called a **batch** or **minibatch**."
   ]
  },
  {
   "cell_type": "code",
   "execution_count": 0,
   "metadata": {
    "colab": {},
    "colab_type": "code",
    "id": "cUAMxlxB99di"
   },
   "outputs": [],
   "source": [
    "def gen_fake_data2(n, a, b):\n",
    "  x = s = np.random.uniform(0, 1, n)\n",
    "  y = lin(a, b, x) + 0.1 * np.random.normal(0, 3, n)\n",
    "  return x, np.where(y>10, 1, 0).astype(np.float32)"
   ]
  },
  {
   "cell_type": "code",
   "execution_count": 0,
   "metadata": {
    "colab": {},
    "colab_type": "code",
    "id": "7TGfSiqPAepH"
   },
   "outputs": [],
   "source": [
    "x, y = gen_fake_data2(10000, 3., 8.)\n",
    "x, y = V(x), V(y)"
   ]
  },
  {
   "cell_type": "code",
   "execution_count": 0,
   "metadata": {
    "colab": {},
    "colab_type": "code",
    "id": "kYYIjzQHAmF3"
   },
   "outputs": [],
   "source": [
    "def nll(y_hat, y):\n",
    "  y_hat = torch.clamp(y_hat, 1e-5, 1-1e-5)\n",
    "  return (y*y_hat.log() + (1-y)*(1-y_hat).log()).mean()"
   ]
  },
  {
   "cell_type": "code",
   "execution_count": 0,
   "metadata": {
    "colab": {},
    "colab_type": "code",
    "id": "arMLv1tMBLcZ"
   },
   "outputs": [],
   "source": [
    "a = V(np.random.randn(1), requires_grad=True)\n",
    "b = V(np.random.randn(1), requires_grad=True)"
   ]
  },
  {
   "cell_type": "code",
   "execution_count": 25,
   "metadata": {
    "colab": {
     "base_uri": "https://localhost:8080/",
     "height": 68
    },
    "colab_type": "code",
    "id": "nXFRLfAUBT3g",
    "outputId": "0dc22214-aed9-4763-8a37-bbbed9a47aec"
   },
   "outputs": [
    {
     "name": "stdout",
     "output_type": "stream",
     "text": [
      "-0.6887390613555908 0.6718\n",
      "-1.1022711992263794 0.6718\n",
      "-2.6778368949890137 0.6718\n"
     ]
    }
   ],
   "source": [
    "learning_rate = 1e-2\n",
    "for t in range(3000):\n",
    "  p = (-lin(a,b,x)).exp()\n",
    "  y_hat = 1/(1+p)\n",
    "  loss = nll(y_hat,y)\n",
    "  if t % 1000 == 0:\n",
    "      print(loss.data[0], np.mean(to_np(y)==(to_np(y_hat)>0.5)))\n",
    "#         print(y_hat)\n",
    "\n",
    "  loss.backward()\n",
    "  a.data -= learning_rate * a.grad.data\n",
    "  b.data -= learning_rate * b.grad.data\n",
    "  a.grad.data.zero_()\n",
    "  b.grad.data.zero_()    "
   ]
  },
  {
   "cell_type": "code",
   "execution_count": 0,
   "metadata": {
    "colab": {},
    "colab_type": "code",
    "id": "HUXRCP32BiHg"
   },
   "outputs": [],
   "source": [
    "from matplotlib import rcParams, animation, rc\n",
    "from ipywidgets import interact, interactive, fixed\n",
    "from ipywidgets.widgets import *\n",
    "rc('animation', html='html5')\n",
    "rcParams['figure.figsize'] = 3, 3"
   ]
  },
  {
   "cell_type": "code",
   "execution_count": 0,
   "metadata": {
    "colab": {},
    "colab_type": "code",
    "id": "CJBsBSncBvLu"
   },
   "outputs": [],
   "source": [
    "x, y = gen_fake_data(50, 3., 8.)"
   ]
  },
  {
   "cell_type": "code",
   "execution_count": 28,
   "metadata": {
    "colab": {
     "base_uri": "https://localhost:8080/",
     "height": 34
    },
    "colab_type": "code",
    "id": "nqoPwu43Bxee",
    "outputId": "759f8432-b601-4af6-b055-7b178e857a12"
   },
   "outputs": [
    {
     "data": {
      "text/plain": [
       "82.21077752050732"
      ]
     },
     "execution_count": 28,
     "metadata": {
      "tags": []
     },
     "output_type": "execute_result"
    }
   ],
   "source": [
    "a_guess, b_guess = -1., 1.\n",
    "mse_loss(a_guess, b_guess, x, y)"
   ]
  },
  {
   "cell_type": "code",
   "execution_count": 0,
   "metadata": {
    "colab": {},
    "colab_type": "code",
    "id": "RJZXZ1AYB5E2"
   },
   "outputs": [],
   "source": [
    "lr=0.01\n",
    "def upd():\n",
    "  global a_guess, b_guess\n",
    "  y_pred = lin(a_guess, b_guess, x)\n",
    "  dydb = 2 * (y_pred - y)\n",
    "  dyda = x * dydb\n",
    "  a_guess -= lr * dyda.mean()\n",
    "  b_guess -= lr * dydb.mean()"
   ]
  },
  {
   "cell_type": "code",
   "execution_count": 39,
   "metadata": {
    "colab": {
     "base_uri": "https://localhost:8080/",
     "height": 421
    },
    "colab_type": "code",
    "id": "dgQCR6QWCZxA",
    "outputId": "f4882c63-4479-4da1-d499-e1e8c7c232d4"
   },
   "outputs": [
    {
     "data": {
      "text/html": [
       "<video width=\"500\" height=\"400\" controls autoplay loop>\n",
       "  <source type=\"video/mp4\" src=\"data:video/mp4;base64,AAAAHGZ0eXBNNFYgAAACAGlzb21pc28yYXZjMQAAAAhmcmVlAAA9ZW1kYXQAAAKuBgX//6rcRem9\n",
       "5tlIt5Ys2CDZI+7veDI2NCAtIGNvcmUgMTUyIHIyODU0IGU5YTU5MDMgLSBILjI2NC9NUEVHLTQg\n",
       "QVZDIGNvZGVjIC0gQ29weWxlZnQgMjAwMy0yMDE3IC0gaHR0cDovL3d3dy52aWRlb2xhbi5vcmcv\n",
       "eDI2NC5odG1sIC0gb3B0aW9uczogY2FiYWM9MSByZWY9MyBkZWJsb2NrPTE6MDowIGFuYWx5c2U9\n",
       "MHgzOjB4MTEzIG1lPWhleCBzdWJtZT03IHBzeT0xIHBzeV9yZD0xLjAwOjAuMDAgbWl4ZWRfcmVm\n",
       "PTEgbWVfcmFuZ2U9MTYgY2hyb21hX21lPTEgdHJlbGxpcz0xIDh4OGRjdD0xIGNxbT0wIGRlYWR6\n",
       "b25lPTIxLDExIGZhc3RfcHNraXA9MSBjaHJvbWFfcXBfb2Zmc2V0PS0yIHRocmVhZHM9MyBsb29r\n",
       "YWhlYWRfdGhyZWFkcz0xIHNsaWNlZF90aHJlYWRzPTAgbnI9MCBkZWNpbWF0ZT0xIGludGVybGFj\n",
       "ZWQ9MCBibHVyYXlfY29tcGF0PTAgY29uc3RyYWluZWRfaW50cmE9MCBiZnJhbWVzPTMgYl9weXJh\n",
       "bWlkPTIgYl9hZGFwdD0xIGJfYmlhcz0wIGRpcmVjdD0xIHdlaWdodGI9MSBvcGVuX2dvcD0wIHdl\n",
       "aWdodHA9MiBrZXlpbnQ9MjUwIGtleWludF9taW49MTAgc2NlbmVjdXQ9NDAgaW50cmFfcmVmcmVz\n",
       "aD0wIHJjX2xvb2thaGVhZD00MCByYz1jcmYgbWJ0cmVlPTEgY3JmPTIzLjAgcWNvbXA9MC42MCBx\n",
       "cG1pbj0wIHFwbWF4PTY5IHFwc3RlcD00IGlwX3JhdGlvPTEuNDAgYXE9MToxLjAwAIAAABo2ZYiE\n",
       "ABD//veBvzLLXyK6yXH5530srM885DxyXYmuuNAAAAMAAAMCdMWy7nddDaYdgAACogAg/o9j9soQ\n",
       "CYib3Pr4Z1CKwCpLVcwLXajqrt1VH+4K+f/vLBWttwTJWVrOaYI1QAIpNTNv/cVqtlrgdmCaWywh\n",
       "e2JXhDV7Jxe5qZWwwPyWZuI01UzFGjkuulWO3awbt8s/0e435gXWW5lECWemXidw/VJ8+NAJgPnQ\n",
       "EA0aUkmkJmHbqlB+0b+lNd52KfUkCio715PuQSs08/j1utmAx7mv+g3SDNc/hnzPNYFqYxNUED95\n",
       "9g+obFr1CmSOX7/+yBE5gLq5MfyaexPMF0vi0f7nRtKyWh8H3Pe8TmVBPDMz3jXkwMG58lWzxRMK\n",
       "gW8N/vWpIHpMS4IiS1HDysvqCyd8PfmksBTDRK7YxwWGZYdEIFJMuZ+2q0LBgRFy3t7tvLb2H86v\n",
       "PqN1JhQEP0yls8h08tav6PMuqlEH8JNs7dsJIVJjah84B4J/Xw2rdaaoVtxEC3aGdqAP4O+f2TpT\n",
       "0ap01uUF9PyoTkNe/v0BISxUdjh3mm/9S1oh108aaK2WpWWzgIEJq14CY8GYHN4+AugUIAt1NqT7\n",
       "/0NNFJgvrKREv+7WPCtDIBUdRGTwlFVsWyPb636aZquaYTDTRz1kYbRTNzOmyqEddaqDM0FOeFOt\n",
       "vd7vvRym9F0ADmzhbOfIvU1ofUdQbGPiZNqyfqjIXBP4Q8njkJ4ikwIxasT0JVupBDXnqdQU6akF\n",
       "W9cTJnx9DDycWUVty4fzKgtUNbo4pc8BbCJzGJ+AZXL+DycZEx7wVpL++4rHOmQoyfE1zOEJ4H+0\n",
       "6c6wXwGkumNi2WV/2gSUCBb/57INzjrosZOxcjLekTuUJObGdJo4I2kcCB4fFihus/GgeQKVA8Tv\n",
       "VGJO+Am04xNMBdcTanZ1E+mCOG4OWfmLQA02nO31M3U2Oq9qTnwE4LtUEU0krDOzrpWdHuXnx7Iz\n",
       "bormKlsjrzSLbseVLm2VQXKZSZ6BtEm8nW8T+QNv/5hwl7tuF6/sYz+Q0ZfpAaqjTImmORZkoC/0\n",
       "fyINdNygYXyOLk5HEwT7X/S3gJXKflJ2BowaeAUQMO4LYxMJX6+Dn9bedZGKUvLSRjlvvggboZBQ\n",
       "ue4bICKh0lv5CdGfu/SzCwyvQcL1dGph0pJEFp3/UJUT+GM+xp0H+WrKUDkakxRv2dRzRa869yM4\n",
       "ekOcsFcR5cslDKeuYMDKRiptTqrknJqI7HSFvtfmszuJKbZZu0SKmaVfc/mRyxcsmrCwXm2UWl+k\n",
       "6y/hiwD7hKn8ub63mcxypckfeJV/kvB6ebYuo0svIkrWsZAO4SuftIedwv7m5KBBhX4qlf8WLtfj\n",
       "j86m7C7QILDvWKzB0Uur2nFyJSksTIFyUzcKFpbynlkpQ9COqkcocH68KBGEkBYAyAtviC4X/v8X\n",
       "Q02QUDMeIS2Emfy051QnT4gmiU/pMICgzp1/vq1zBMWsRetiVhaXAD8jxezwJSCzuDjUTdV2RQVf\n",
       "Wh/X3ZiPV1OnBrTMIASh8dudg8LkPr10yFJH7F72o4UOBHK9YfS7/amd4qfikMx5eLSnNawR40Lx\n",
       "euGG9XzUlgmtcHROk6fv4BlV4+NN1mDaBw+/gNGas8zFrsbTNejIV952ep8ILMUM9JazTK2sGiH2\n",
       "IAbNQPGkGgll47hvPJb09h53y4C7OfT//4DvnTJfuRZz3yqXM7+VmF54QqN6G6v/BgebNzRBik+x\n",
       "Wxi0QscthbBwWSmJ+ZjFuTjwjjLp1MuttGvItG1ZJadLA35+183KJhJzWzmAtwkScuKwN4dy+0jy\n",
       "IHszCEIhgUO9/bnlGFqfd1JvYDe+rH0T+jdi9Ta9Vkpzi0szsLUFoYPRdTlMJTEQdcIpiyOiT4/E\n",
       "LVcPgmaL5eyhMzVOSVINp6CDJyYIc781mUzamW3b8l3GZD5oX2ULMg9dpTD/auFhd3vpJDKdS/pv\n",
       "R9Jwfbx/AP1d8Bk+U7jXiii05qmHZyndHa35TbnrZop217Dd2injE3riisSCuB+7yVRHmiJXVcbi\n",
       "PPtvXGTM1vlqwsyLbIiQzTcnthMGcrmHHFA2zaTUGtpfmTtGEyfPEW3yGroU1CicN0sC9sDYNN5B\n",
       "cPf1N54bRZ9NoJhuqPJJgVSQecq0Ne//1lDLo1ix0/u5Ib5fytW6qkVE4K+l3a9VM66QNujCO3aK\n",
       "NW+SAhGVx2rOloRUH5QdzVhwWpTR/kqaEnYWGV2QexJ1PpS+I7CEgDX/yFRGIsiTSExPRvUNiZmX\n",
       "dTg23fGDVVbqxidq71App87foSqccmGK6sbnWb7JxLvu8ly9tdb1bxddqykj6LYmqlObi9zyJOO1\n",
       "8dOzkiTmHlXW/WwNC6s5r5OoT0zHNv/MyxKHm+9ASSPp1OyTvTJhrAFIYB79eSQ8p6pBykLjWl7R\n",
       "cRRqccEXu8fqNp2HBjtoS2RPuyfY/kShGrtgP1JOnmTQL0MtMNSd/r1OGdi/DVEwmgHZN8Q8VufH\n",
       "Ib0uDerQPdj014zCn0F9Y5gF1tZcYEVghOUByQoISssyo8c7vUjGovMXP38//lKUgLSJI66w199O\n",
       "K1mykZjqflxMmji3+8UTIVWQbsv+yXxD4Otw9BSU/40b5R+4GPY1rIeW/2b5UMXxQu+85q5FS0yg\n",
       "fSuxuare2ScsVWmVED3vCMsFAtkUjPLE6SO6nVvV6/ZtXyJDI6zil+ByiM3ABqINJFlkhbK0jxU9\n",
       "Hyo9bIMAZnCY/wSMtVqzgz14O0/vAtvCJiYicnjOI2Adg1dXmmX6GSa6sN6OCe5IqAPcEtwCEbWO\n",
       "sPYzLVkOkKCprEZEpJgYqdV8+cRmtL5yhC5LVRSrPx5oWsJBqdcZVn64uMNlxcpt3NOYhEG1yjfd\n",
       "P20IiPg3f+em+9v7AaGcptJQGAVnC5W2X23a8zsn+quE97gjTnObYe9QS0gU0B9wbl5a3O93Xsxd\n",
       "Z42EIUh2cPbsNtlKhyVOB6OjtKMTBuF+sdBTz6soKKhpGFgzlvVgl8Km+kqn7T17yAJfgiGwAn7n\n",
       "4EwGebQHf8XuzDW3siq8sCuNbd6mlbERRy4qreXMDNSDjaoQnQnrJQqDy7FnfxLNw1W2Vj4NxNKh\n",
       "FdQvzOg6o7/hhGIgmTJin3ulNZp/r/2nLAgrm7RbUqf9SlHYPR+cb3JKnpGZGNVmkPS14AYpStNa\n",
       "+/n6oSqfJJvQB0WIoFCx0bcEu+2HcGqEU+lmMQdw7eeAxZQYdaywahVG12AZDppC7hVTSvtT9zWH\n",
       "+9IpxSUnZ2w9Ra8Zd5PEmBilAPEFOwlf/6QnwzThg3pBNSNJVDCnXApXbUgnCxFDaMiD6tc+5eLV\n",
       "CeticlEflPn642zBGVdgo6dn40vT1SSQsNQTDwLB6cFuM+CUIpAZvUZjoGx9P0f02WF06lXHPNe0\n",
       "rm+s7kMOaySG+fvHc6zpiXc0HaIV8eumDJ4OFvQapwxVkKPRH+8hYkisJYyFB3MJ6rw78jDFc/vA\n",
       "uwhqUZvlN30tSU9XhDJsshS4nvaZVyXajQcN6y8WxEdjE/HqRR//6tHS0SY02KlgxlSR4orZ2q1d\n",
       "O8a9iK9qB7vnZYX7onuuwIgDdz1ttrWWcuTJkDZdeeLNya9muLVGLC0vqHyjvCwR+qtcog3YT3gk\n",
       "Al/6sLMwzbkM0MHK4BtfNHB37IkeSoQ0pYcBxskzj/kO+nz2K2OqHa1QVt9KXbu/jSIUurZ4AicP\n",
       "ARzZ9SD2d3dylc6KP3FnBjRx4U53D75ZSQPyiGzBxadUjVx17vTPm3bgJfQGhisV5yoiivJyZKWr\n",
       "qcGhTdAgi/fHvuHW7olGlKcBEyzojgUwk9DHfI9sb8BG3G/AmOERsoLdBQPAvo/2GT/wM/Zdc+31\n",
       "MIvEZXuw7V3XRlLAO+/Lfp4QhPGStAAdNLhzNT3BeDuUIToVE75Ni/DZf2QFIjsI9+8uQvNqsXp7\n",
       "2PlBW8TilOiW6CTN9BWrlhtHgSgN78ASfQc+okdQgu1WBgYsXYEcoq5IpBqQDdZXE0LF5/5rPxVr\n",
       "13TEcAZjQCJTa5PCgYQE3m6Htexin/X9LPndiPNc43ltEK4StDEy61NqBsPWd5AzZAU+fj2rTgks\n",
       "AIgDLodAV3RrpjXF711xSBZunLHZ1rsxRk5+/63r73kYzNBagKOZBcbcZxVkhc3w/OohVa2BM8u5\n",
       "Zmuutr59APevZrRd/Ri787W+WziPDwrCoECJdR2EBYsr+4PQaU+w3GWj0Fj90oSsGleXJ2sDQAq9\n",
       "uefQmRTIAFgoyFF/I1c1YWrnjyi+gzaHsTkoN+Zt0GGeEQKuR9ps9QOGGMQivrw4QFGuOdz89KZ5\n",
       "yGn7hbG2ZiiDOCLIbBEpYFob/wVKwM/ChJiap7+iQTt6mvptcw4Td+yQKOaeiWt+IN44Z+tAXeXO\n",
       "tF9yebETC8DXOnmLlDkHn8OgJlOmtUr7vbn5g507MvD/QNqhOp0ISI9PtKR8J2bG59+aejJh91uW\n",
       "eDI9WiiqYbChuow1Hsl7rXuRM/pw6ExxadAoUCybNP4jkFeFpuK8HrAQHKS7I8VYDPf+nm01JiI3\n",
       "GCS3bMQU4jOMFE0+AGDQcxRy7A2+8BBhHu0YE1GAVAZhBC/FMoTdIloWlSvkYyDuE0gh11YPt9fi\n",
       "bm7xBGhS4CR6gbAaAPT2q3/4O71///97O3av7WUcTbKCXyhPw4N+5159LdQVH+uOqscyWnfrPlkS\n",
       "OFsBJr39wYOyK4nUdZ6pg7XdIOvL79Ai+ezWeWaTaOMB+pfGdtJwPc3mHO/O/Rv4HxfgOXfDuCfe\n",
       "skuYHFZci9SEjFxoK0hZkbk8HhjkzxRKuzGAe4gGgoV4Yi/HsquVPRGFyQqEyLivE9i3gIJkENWi\n",
       "kAE+xuF1ygmSEEqd5MNBWPUeOrqknUMRtfH73RBFAsFYGvc8vgQOxbji+pKJR+97z2wg8y9IY6/+\n",
       "OckvdNwbtgt4vppjzKm7ICKoL3akDQ8wgN0mHuK0GE8aYlAWFKC52GpOZsJsD/4TsMRSg96LsiC6\n",
       "4cS2u/tvFyh/gFjQIufTAeqAmBZIW/gpKXjOHwyKs5RKIRIhIq+qniv3MVz+wyMDUbdlILzyayEt\n",
       "gFxSgGgupEJ8B8b+zQqJrJd7LWK3ps89mGl1z4NFTZ+dVyBtww+DLVjKh9nRDrRSO7nEqGrMl/bO\n",
       "A7SPkUhJFlF/Dt6mmHR5F6ljhCqWfCdhY8VBxyL+9UpFTu3/gAndagrbNOEijNCe7CML0k4fw05B\n",
       "xxDCD33D6IEZFTB+BAWloWD3QtJxVPTIXmG7PuaSuAAaqpyT0AtNgdL4hE3JxrvgtMt36VWphYMA\n",
       "caeGzcGzHW5zI3MILnJioVZkVuKZPKLJruluN4T6Y3T+YbvgnEawFFzs5zhuXw7G5TzobOD8GRMT\n",
       "W7LGVrlZGRka6E0jdeQUqj30+yppnLwNu5JwO5wBEkdPy2P+bdItVbLeFc+Hd/0nlNgOLz8Gi6tR\n",
       "AOl8bHP7P10koYrdcabQ12+usbN7XTqPPNuXO5h5kuwyRNB4g66V3PXXbwK5CKf9f5pVxSC9OdCM\n",
       "eqFlLUOaBhYMori3C9daKE6Ta8e7VHiJhwP/5FO86QbWMTpipwLobwaY8ENI31azENum9YlnjdRw\n",
       "VDPl4kN3nddJVrox49Ly3/kZGwszZPuNDIkkGJEY/yAYhAcGwOVEMnWCa2xsjxtcBvOHwAsIIbeE\n",
       "ZsQTHJGBvZ9IDjYLWu1oEzWFK6SgAHB1opCLxt2FoMm1Cz1lyDR1ojTX9YoedMC7VdhmRm5iUzQC\n",
       "C5mzq4InSyORJSJ0WFtvdFy+ZQ5PTxjMnH8YGgOi0g16L2ERIm1/afpeMc7jS1gzunf1+dBsZTzu\n",
       "TfY/rTCcEbKsE9nI5Ik1Qf5gRpXqYnK1/WrlAmhrN3od2Z6OMuri8eb7kjYyuh8z19WYcUjWxEPd\n",
       "40fd0+mEmoQRIuyNkdj/wb+05r9uUoap6s+V+LbklGW9BEt/HLA/S/bq2DtK0+LvRo9DCLc9oMDt\n",
       "wWb/6XD9tENNrj3XavXb5pVdlNWzBVPVHwoSw1wSDPcKUqw8gUiy2yrPMSvoZwDRjxz46NRLbf5p\n",
       "nW6fqCJmUEixGNn8RY7WX4K17VQWgmf96xY3f0PwDAw3STWug+gFRRQZrThwiQGuRmQiu/UeSdN4\n",
       "SWXmWH8Z1kZX8vy3Aofqe6DJBLqpU92y3pt918Ixx0HrbO7oNu2xQ9XrlAGkEPn+s+ZfgQvGGWRb\n",
       "3kxwglQTaG8WVwZ28VN70t/cpvUO59+7jTcYhgOqpnP9NuP/UGCAatB7hLmbwbyPRlsdY5E5dmuN\n",
       "JTGObQpFWyiJFuf5z3KTtfyrbVKkQjthRaqajeNQ+mjsr8ZQKemFJS+8TxEEbFSh4ftetEIfYqWe\n",
       "8OnHJxH3aD09KBC3Vq0hDs3ehaU0c9r8fg/cH9X2r7JVBp1bIcBub7g17Ys0HcmYg2twjaPd2fDP\n",
       "xpbje6YvH/l113qkExBR6rO8xV5sB6gLb46aReghqiptZmc4haUwV+aXekK4q/XbUrE7UEsERKez\n",
       "t16XStQs8kN70lYWGWaXJpbdeyZgVyNYbSNiAyT3Ny96ywaVpHLei0LYIuGjbfuevPfHEtCzk5p5\n",
       "dt58K7hlaAhjAHdENXE9AOwhppAjYV+4SzrTQ8xw7kLuuvRheM+azeIVwb6DxplAS488zJoJ8ckO\n",
       "0271+KACMf0vgzaQ7kVpF08LZRPgmyEZWpyvIqbyyvm9cKNJ7q4y8qhr9whyy0S2jyM4i+hYgUBK\n",
       "ehwLJYmnkZUG+dnYdxcAf67+hk/fa2QWID7etwDO7qwrtLT1FR0AGtvF5ef66qJxeFri2xAb7rGs\n",
       "1ncqEMQ49kp7xTTAIFIX+kn5pmXwaHlriL9lGbYW6yZQ6V9FLK7Ut/wGFyc3LdlA3/gtwJxzXurb\n",
       "hNSMzlRUZingXpqG/aV/irFvQIowP5mKP4NGOyQmVi5yR5KcDgNt7hyzaeXXndkxINMF6yPeagl7\n",
       "zEoo1ZBMfIxcjZhjD5/+LYUA+gr6Maj68UHRKXfnEBu/ndpL8OnEUVW/MqLn/oPxdVZ6KUWiyw+L\n",
       "lZpSC2v+XSGeK2ot3jax2KfrjfZ/7s6Tg5IrD7jAYphvYCaFiIVYKfyBAHubErSF3WkVaq/m1qMm\n",
       "8nvGflJvaNrcyPh9rgJ4SjfIveAG2lGBJ97nA8Ee3uUphYABB2pyx0pY0AaAANGyLK+Jcle4FfLO\n",
       "E8JrcKtWuqE4jqq8Q+KyV5qdRkcHJ3fEmF+AOjFGVAD8fDKwUmU7ttGMbLViXXwM1TXGm5pDN2eP\n",
       "MuANGUpnZkINT423HWc6dLG63wGvbmjTozItP7/bGY3J3O7n5CoMSoA90wYf8nIGs8BFph3UF2fd\n",
       "vNh12x4xu8KYeOht4k7CHRO32vktqiiPySKp//tayYFdkMNi60fw39J8kBjHnd4nOdxIY//N+8/k\n",
       "dvR9NS4Hc333+9gTmoUIRPOS+BVGGd21XgDZY06tbryiJHlcw34AbeYxCS+CdrDIfjH1IRsjwp6X\n",
       "eIVM10+urlCIbUCwxl9eVHwTyYXA7EhmUa67uy0NhXELtfblD+qwrxWsDMyUaLVQcIAia8oHkB8x\n",
       "05SDJ05ElGoQZppK8P15Yur3KAjdozwrhM+gExBvDqcfHrqfwdD10ufct+2v9muV6p+0eEEznxk3\n",
       "V3pGQzpnFf7AXWs75hJJGRpkNShjChJzLrjJ3rghjaDwgdcVPwAEZsNVPyifB0rXmTDJd/avnDCJ\n",
       "oWOsNPdKDmM8pfB1ugcybIsQY5BM3NkQ7pKLR9kFllp0clTupwmbzLg5UU2kRk3fNWMZi+VKU12W\n",
       "kQyBWx4rYm3ynA5Dp0tR10RTOrKaAV1kAs/0M5mUsSDn0Gjiy6C3nTJmQKYAWfwF1nQRl790PG4B\n",
       "1SOwoexF7C/eOJQ4EoCWuB+II9UTWBZadvCEwZ24zkZNokEskh7YsOMw4BR1CGHtmfhaA8V7g12r\n",
       "pJXKuHqLw/4WG9Qd9WxoYSYtzJqTaPc57GM9QoRzAInAzk23r8JBt+tAp0oEqgevr7rO9HcYASFL\n",
       "aRBCWzhLXpxSrOuUvU635FKMwkFpR3LuBLw5ZOsyHIhVdu3+8h9X16dvrPm3WGFtw7KDVxGpxZK5\n",
       "iODJVCbKsfLXqr7N/sEKFPgWS/q+r2eA7M5SmX1KRYw3QhPNoB/aXDRD89gqw+oHnwB/IWLu0R6b\n",
       "zRYZ3OPExGKw+bGROfxOgRnwefLMO/ELt76T+pm1wNjTkD3LEvVjCs3bIYzGeQtJRC2priAO/U28\n",
       "o+Xr+VRFr2B19n/Y/nR+UDWvBXpjWpu2JQUfJkdndnD60yPwonSsVyPI2vJEMObrM6v6UWnZ9gIT\n",
       "Bb7rGOJ1FKxoJ+JRqsVOWcSEc30V8S4PWqUZXIyj57aKu81Z0C/MmF27VmoKXl/ge6OLjljLl8TY\n",
       "pfGOHDWzmwyk/ClefoRGgydLvamEYreoPSf/yAWui/OzNcU6YcgW3vdjN8VSI0VL2lxbaDhOMQ2m\n",
       "HRmDsXNbGCGFOu56RZLuSvY++YbdqMt5v7q9RcI0i1BY6L87M0uTajuCuXplZodtt4Q86TyEOi62\n",
       "5nvuast+ruODXv6PTba0q3lDbx+/tJSywXb3Fwnk2dwDTHLZTA4CK63aSO0gQoSKnrBy9eKIfz14\n",
       "ALdEC9SKlVxQzpx/GUO7+vAA6k6XD6+eVISXu+p+pWMZL1NN/2pnCM7JwuQOvGoxRc1trRp3cyYC\n",
       "C7OsreYuDlYHlnMrd6Oe0UIgRsUz5hDA3Px9MUcV1XyhBc6Q3pBbvE9LnF3jAyO6xkkZjAe73+Ql\n",
       "SIDzEq949rG81dxsFxstbgujiNoH3XsszKXJ3b89cnpg7KC2SicY5mIXhJGDJQWzN3oI4kA+QE2F\n",
       "iz/nSxN9UjDLA66KoWs4eYugxRKgvlUb/s+PGfZEfK4Y1+AAElEAAAQqQZohbEEP/qpVAAsonwAC\n",
       "g1s/zB8NKw3sVj6cIY/fm3CD2yg3D7eA8I/hHRWaZVIvXQX91LmhdnwM8MGamEKubh9PAXLf8oX0\n",
       "0+RjffinIHmNC1oBr3FttsntMzlePRyx9VW+eL1zKIh1hugqJMPN64Su9B7YUZZY00vIRL/j8ECi\n",
       "eyrRTI5vIAHtN42HK+2fwGdsVv+Xne7Hh8e8Y/zNgo67QvtJy2TFEgx31op7oEro0xvEzJa+535p\n",
       "I8i/hBAW1L9wy6urnfurYKb37R17pb8vPTMVA0lnRezpZPKUwCleMJXb/W3lDaB9my3QfbedojlB\n",
       "CMkC7MrYvZoWu4CIhR6ZXbFeovJvEOn5BNlSuhpdX8PcuGrgXjmSRcY0FcMWMShdFfguDzIN0qfs\n",
       "3pyk2/f6wF0kLdtq2JaeX4tEFO/jJHCREAaJmXjvu6VpZa+O02FX/6LTbsHPvi1om+KHOSGozMjX\n",
       "CtH495zJj5vyfwLX70fR/I9cLc33Sa+zsZtC0EUEv/D/DjIMPARR+P0HNVhfHUD8eBb3Fi4SnyL3\n",
       "D7lP9O3ILMPZWiCRKOdOgihV9NpJig41a/l9BrjQWXAq70pCVZmDU95WBcKlFCX+wezgXoasT4iv\n",
       "bjqrcFZbT+EUORvkCm7SRVO4OWfZvOyvadL5aHe1X64Xlm6fVK/XwKQq2bLBNf/k9B/lAeJkE6Op\n",
       "2KfYltDyf7p5KQwcYnYhVR66cmnvitMjUbQBR1S44fWka0ifXWE6lWfTMpewS92bO/JJlx+xIXZ9\n",
       "ThnPTTtlaXIWeWwJsWsUbJ9Bs3Gzrj0IamieM6NTIPRhbPR7nVxJ0gqME9SI6R7Tti3XCNJFuSlF\n",
       "G3LOREG+ZJo+sZrLpwd6xJleFQTbtqoayXRA6sdR10v1lMNgBP1r04uRd7JADE6mb8PQEMmP57Nt\n",
       "9cj0iVxK1e6xCa50krLURbu/1+D+5M1WcUZvVNt6ApgKpvIY2AZ2uzD8J/Bsq5/8FQRm73Zfsbu8\n",
       "8o+sK0Q94JON/T5jj8tkTwxfP54sA6AxJudjdNggtNgPspy2TwAybKyDVgAWssgv4E8KL9fypqVD\n",
       "smgkEdlKGjWILPt0LKMhVK/uOh+RCvL3wb8WZXMkMtflqlgyGmzoDo3f1xed3rlQMpkPnk7CdUnC\n",
       "xsY+j4NLiRdwdF8U1swfDP/9BAIZBJHEGaakwYQOKnRxN11UB2zpTCoeV7dP6dtr+KvzjRPgp+Vu\n",
       "fq5+vsoAAfoFucw7RAqd1FZDfYAWm0935kv8++5LtCFI7ydcF1PO1ikrL7+Buy08Q7eULuH9pX/3\n",
       "iXsdheYTiwLChjP7eBcu3XwZLsCfK6kXX7gzkR/ukHtRUCWe5bYWmimJWcoQRk9o3UxboP/5cYpA\n",
       "CU2Z/DSkfs4OgED9au+nw+qBOaICF4lHgAAABUtBmkI8IZMphBH//rUqgAEgbQWeZ6EIFmx/gwCR\n",
       "aat4pVbu+pIuenfS4ffXcVKydE7lIghC0O9RKzzJtfHp8CNuEiq2bOJJf0LDgdM/1OXsC785z46r\n",
       "oUwkUY4YwNUuhAiomiD3aZLjlog/qbc4ZxTDOrgtfOlmn7po6hpptHhRThxM8WVuj0Lmiu/r1gcJ\n",
       "xXJOqA06x/6WrofoWZis8WW7ySZwuW/9tAkpz0lrx+jqQtXzuK1oMPmpZKGU4QecAB0mVG3Asyhr\n",
       "JlF4yCOosL3wBIKEeta4UK9INHphWyl2jggR4FXUQAR/qz31iTkvAwNrrkOmlsrRXJOZo2fHbrbY\n",
       "RBrENGEVTEkSBegLRu0JMsZAn221+FDt4Zj6oyV8Lyak35tnhOkGxgzUkCsxKziAnVPaSn+GVVlX\n",
       "pe02XWx1lPuR0LbsUwWL6RGc+HTjaolPmO/NuGkXTKhYzWLLQ2z1DsbOTLg9zBjOsrCTBBm7Llmy\n",
       "XvGSIUu/uDdFcjJSD29AlSm4LWfvk7Tu772J6Z7Yk/0YcWX9rEagrx0gMizCk4aDqxiI6Pylmw0g\n",
       "NWAFmW+jlzAgK11uhbKf0wObclYFvwMok/hVCa5seOhncuiHirtn92UGDW+qhKnI9iflrcR1bYFz\n",
       "t75W8IXmqlnyhT+TzPVv9cziJwAYkzRkyBIJd1orJY283i98BIbT3+/hlq5636wam7hQV3C0axj8\n",
       "ZjbS1r0n95Sadij3ZbDkm7NBUNz+rU1lp/NGGOMHjyzp2IJ9MAMAHO6a/LolZlXEnaA0tx8fYZls\n",
       "mvV7t1PiCh9vVsxh+cVnMqx78S2mWoAAdAcQAg4I8a5pBdAtxbXnB7RY8XY6d9xyJk+00F3CMfIc\n",
       "S3ywuGjsk3893rkbvM70JrSAxdSvBGVlndNY4iKX0kGOLFhK6zn7wOgUVNFl8c1yDjDqA8vgTkk3\n",
       "xTvIG7DDLDnUmC10Fa34QRj6hq5gVr4bWvrP/G32dYk+0tDx/LKkQMmmWGb5BxDLJUGqOzfA2PyE\n",
       "RzWLtB/AiJk9qS1jXe9gIy//n97AaefXzoAuW5HiJE+jwAjQdwT8LwulNyYVDxE+8WYGRNUsdVi5\n",
       "NuDTUu8M30Jd6Yz9YgkGUTHLhdl2gGE+U3swf3jbR/BQPFDX8CGWm7wD3mvg3FEL6reVofSCAEtY\n",
       "/PDcD2wNxkM/cuTEZ+7YUCMx4eolzqksGF4juOwFAWgXB7DnZoACiNlGrqlpwKK5+SpvuPElCWUj\n",
       "Kany8o0kvvc9BKkhrhU1arVZl7EZu6dUMEUN32m7MPK90FiM6KoZElK1YZdIm5iRhl1khwyqvIJN\n",
       "jSkhtFx2Wmxt9WFUkVaKSVOtKgQ495TeLXb3yQ8nmrT64CH5PEvx6VP1nI3CjLedfGjOGYfK93/Z\n",
       "Pd5n+BngKV5L7Hm/+aKsGf56QZS4z3DiuelQ8gfT9KQGpb0YyX54CUGerN+FSousZ16T4sLdXa6/\n",
       "9hxA7Oxh+qGbu8+tyCGrzwufZgngqBR1jQm6Nh2Yy5zRTucPSRAS/+DTBf2Ir4UOqEC1m+wC+qKK\n",
       "LJ7Cf+mBMjITDxRm5skHahsgVjLjfIu4gp1WEeX2nhqOaoSYxZfI7PONPCO+oKD0+K/vj6u8UkWj\n",
       "caqKXpXnYDyMTtIC4UGwfvBFYAlwr9vaAF65tVtxU5vOtw7AVo7G9/XshPVaWz1iKRN3/DVRJUrO\n",
       "h8WXLNlFq7ZGjiKJ8kCNrRWfQvot/9IoYCzB+vGYG8U7wJ/1fnCJAVhZFuT3PNrMIiF+T7t14m2W\n",
       "BzGHPQ81haEb9kJ+5cBPQQAABgNBmmZJ4Q8mUwIIf/6qVQAFS8ryAIlR8lSN1rdZnEZZ4ipfbTWq\n",
       "saKoov/0x2SWTl7/VyvpQ8RzR7IcPcmiGPX3fVOR74PR0OqgXGcSxQq9DUMCTHJJT3FuKk+Su+tr\n",
       "Hd1+GDfAOy9GjnjT7IJZQJsA00z8NTkOvTqCv3pIk1CE8CO+7y6DYO+SoTpFDIYNhBjyh4KBsCqu\n",
       "+VMkdosJMTM2Vf3nwD2IvGyrDrT/zmc9nUN57RwFXeabW3/lO3J60xnHwn8wxv57I/GZgMq7VpQ+\n",
       "mfaHCWSba3pNqkCtdAHS0aVNu6AyYot/RjBmUNyWk0VN/Q+lC+6JSJ7F+MAwzAAbNtxTJUViZWMp\n",
       "ODPN8rFoiLCcWvTYZMyTqzzMkBYwM1sUOVdFrDeIDgeC/XnaNn6u3lGtAYu/8Nim51BXuHFnivrY\n",
       "sMFlgGFh+Y5Qq8+QX5Q47JXTbfcsI2zmDMyf7wg4kk2wABuYo5rkAgMaJsJXAT/J+CM+lc3JR0lc\n",
       "IK5FvfzDGp9BYR6XK0P90b64CuMlg9LDHUAH/4dtCOFXtTDx8mG7dmwxHmTxl7zlIwW/GRdI6WkZ\n",
       "pyIFfmxnnChGo+RSf1+XxczLk3yid8m57RTf8WWYgbqSgCDKUEduirf+P3cgYW+ms74TCbh0pAPQ\n",
       "KJXZ/qSnw3vljNgNjm+tT0qYa6YPxHQi3dq7vIatUt5NqK+PwBiiYSWR/AUA0FZxTR0gqzyfl7k8\n",
       "Hi8mgWS3gajWL7gQkJt/mo6BV9qXYEyfL3IGnrkQMKt+UnZ7M6u8lX/f9U/KiPdysjCmsA1JfDK4\n",
       "+ae0DQDLBJL+bicoOrmEyQXO0cg28JLMJf2aW8vg3WoIaIFvo18rejtr0K3Vwfvkk3Z+puZfJtF/\n",
       "AynqHbBP7qPi+sPmRhCylfoKhSqRNJaQ9eHxMCX28dXFFs5ClXBjpJqzDYykxRHe1uiauV6YNCIA\n",
       "arqllY90ZKk5r/nsweGjm/VqX7eYMCpPPtL1KjzUa2hVH1JR6HXeH6NnbXeUTGAoME9aov/katRp\n",
       "CS5/bbfLaMTQ21wC6lCcsetqqQiNzctN56GteZExZ7lrfh4Cxj0h6C3qUXnjuCrz2U/T6CPA8ZYL\n",
       "/t7WjOR9yF2wHHJBBBiW2nDakmbYTsQthTLfIIawOESXonhvkI5VAtSPwdnUpK8iTS4O8B5RQPuq\n",
       "L6oNjqEEncAFmMoc26Ov4j20REyPoWBY708T4hOv1e+sJCacokDBhEvSa9O0hOK3xC/A+GLh2zPN\n",
       "W08ZM2QJLegCosPD9eNi8PJrbGZw4U0lLCSP3rVopxtheQl7Z86sZScya6u4Hv0vOCILn+vKV9PB\n",
       "/p6kQlkZZKiT1pBpJ58uKrn4AfIBbs6YLicjTXMCOqS6LIGHMkAbka5DfsT8CX415QovJUze8ZIh\n",
       "mXK9grIOOqY5ijm+ZwALuACR6Ih63EyPoeoIj162uZTSgP5O5f+HvocvqRFUWYO0cL+/Aprr80lY\n",
       "v2CIK5Iv0n1Dw9Nfn7MovzoPhALTQb9D1S6un7EJrikuLLD/gCdUkllGyFD0m4Nre9cx8G5F+QLk\n",
       "zoMtjE+3D0K2erRgPWYtHkkHGWiXOqG3ooooJ7zZJk/7XFJ6QhBRbJDBM2dxnxemfSPLA4qCNMFR\n",
       "zVoBc9T9VnF3LABnbXfxuG6czAu7VzWDRsuqMdk4S3mRlYWa34bSu00QeIgardZEWeMImGjJj5cN\n",
       "SMPTZfrn6sONya9h7vocKrDz0g00I6o8snuln+5lwe7xB0lRR6Oya0yszhrfh8t3JQAeqDd9tfFK\n",
       "ckf+XRqK38taWDjnZUpQbaslYp4qsNGXjiMlIFhQRWEhnFrt3blMCwp8ZYH95mHQinlhjOrgIwCW\n",
       "nvjQbTNd8aOS9AXKYTLqxmXNY994lWc0e4qtFGI/pq8mIPfi/xJlDjiJuMuwUsQ5+wbkOAOOEPpV\n",
       "yfJXbRG7ff0vQenO9RLfn2gXFB3+rxmJf07to0UZoNRuo3xECIiTNYTpCXYnTvpm5B0uzLmAC4+r\n",
       "AmjwEc9l4Oml+GHPoBTOuzRQd4sAAAKKQZ6ERRE8O/8AFlVgNUdD9GgBOtd6pb2pYLmT79gbXpBd\n",
       "ayHfvXUKD7IKLvdI35IToVx+ybpx7v0+XSdMO9a57VBfDEGO4FcXhs8/eJCkxDxibUbN+JxWPeBb\n",
       "cmXg+qjontxINHgqln/hG6qWfb3yH1KL3BMiAzuBXxfXQ1oO2EVSof7diLgBPSZ/FyQw1iK95dBH\n",
       "paRyr9+cUJFgHxjZBYI8hMHuACXglsEsr6kSyR5zLg1ZHyCq+cc36bELsA1fJdx/ts9nxRvAwjdb\n",
       "sOYcjETeahW7RyXSw4B8QS/q4bqWLGQ/yCXZYOaWefQapDYqPS/d0mX9Dq1j2giXJcAYhhqzsVPk\n",
       "vjdTNOlHQey2biPGMQHSbZ/2YHhDX2UgvJ2IQFmWNuv4kwmxvrM2WloZJlZ8+PxdDJmeYrdM4662\n",
       "7vtefkz0cTzDiyk9TI7WeU2ZyCY1aqIBEytp6I2W+nK6IJdtD1DaLBOms75vCEShbehe3JxXFWBi\n",
       "T3plXNQKTEr8s46P1kJo6RWCDHFfEvlZh5m6Z8PVs87U4AnqOn/B4Sn+OwRttQVQ/iY2qIh2GZPW\n",
       "1Bp3vYs8kaORCH8fSZ+YlRl/SFqAiGVHoRH1rCVOTbVay1KdyIcsicRAixbuhoMVWLbGJR/UCteF\n",
       "pCQNX+79xknvjVgT3kXv1kopx86OPzXQ1z0Rn5I9iZS+2fHKuERBQaB+6XXTWKxny4epZro9SdRg\n",
       "UGmUFS/j0W2TATQQAz4BWYyiX1AB39GvdzBWoaaIwKfg3pSCP/4M/aQFtHPUHml0QH4ywnbjHEDq\n",
       "vUSZAD3U91Y1OOoRQaRn2APzs8wemih40ofRxgfoYRKkmbJDn+9KIAaohHJP8dUAAAIsAZ6jdEN/\n",
       "AA4p72sk+gA/pB+rd0rjCt4UVlM3hOOrKm0r7P0/n5HK5hZMWvu8EVh6TjLNzIgL77tfWqW9pR8z\n",
       "ASiPSoASpr99dcuJjEkAw83vpCcu0sIOthfvVvDjBtR108aGqjZOezV7Hu66Uosf1u70f+aUzieX\n",
       "9+iVBIFQiLPEnFereSlEAb7zTZjJ0Fq5nbpe9HrQcKvIMMPlJPl/AwQ590wFvC7w0fxz0GVuMunr\n",
       "UcVz0wrG0hfJK061ufVhiidBN0daRdoMfNroGlhb51EUnjFELiBuWNUt+LMXBmT3bOfyBeW0bHKD\n",
       "7qLRYtmd+4GQT62DdvnYWoXYtqfNqdQTTU3Yj7+8fa53dyZFrBbOQgs3NKphCU0y1QfqELn0y0bJ\n",
       "9FEHfOM4Pa7ShPqEYZr/6meaFWAnWS8unhmfGdHl2YJnsGJ6XKcULz0AqjCkRTHTVRczUUdlDAZQ\n",
       "Upnr6LFq4BgDkeiepYXWKMlTt4TSDFRYh5Hca8uLH2O4GMyGuIsrVN+XJHNpQ8JiishQwocJ19iY\n",
       "hHEb12t0E1DWRyHiGKyv5oB9D+nLjx6w2tSSwwJLBW3exDNZmtvMFglHkOh7PLvFaBX9rd2KBBrE\n",
       "IocF95ia7RZd6EPNGOYla/S6ORBlRjwujRX1Okc2uXLrW3+OOH1dHVMu3+Z9ssjiBGG9rQuGs/OM\n",
       "6HjSjpZnxkgNN99pL5HuwZPEhBPUNEOf2vKrBdj7wAGwK6hKwQAAAe4BnqVqQ38ADlE9XCPMBgAF\n",
       "xVjMs8JVhh17NFRRbt3sGH3kBzfUj1wXB8gFoSKGv5icj4XqEs8Uk2sG62atJ8mnrjniYd0V7vch\n",
       "ilUDaHVwYMOIMgdSWAL5NMFdFQSpQkSV+wo0V8p0whys1YfdYhn+Ox8JffPVBgocBYsJwX5bkNr6\n",
       "RzcJ9mFZ1GOfxtgBqGzO6z1jpuaTn1NK3ivjeFt7KVq3UEyKrjLGbB9u78M+atjcmmbe4aco2dVf\n",
       "6BsvW0cfJwaE9gvvG7QAq3VGM5kQKkgRHGV1zxBl7kmAPO2SLwXV8I0rWOIqdUoZfBfGm1Ldqdq7\n",
       "T/sIOIMx3HpCCRbGhP/+EpnbOqHl9tEa1NsuA4/5JsmQ4coIBZxpsLYrsdx1AceHyrg65lumFqM8\n",
       "Ea64i9QqWJW/HUxQBJo7F8AJsjjaYRqR3thwdfa+3j6UQpSqWSexXno9rdCMDlUfvb1xKATjjYFO\n",
       "NF3+Wn3brBPPh4Xc81PZVQZK6KnRJbUWWqvACFVAd0eqBKE2VlIpf6TXxMd+O0BfKoEx4de8TmVL\n",
       "eLD0YA6qqXBgtYd+/vNqC9/co0uVn7YG56YR8ONKsqoFTZRefvakb/pBVjVSz6B27/jk1GK2esBK\n",
       "YByOFrpbda1INlbU0Eefh+gABJVOoQAAA3hBmqhJqEFomUwU8Ef//rUqgAW3qSORWV4bjomQAsK3\n",
       "8wqNPuiToy44+ZhfBRSk0m01YJD4ywUoPms1BvNjgo2eefLbZy8pWBD++sogG9jFzoe9gjVrKGxr\n",
       "Fr5IizKusr9wVSUshxIUAxNgX8PWqogERaj+zBSqlHTwU/FKyFFZbPhz6o3dXXKrkzrGgVLn3ABn\n",
       "nQstE0eJT5hqKnTVX8/Qlvy3FC4anAcFUScCpplwYXxSlX8lWncIynHdsaUpSGCFItMz6EU1cLFd\n",
       "VXtpXNYAIKj7SEQZwtyK4YBDCQdWOgvq/kmdFCMVwQYbiMrr9LmmKNATWne2BcBdaQ2VujvaP8kB\n",
       "2Uo4ZmutVfF55/Lx2ZanIEHYTOvPB9jKgKOgX8mFgG+soQpAnArKPdxrzoakp9CgeWkZAUYlDTLA\n",
       "X1vTB5lBUMXaTr1sgQEE/PabgIGxWunbV1Oh7dPGndWZFCOcKzuiBHT0nbBrP2zwBoH6F3OQfUOx\n",
       "exrm+1ExYlODLaQYwZeezidpITTu433QAFiuCgb8rpSLqXQp2LkFCPja91oTXH+0dw0n0n86JhDG\n",
       "arDYb3uzTep7hz6eydxLlpX95muJs6EDcdDTLh8/KGkoYFT8lyAunCUuhJxFL9pIrgnckieLFmUI\n",
       "GMv+yT6vl0YxCIenwua02ySAiWyPgU/G8FScYM+OOhK7sVNJCtUcRvNdyWeHb9beE7g5DSzDiQEE\n",
       "FXLLVcRhT0yFvkgHgrPaoRLUXnqMDxQEmpHCkQjxHQ3SDqBQygi2NTOlers/UPdO4q1ZzrIKvP4a\n",
       "H3iQkwtc5qw4Zsh/+PHON1r4fM4pBcDY2ecwBtYVJJ4/YMfNhxDIHiMn9dmhN4YJX/FpN3RYSy8k\n",
       "Gv6yPcy1N57H9IIwTD3Xw/C3WLRChMlbU+7jqfL4dFfpDw6dz4G9PhUNN8Bpq7hfXwC15RaMZ1FQ\n",
       "s66TMlf6fQMyTVI0d67eQjFJIodUMpFELWGGcDO4AmMbrLkOMFs32bf7wRfy++8iXYyfSziC/lTG\n",
       "3gIh1yKtO60FUOCg4MfT8mrjYYJEjaU5ACsj0XvACOsTbfInxVF70Outiz4t8fl82Mu9ACTJ3Z3E\n",
       "wvm1H3PXpyjHewqhU6LCL46VPcXtfQq9HmX742fUkC+PulikJIdxUfLmlz4oBzc0uunLqokHyFYA\n",
       "Az8AAAEyAZ7HakN/AA5RV21muAE0F2z01elxpxlzgiD9V+ILvm5sm2dQk3PPsb3g2XIJBX7qg81L\n",
       "lfYuBAROa91IYDx0CpWYL740FRIcBAhMTHk7QuIPljBwOoi+ZB1a+7y4GW1pb/RSmLtlFuk8qt5r\n",
       "DmVx/7KR7BLPnk53t9XBMf1a0zLun3m6MMSMkaYpQ8QL1VGTpUdWPM9m2QMMqNLQjNqxpKh8Ce/8\n",
       "/2u7tyTTVlQtUGdYmzi0g2i97FygFESPQ5m/LGrhm4impgIfX+neOf+TQ0AnbMdCgpoZz21RkJy/\n",
       "x9xvB3xtEHI0bokFYhggIckxpC6df0R1sKLxgGJU6eUU6FnbaVkaWl6phhYVHK4QAa4SnHiBECm5\n",
       "M1h6OKQVhvLLCasdf/Hu07fgL5zw9QAGEIkQAAACJ0GazEnhClJlMCCH//6qVQAK40y8ABqH8pdl\n",
       "oXoJH3gBq10HWpYqPXbdAk+jMFLY17LPd0STMcAvfEBj1Tk+xg455XjkqrrE1ELv72HRb700JmHf\n",
       "XzzTLcX/iDaJ4XlIHVnNwny2YDgShJJFn7nsg/ZBzBxW4q8VrMKRjHzQoNIqNSMvsPQgTWr/RArr\n",
       "PoJw6XwISl37eI5Diyf+fyv/K3DBZEEAcn3wlFoZ+3rLqS2TQ/fTFs67q0EJ0kHtPUn5y8hhC4ZW\n",
       "4/8qjlAQguh1k7qeMlMRHIZXJ9PUP48EGBQBG1G6RvY8Kg1VJy/nH2WBe/2peUP7a9vUEgWCvQNA\n",
       "OyfbryAY4ydBS7VNZbzg0iTWagshKf7j2DVEgqT3FqBecQlWeVkaTbFVgFKuZUmciUMlyPclOhx7\n",
       "0AFE4isaXq2ZRIusPEX+PJtZzaTLQKvAJag3eUIizMhoG3g1BH6Zz2AxMKaRIoO60pYiMMYt8NsJ\n",
       "L/OuKs3qH9ZC8zzwcBEDKfUgicbbGQL+Qo/dQEQ+LiQyK6x1sWplisvL7Uy+lnkubFEbouNIUVby\n",
       "l4RrAX1LTvT3DUbmLODL1wV2J826hjlbxGK0gRMecWpycbxf9irujrFzK4DN8aVszA1RCdj/WpN8\n",
       "jAwMRsKGIlIJrmP9ENp2BfApD68Pu5/quJSB95z1g417nTuv7rV/AJR62yREx91nW/3Mk+Utj398\n",
       "1LYAUjvW/AUpUcHgAAAAgEGe6kU0TDv/AAovh8PlhABLJ9f5wNjGm8d1pHxBixVqiWxaXzsm06yf\n",
       "0QF6mpL/qNUHxGgbKjkfffpXxzBau9tD1HJwdQ5VJAYIBzZUqt5e/o2Rkmf5xi/6uN0zPgXVxx96\n",
       "WssCYcDbco0d62A5UkYXSofvGzxjmsLUFoAATkJ7AAAAVAGfCXRDfwAOUVXXLQAE68nppqA9eDSS\n",
       "nUNETUc9dlIzaZTMS+q1ENESm+h8XT7GZdciJq05eRP6dTiKFkRGBcjTy3WfeqmVeHNhHTJfvLaA\n",
       "AHCiXAAAABwBnwtqQ38AAeFVRer2Y5sDyhbnyTbaiXADAPTsAAABMEGbEEmoQWiZTAh///6plgAq\n",
       "XU1QBQEDAZwQgjUt6fuhX8djqE2DJgKWb5fwS5UZmGV9mxq5r1MkefT8Ct0/CwmBhOWmAHbTx3MU\n",
       "ykmUB3o4Hd8zWK1L2vVijXXC432/Ua4+UbjTjDU6l/B7RaKTGpQNi4KM4sM7nfDLOyx4FNOQGfoG\n",
       "PIcoP9D71fCaJ2RmDMVgP2rb+woL82GUmPhS8L2RgCOAM1lTVEe7na6SHzEDZFJNgitVWX1c6uT1\n",
       "f2aHcdCgUCkvWkJiyJO2SF5E/zRqUKkWpxgeskS2qMLbL9bb1PMJ7S15fwKamkOmZDv0lk4Dnkid\n",
       "QXGRRADJf4p1NKkTa7Nc08w2Jh9mc/sFaYjKa0a3FHAWkyE3lAMlGyAKTeabJiBQsIRHHgB+RWfD\n",
       "LZkAAAAuQZ8uRREsO/8ACYSAHph9clGhJ6EH0DJq1pKac4eQ59Mi6i3J7Qkg/AAexCoCXwAAABsB\n",
       "n010Q38AAeXUDH7gYJv1fcENEIxkAGGizYEAAAAZAZ9PakN/AAHmKIGEV91IvRp7lp1wAwFjDgAA\n",
       "AHhBm1NJqEFsmUwIb//+p4QAU/bkgAsFVx9CDdU1J7So9IsCvfKiufS1Z4lGLcN8LZn+adqan2Ms\n",
       "Rfq8OTH1zDWG1IdhRHGkf5dUfVujhLF/pQBtMp5GutYoicQn5GTkKGVw9Qr04jK2VOEQjO1arqhs\n",
       "/JUNnvnAAS8AAAAhQZ9xRRUsN/8AAeZSrcL43czrossMCP2oldyIiAA5ucvBAAAAHQGfkmpDfwAO\n",
       "KUQHd6AIqYpViMOCdFaSmAAbFb0gAAAEB21vb3YAAABsbXZoZAAAAAAAAAAAAAAAAAAAA+gAAAfQ\n",
       "AAEAAAEAAAAAAAAAAAAAAAABAAAAAAAAAAAAAAAAAAAAAQAAAAAAAAAAAAAAAAAAQAAAAAAAAAAA\n",
       "AAAAAAAAAAAAAAAAAAAAAAAAAAAAAAIAAAMxdHJhawAAAFx0a2hkAAAAAwAAAAAAAAAAAAAAAQAA\n",
       "AAAAAAfQAAAAAAAAAAAAAAAAAAAAAAABAAAAAAAAAAAAAAAAAAAAAQAAAAAAAAAAAAAAAAAAQAAA\n",
       "AAH0AAABkAAAAAAAJGVkdHMAAAAcZWxzdAAAAAAAAAABAAAH0AAACAAAAQAAAAACqW1kaWEAAAAg\n",
       "bWRoZAAAAAAAAAAAAAAAAAAAKAAAAFAAVcQAAAAAAC1oZGxyAAAAAAAAAAB2aWRlAAAAAAAAAAAA\n",
       "AAAAVmlkZW9IYW5kbGVyAAAAAlRtaW5mAAAAFHZtaGQAAAABAAAAAAAAAAAAAAAkZGluZgAAABxk\n",
       "cmVmAAAAAAAAAAEAAAAMdXJsIAAAAAEAAAIUc3RibAAAALRzdHNkAAAAAAAAAAEAAACkYXZjMQAA\n",
       "AAAAAAABAAAAAAAAAAAAAAAAAAAAAAH0AZAASAAAAEgAAAAAAAAAAQAAAAAAAAAAAAAAAAAAAAAA\n",
       "AAAAAAAAAAAAAAAAAAAAABj//wAAADJhdmNDAWQAFv/hABlnZAAWrNlAgDPn4QAAAwABAAADABQP\n",
       "Fi2WAQAGaOvjyyLAAAAAHHV1aWRraEDyXyRPxbo5pRvPAyPzAAAAAAAAABhzdHRzAAAAAAAAAAEA\n",
       "AAAUAAAEAAAAABRzdHNzAAAAAAAAAAEAAAABAAAAmGN0dHMAAAAAAAAAEQAAAAMAAAgAAAAAAQAA\n",
       "FAAAAAABAAAIAAAAAAEAAAAAAAAAAQAABAAAAAABAAAMAAAAAAEAAAQAAAAAAQAAFAAAAAABAAAI\n",
       "AAAAAAEAAAAAAAAAAQAABAAAAAABAAAUAAAAAAEAAAgAAAAAAQAAAAAAAAABAAAEAAAAAAEAABAA\n",
       "AAAAAgAABAAAAAAcc3RzYwAAAAAAAAABAAAAAQAAABQAAAABAAAAZHN0c3oAAAAAAAAAAAAAABQA\n",
       "ABzsAAAELgAABU8AAAYHAAACjgAAAjAAAAHyAAADfAAAATYAAAIrAAAAhAAAAFgAAAAgAAABNAAA\n",
       "ADIAAAAfAAAAHQAAAHwAAAAlAAAAIQAAABRzdGNvAAAAAAAAAAEAAAAsAAAAYnVkdGEAAABabWV0\n",
       "YQAAAAAAAAAhaGRscgAAAAAAAAAAbWRpcmFwcGwAAAAAAAAAAAAAAAAtaWxzdAAAACWpdG9vAAAA\n",
       "HWRhdGEAAAABAAAAAExhdmY1Ny44My4xMDA=\n",
       "\">\n",
       "  Your browser does not support the video tag.\n",
       "</video>"
      ],
      "text/plain": [
       "<matplotlib.animation.FuncAnimation at 0x7f55f6361e10>"
      ]
     },
     "execution_count": 39,
     "metadata": {
      "tags": []
     },
     "output_type": "execute_result"
    }
   ],
   "source": [
    "fig  = plt.figure(dpi=100, figsize=(5, 4))\n",
    "plt.scatter(x, y)\n",
    "line, = plt.plot(x, lin(a_guess, b_guess, x))\n",
    "plt.close()\n",
    "\n",
    "def animate(i):\n",
    "  line.set_ydata(lin(a_guess, b_guess, x))\n",
    "  for i in range(30): upd()\n",
    "  return line,\n",
    "\n",
    "ani = animation.FuncAnimation(fig, animate, np.arange(0, 20), interval=100)\n",
    "ani"
   ]
  },
  {
   "cell_type": "code",
   "execution_count": 0,
   "metadata": {
    "colab": {},
    "colab_type": "code",
    "id": "NRj4LF7eDkAd"
   },
   "outputs": [],
   "source": []
  }
 ],
 "metadata": {
  "accelerator": "GPU",
  "colab": {
   "collapsed_sections": [],
   "include_colab_link": true,
   "name": "Untitled12.ipynb",
   "provenance": [],
   "version": "0.3.2"
  },
  "kernelspec": {
   "display_name": "Python 3",
   "language": "python",
   "name": "python3"
  },
  "language_info": {
   "codemirror_mode": {
    "name": "ipython",
    "version": 3
   },
   "file_extension": ".py",
   "mimetype": "text/x-python",
   "name": "python",
   "nbconvert_exporter": "python",
   "pygments_lexer": "ipython3",
   "version": "3.7.1"
  }
 },
 "nbformat": 4,
 "nbformat_minor": 1
}
