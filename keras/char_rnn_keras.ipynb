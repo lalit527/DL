{
  "nbformat": 4,
  "nbformat_minor": 0,
  "metadata": {
    "colab": {
      "name": "char_rnn_keras.ipynb",
      "version": "0.3.2",
      "provenance": []
    },
    "kernelspec": {
      "name": "python3",
      "display_name": "Python 3"
    },
    "accelerator": "GPU"
  },
  "cells": [
    {
      "cell_type": "code",
      "metadata": {
        "id": "9kYAlist3HZI",
        "colab_type": "code",
        "colab": {}
      },
      "source": [
        "from keras.callbacks import LambdaCallback\n",
        "from keras.models import Sequential\n",
        "from keras.layers import Dense\n",
        "from keras.layers import LSTM, Embedding, Dropout, TimeDistributed, Activation\n",
        "from keras.optimizers import RMSprop, Adam\n",
        "from keras.utils.data_utils import get_file\n",
        "import numpy as np\n",
        "import random\n",
        "import sys\n",
        "import io"
      ],
      "execution_count": 0,
      "outputs": []
    },
    {
      "cell_type": "code",
      "metadata": {
        "id": "dL54-4ax3Nes",
        "colab_type": "code",
        "colab": {}
      },
      "source": [
        "path = get_file('nietzsche.txt', origin='https://s3.amazonaws.com/text-datasets/nietzsche.txt')"
      ],
      "execution_count": 0,
      "outputs": []
    },
    {
      "cell_type": "code",
      "metadata": {
        "id": "JDmLCEjd3WtV",
        "colab_type": "code",
        "colab": {
          "base_uri": "https://localhost:8080/",
          "height": 34
        },
        "outputId": "0101bdc0-cada-41ff-a0d7-a628ea3e3329"
      },
      "source": [
        "text = open(path).read().lower()\n",
        "print('corpus length:', len(text))"
      ],
      "execution_count": 6,
      "outputs": [
        {
          "output_type": "stream",
          "text": [
            "corpus length: 600893\n"
          ],
          "name": "stdout"
        }
      ]
    },
    {
      "cell_type": "code",
      "metadata": {
        "id": "r-9I8NWu4OfH",
        "colab_type": "code",
        "colab": {
          "base_uri": "https://localhost:8080/",
          "height": 34
        },
        "outputId": "47134f66-cf9a-41f1-bdb8-d45e4fe73b2c"
      },
      "source": [
        "chars = sorted(list(set(text)))\n",
        "vocab_size = len(chars)+1\n",
        "print('total chars:', vocab_size)"
      ],
      "execution_count": 8,
      "outputs": [
        {
          "output_type": "stream",
          "text": [
            "total chars: 58\n"
          ],
          "name": "stdout"
        }
      ]
    },
    {
      "cell_type": "code",
      "metadata": {
        "id": "ag6z81I_4YOv",
        "colab_type": "code",
        "colab": {}
      },
      "source": [
        "chars.insert(0, \"\\0\")"
      ],
      "execution_count": 0,
      "outputs": []
    },
    {
      "cell_type": "code",
      "metadata": {
        "id": "9nD1Fenw4atf",
        "colab_type": "code",
        "colab": {
          "base_uri": "https://localhost:8080/",
          "height": 34
        },
        "outputId": "4dc430fc-31c3-4834-c1c9-ba76839eb28a"
      },
      "source": [
        "''.join(chars)\n"
      ],
      "execution_count": 10,
      "outputs": [
        {
          "output_type": "execute_result",
          "data": {
            "text/plain": [
              "'\\x00\\n !\"\\'(),-.0123456789:;=?[]_abcdefghijklmnopqrstuvwxyzäæéë'"
            ]
          },
          "metadata": {
            "tags": []
          },
          "execution_count": 10
        }
      ]
    },
    {
      "cell_type": "code",
      "metadata": {
        "id": "khJwJ7Zt4cwH",
        "colab_type": "code",
        "colab": {}
      },
      "source": [
        "char_indices = dict((c, i) for i, c in enumerate(chars))\n",
        "indices_char = dict((i, c) for i, c in enumerate(chars))"
      ],
      "execution_count": 0,
      "outputs": []
    },
    {
      "cell_type": "code",
      "metadata": {
        "id": "DGSIYUl-4f0L",
        "colab_type": "code",
        "colab": {}
      },
      "source": [
        "idx = [char_indices[c] for c in text]"
      ],
      "execution_count": 0,
      "outputs": []
    },
    {
      "cell_type": "code",
      "metadata": {
        "id": "W-svamky4iU0",
        "colab_type": "code",
        "colab": {
          "base_uri": "https://localhost:8080/",
          "height": 34
        },
        "outputId": "119a59c0-4858-446e-fb3b-ab012479a60d"
      },
      "source": [
        "idx[:10]"
      ],
      "execution_count": 13,
      "outputs": [
        {
          "output_type": "execute_result",
          "data": {
            "text/plain": [
              "[43, 45, 32, 33, 28, 30, 32, 1, 1, 1]"
            ]
          },
          "metadata": {
            "tags": []
          },
          "execution_count": 13
        }
      ]
    },
    {
      "cell_type": "code",
      "metadata": {
        "id": "XKFi8RSt4jfM",
        "colab_type": "code",
        "colab": {
          "base_uri": "https://localhost:8080/",
          "height": 54
        },
        "outputId": "34b46952-e058-47c7-dd71-73980851a2b7"
      },
      "source": [
        "''.join(indices_char[i] for i in idx[:70])"
      ],
      "execution_count": 14,
      "outputs": [
        {
          "output_type": "execute_result",
          "data": {
            "text/plain": [
              "'preface\\n\\n\\nsupposing that truth is a woman--what then? is there not gro'"
            ]
          },
          "metadata": {
            "tags": []
          },
          "execution_count": 14
        }
      ]
    },
    {
      "cell_type": "code",
      "metadata": {
        "id": "YAnULTcB4l0s",
        "colab_type": "code",
        "colab": {
          "base_uri": "https://localhost:8080/",
          "height": 34
        },
        "outputId": "39327a25-2603-4a43-eadf-4ae0fd7e10cc"
      },
      "source": [
        "maxlen = 40\n",
        "sentences = []\n",
        "next_chars = []\n",
        "for i in range(0, len(idx) - maxlen+1):\n",
        "    sentences.append(idx[i: i + maxlen])\n",
        "    next_chars.append(idx[i+1: i+maxlen+1])\n",
        "print('nb sequences:', len(sentences))"
      ],
      "execution_count": 18,
      "outputs": [
        {
          "output_type": "stream",
          "text": [
            "nb sequences: 600854\n"
          ],
          "name": "stdout"
        }
      ]
    },
    {
      "cell_type": "code",
      "metadata": {
        "id": "6qCGTH4Q4pUM",
        "colab_type": "code",
        "colab": {}
      },
      "source": [
        "sentences = np.concatenate([[np.array(o)] for o in sentences[:-2]])\n",
        "next_chars = np.concatenate([[np.array(o)] for o in next_chars[:-2]])"
      ],
      "execution_count": 0,
      "outputs": []
    },
    {
      "cell_type": "code",
      "metadata": {
        "id": "dRV1-68Y5TY9",
        "colab_type": "code",
        "colab": {
          "base_uri": "https://localhost:8080/",
          "height": 34
        },
        "outputId": "5578988e-3bce-4fa4-b990-920763b8274b"
      },
      "source": [
        "sentences.shape, next_chars.shape"
      ],
      "execution_count": 25,
      "outputs": [
        {
          "output_type": "execute_result",
          "data": {
            "text/plain": [
              "((600852, 40), (600852, 40))"
            ]
          },
          "metadata": {
            "tags": []
          },
          "execution_count": 25
        }
      ]
    },
    {
      "cell_type": "code",
      "metadata": {
        "id": "w7XGyH4h5eBO",
        "colab_type": "code",
        "colab": {}
      },
      "source": [
        "n_fac = 42"
      ],
      "execution_count": 0,
      "outputs": []
    },
    {
      "cell_type": "code",
      "metadata": {
        "id": "R8lXJ-xj59Un",
        "colab_type": "code",
        "colab": {}
      },
      "source": [
        "model = Sequential([\n",
        "    Embedding(vocab_size, n_fac, input_length=maxlen),\n",
        "    LSTM(512, input_shape=(n_fac, len(chars)), return_sequences=True, dropout=0.2, recurrent_dropout=0.2,\n",
        "             implementation=2),\n",
        "    Dropout(0.2),\n",
        "    LSTM(512, return_sequences=True, dropout=0.2, recurrent_dropout=0.2,\n",
        "             implementation=2),\n",
        "    Dropout(0.2),\n",
        "    TimeDistributed(Dense(vocab_size)),\n",
        "    Activation('softmax')\n",
        "])"
      ],
      "execution_count": 0,
      "outputs": []
    },
    {
      "cell_type": "code",
      "metadata": {
        "id": "-j3rgIpN6nkj",
        "colab_type": "code",
        "colab": {}
      },
      "source": [
        "model.compile(loss='sparse_categorical_crossentropy', optimizer=Adam())"
      ],
      "execution_count": 0,
      "outputs": []
    },
    {
      "cell_type": "code",
      "metadata": {
        "id": "yLYKMlIa70bs",
        "colab_type": "code",
        "colab": {}
      },
      "source": [
        "def print_example():\n",
        "    seed_string=\"ethics is a basic foundation of all that\"\n",
        "    for i in range(320):\n",
        "        x=np.array([char_indices[c] for c in seed_string[-40:]])[np.newaxis,:]\n",
        "        preds = model.predict(x, verbose=0)[0][-1]\n",
        "        preds = preds/np.sum(preds)\n",
        "        next_char = np.random.choice(chars, p=preds)\n",
        "        seed_string = seed_string + next_char\n",
        "    print(seed_string)"
      ],
      "execution_count": 0,
      "outputs": []
    },
    {
      "cell_type": "code",
      "metadata": {
        "id": "x6d1SsCG709x",
        "colab_type": "code",
        "colab": {
          "base_uri": "https://localhost:8080/",
          "height": 88
        },
        "outputId": "580ee6b9-6ecb-45c4-8df7-1e1d61c62481"
      },
      "source": [
        "model.fit(sentences, np.expand_dims(next_chars,-1), batch_size=64, epochs=1)"
      ],
      "execution_count": 46,
      "outputs": [
        {
          "output_type": "stream",
          "text": [
            "Epoch 1/1\n",
            "600852/600852 [==============================] - 1060s 2ms/step - loss: 1.4310\n"
          ],
          "name": "stdout"
        },
        {
          "output_type": "execute_result",
          "data": {
            "text/plain": [
              "<keras.callbacks.History at 0x7f6a07618a90>"
            ]
          },
          "metadata": {
            "tags": []
          },
          "execution_count": 46
        }
      ]
    },
    {
      "cell_type": "code",
      "metadata": {
        "id": "SCmwLi1v8mIO",
        "colab_type": "code",
        "colab": {
          "base_uri": "https://localhost:8080/",
          "height": 139
        },
        "outputId": "8407bc71-e2c0-4368-b7ff-139206715325"
      },
      "source": [
        "print_example()"
      ],
      "execution_count": 59,
      "outputs": [
        {
          "output_type": "stream",
          "text": [
            "ethics is a basic foundation of all that it is mhat betaken up, of the gain danger with destiny of the dangerous skuces, and a \"exercise\" and\n",
            "the person end also reverence. he has precisely when we are sensible through elements.\n",
            "\n",
            "201. it is a \"means of the world coarse as them. who read himself, the\n",
            "personalists\n",
            "experiences with a \"good corruption\" in all th\n"
          ],
          "name": "stdout"
        }
      ]
    },
    {
      "cell_type": "code",
      "metadata": {
        "id": "5AlVTo-1EOPI",
        "colab_type": "code",
        "colab": {}
      },
      "source": [
        "model.optimizer.lr=0.0001"
      ],
      "execution_count": 0,
      "outputs": []
    },
    {
      "cell_type": "code",
      "metadata": {
        "id": "M4RTbZWnDU-P",
        "colab_type": "code",
        "colab": {
          "base_uri": "https://localhost:8080/",
          "height": 122
        },
        "outputId": "61ba48b2-9f7c-4cb4-c5ca-c23be75d79b4"
      },
      "source": [
        "model.fit(sentences, np.expand_dims(next_chars,-1), batch_size=64, epochs=2)"
      ],
      "execution_count": 61,
      "outputs": [
        {
          "output_type": "stream",
          "text": [
            "Epoch 1/2\n",
            "600852/600852 [==============================] - 1047s 2ms/step - loss: 1.2724\n",
            "Epoch 2/2\n",
            "600852/600852 [==============================] - 1050s 2ms/step - loss: 1.2406\n"
          ],
          "name": "stdout"
        },
        {
          "output_type": "execute_result",
          "data": {
            "text/plain": [
              "<keras.callbacks.History at 0x7f69fa3e9c88>"
            ]
          },
          "metadata": {
            "tags": []
          },
          "execution_count": 61
        }
      ]
    },
    {
      "cell_type": "code",
      "metadata": {
        "id": "UXoiunW7DeJI",
        "colab_type": "code",
        "colab": {
          "base_uri": "https://localhost:8080/",
          "height": 173
        },
        "outputId": "57bf7c8b-380b-40d3-e1ad-bd7d38e74d48"
      },
      "source": [
        "print_example()"
      ],
      "execution_count": 62,
      "outputs": [
        {
          "output_type": "stream",
          "text": [
            "ethics is a basic foundation of all that conduct is a remarkable emotions be unconquerable\n",
            "at\n",
            "the future of the jews--as cry only a german will to the moral needs and who see\n",
            "martyrdom of the music, and without possession at once enchant, but\n",
            "in a\n",
            "music is wisdom a new characteristic, which is a man of this states\n",
            "of religion in\n",
            "his [problems?--that which wa\n"
          ],
          "name": "stdout"
        }
      ]
    },
    {
      "cell_type": "code",
      "metadata": {
        "id": "UvdDNk8aMc3g",
        "colab_type": "code",
        "colab": {}
      },
      "source": [
        ""
      ],
      "execution_count": 0,
      "outputs": []
    }
  ]
}