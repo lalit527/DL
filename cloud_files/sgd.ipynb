{
  "nbformat": 4,
  "nbformat_minor": 0,
  "metadata": {
    "colab": {
      "name": "sgd.ipynb",
      "version": "0.3.2",
      "provenance": []
    },
    "kernelspec": {
      "name": "python3",
      "display_name": "Python 3"
    },
    "accelerator": "GPU"
  },
  "cells": [
    {
      "metadata": {
        "id": "s3twZbNp55Ja",
        "colab_type": "code",
        "colab": {}
      },
      "cell_type": "code",
      "source": [
        "# !pip install fastai==0.7.0\n",
        "# import sys\n",
        "# !{sys.executable} -m pip install torchtext==0.2.3"
      ],
      "execution_count": 0,
      "outputs": []
    },
    {
      "metadata": {
        "id": "3UDXXD7q5vQN",
        "colab_type": "text"
      },
      "cell_type": "markdown",
      "source": [
        "# Table of Contents\n",
        " <p><div class=\"lev1 toc-item\"><a href=\"#Linear-Regression-problem\" data-toc-modified-id=\"Linear-Regression-problem-1\"><span class=\"toc-item-num\">1&nbsp;&nbsp;</span>Linear Regression problem</a></div><div class=\"lev1 toc-item\"><a href=\"#Gradient-Descent\" data-toc-modified-id=\"Gradient-Descent-2\"><span class=\"toc-item-num\">2&nbsp;&nbsp;</span>Gradient Descent</a></div><div class=\"lev1 toc-item\"><a href=\"#Gradient-Descent---Classification\" data-toc-modified-id=\"Gradient-Descent---Classification-3\"><span class=\"toc-item-num\">3&nbsp;&nbsp;</span>Gradient Descent - Classification</a></div><div class=\"lev1 toc-item\"><a href=\"#Gradient-descent-with-numpy\" data-toc-modified-id=\"Gradient-descent-with-numpy-4\"><span class=\"toc-item-num\">4&nbsp;&nbsp;</span>Gradient descent with numpy</a></div>"
      ]
    },
    {
      "metadata": {
        "id": "U8ugYAUN5rDH",
        "colab_type": "code",
        "colab": {}
      },
      "cell_type": "code",
      "source": [
        "%matplotlib inline\n",
        "from fastai.learner import *"
      ],
      "execution_count": 0,
      "outputs": []
    },
    {
      "metadata": {
        "id": "9emBhzDL6qTY",
        "colab_type": "text"
      },
      "cell_type": "markdown",
      "source": [
        "In this part of the lecture we explain Stochastic Gradient Descent (SGD) which is an **optimization** method commonly used in neural networks."
      ]
    },
    {
      "metadata": {
        "id": "pLPZ3hCy6tpY",
        "colab_type": "text"
      },
      "cell_type": "markdown",
      "source": [
        "#  Linear Regression problem\n",
        "\n",
        "The goal of linear regression is to fit a line to a set of points."
      ]
    },
    {
      "metadata": {
        "id": "cEd93QFf54Ow",
        "colab_type": "code",
        "colab": {}
      },
      "cell_type": "code",
      "source": [
        "def lin(a, b, x): return a * x + b\n",
        "\n",
        "def gen_fake_data(n, a, b):\n",
        "  x = s = np.random.uniform(0, 1, n)\n",
        "  y = lin(a, b, x) + 0.1 * np.random.normal(0, 3, n)\n",
        "  return x, y\n",
        "\n",
        "x, y = gen_fake_data(50, 3., 8.)"
      ],
      "execution_count": 0,
      "outputs": []
    },
    {
      "metadata": {
        "id": "c7vLR6SJ7Rml",
        "colab_type": "code",
        "colab": {
          "base_uri": "https://localhost:8080/",
          "height": 279
        },
        "outputId": "5b599c88-9dad-4bb9-ae39-5aaec68926e1"
      },
      "cell_type": "code",
      "source": [
        "plt.scatter(x, y, s=8)\n",
        "plt.xlabel(\"x\")\n",
        "plt.ylabel(\"y\");"
      ],
      "execution_count": 3,
      "outputs": [
        {
          "output_type": "display_data",
          "data": {
            "image/png": "[encoded data removed]",
            "text/plain": [
              "<Figure size 432x288 with 1 Axes>"
            ]
          },
          "metadata": {
            "tags": []
          }
        }
      ]
    },
    {
      "metadata": {
        "id": "62IENazq7gGH",
        "colab_type": "text"
      },
      "cell_type": "markdown",
      "source": [
        "You want to find **parameters** (weights) $a$ and $b$ such that you minimize the *error* between the points and the line $a\\cdot x + b$. Note that here $a$ and $b$ are unknown. For a regression problem the most common *error function* or *loss function* is the **mean squared error**. "
      ]
    },
    {
      "metadata": {
        "id": "PPKuhL_87bSo",
        "colab_type": "code",
        "colab": {}
      },
      "cell_type": "code",
      "source": [
        "def mse(y_hat, y): return ((y_hat - y) ** 2).mean()"
      ],
      "execution_count": 0,
      "outputs": []
    },
    {
      "metadata": {
        "id": "DoGQvIjo7tDm",
        "colab_type": "text"
      },
      "cell_type": "markdown",
      "source": [
        "Suppose we believe $a = 10$ and $b = 5$ then we can compute `y_hat` which is our *prediction* and then compute our error."
      ]
    },
    {
      "metadata": {
        "id": "TsYu3gy_7qef",
        "colab_type": "code",
        "colab": {}
      },
      "cell_type": "code",
      "source": [
        "y_hat = lin(10, 5, x)"
      ],
      "execution_count": 0,
      "outputs": []
    },
    {
      "metadata": {
        "id": "suY4lQTA71d2",
        "colab_type": "code",
        "colab": {
          "base_uri": "https://localhost:8080/",
          "height": 34
        },
        "outputId": "5b64c00a-3f23-47b4-c4f7-3a00671c6d6a"
      },
      "cell_type": "code",
      "source": [
        "mse(y_hat, y)"
      ],
      "execution_count": 6,
      "outputs": [
        {
          "output_type": "execute_result",
          "data": {
            "text/plain": [
              "4.859368447442273"
            ]
          },
          "metadata": {
            "tags": []
          },
          "execution_count": 6
        }
      ]
    },
    {
      "metadata": {
        "id": "Qh1DU_PL732V",
        "colab_type": "code",
        "colab": {}
      },
      "cell_type": "code",
      "source": [
        "def mse_loss(a, b, x, y): return mse(lin(a, b, x), y)"
      ],
      "execution_count": 0,
      "outputs": []
    },
    {
      "metadata": {
        "id": "tjgmuNY38Oip",
        "colab_type": "code",
        "colab": {
          "base_uri": "https://localhost:8080/",
          "height": 34
        },
        "outputId": "62c90180-d20e-45e3-93a8-13fef061bb97"
      },
      "cell_type": "code",
      "source": [
        "mse_loss(10, 5, x, y)"
      ],
      "execution_count": 9,
      "outputs": [
        {
          "output_type": "execute_result",
          "data": {
            "text/plain": [
              "4.859368447442273"
            ]
          },
          "metadata": {
            "tags": []
          },
          "execution_count": 9
        }
      ]
    },
    {
      "metadata": {
        "id": "kY8F-UGU8WO7",
        "colab_type": "text"
      },
      "cell_type": "markdown",
      "source": [
        "So far we have specified the *model* (linear regression) and the *evaluation criteria* (or *loss function*). Now we need to handle *optimization*; that is, how do we find the best values for $a$ and $b$? How do we find the best *fitting* linear regression."
      ]
    },
    {
      "metadata": {
        "id": "eagGP9a28ZB5",
        "colab_type": "text"
      },
      "cell_type": "markdown",
      "source": [
        "# Gradient Descent\n",
        "\n",
        "For a fixed dataset $x$ and $y$ `mse_loss(a,b)` is a function of $a$ and $b$. We would like to find the values of $a$ and $b$ that minimize that function.\n",
        "\n",
        "**Gradient descent** is an algorithm that minimizes functions. Given a function defined by a set of parameters, gradient descent starts with an initial set of parameter values and iteratively moves toward a set of parameter values that minimize the function. This iterative minimization is achieved by taking steps in the negative direction of the function gradient.\n",
        "\n",
        "Here is gradient descent implemented in [PyTorch](http://pytorch.org/)."
      ]
    },
    {
      "metadata": {
        "id": "wnCnoPZN8Rw5",
        "colab_type": "code",
        "colab": {
          "base_uri": "https://localhost:8080/",
          "height": 34
        },
        "outputId": "89950773-2978-4cdb-a242-9aa7e3be9cd2"
      },
      "cell_type": "code",
      "source": [
        "x, y = gen_fake_data(1000, 3., 8.)\n",
        "x.shape, y.shape"
      ],
      "execution_count": 10,
      "outputs": [
        {
          "output_type": "execute_result",
          "data": {
            "text/plain": [
              "((1000,), (1000,))"
            ]
          },
          "metadata": {
            "tags": []
          },
          "execution_count": 10
        }
      ]
    },
    {
      "metadata": {
        "id": "-7JNBlMs8mGH",
        "colab_type": "code",
        "colab": {}
      },
      "cell_type": "code",
      "source": [
        "x, y = V(x), V(y)"
      ],
      "execution_count": 0,
      "outputs": []
    },
    {
      "metadata": {
        "id": "EurYzl0j8p3g",
        "colab_type": "code",
        "colab": {
          "base_uri": "https://localhost:8080/",
          "height": 102
        },
        "outputId": "b5ae992d-ad85-4dc5-8fb1-c638a42c21d9"
      },
      "cell_type": "code",
      "source": [
        "a = V(np.random.randn(1), requires_grad=True)\n",
        "b = V(np.random.randn(1), requires_grad=True)\n",
        "a, b"
      ],
      "execution_count": 12,
      "outputs": [
        {
          "output_type": "execute_result",
          "data": {
            "text/plain": [
              "(Variable containing:\n",
              "  1.0604\n",
              " [torch.cuda.FloatTensor of size 1 (GPU 0)], Variable containing:\n",
              " -0.3136\n",
              " [torch.cuda.FloatTensor of size 1 (GPU 0)])"
            ]
          },
          "metadata": {
            "tags": []
          },
          "execution_count": 12
        }
      ]
    },
    {
      "metadata": {
        "id": "KSaQzXOZ84qo",
        "colab_type": "code",
        "colab": {
          "base_uri": "https://localhost:8080/",
          "height": 187
        },
        "outputId": "30cbff8d-fecd-4cdd-9546-d7f7540c1051"
      },
      "cell_type": "code",
      "source": [
        "learning_rate = 1e-3\n",
        "for t in range(10000):\n",
        "  loss = mse_loss(a, b, x, y)\n",
        "  \n",
        "  if t % 1000 == 0:\n",
        "    print(loss.data[0])\n",
        "    \n",
        "  loss.backward()\n",
        "  \n",
        "  a.data -= learning_rate * a.grad.data\n",
        "  b.data -= learning_rate * b.grad.data\n",
        "  \n",
        "  \n",
        "  a.grad.data.zero_()\n",
        "  b.grad.data.zero_()"
      ],
      "execution_count": 13,
      "outputs": [
        {
          "output_type": "stream",
          "text": [
            "86.26212310791016\n",
            "0.8933672308921814\n",
            "0.282952219247818\n",
            "0.23513345420360565\n",
            "0.2011844515800476\n",
            "0.1751672625541687\n",
            "0.1552150845527649\n",
            "0.13991373777389526\n",
            "0.1281791776418686\n",
            "0.11918000876903534\n"
          ],
          "name": "stdout"
        }
      ]
    },
    {
      "metadata": {
        "id": "ZY8iAq6u99xR",
        "colab_type": "text"
      },
      "cell_type": "markdown",
      "source": [
        "Nearly all of deep learning is powered by one very important algorithm: **stochastic gradient descent (SGD)**. SGD can be seeing as an approximation of **gradient descent** (GD). In GD you have to run through *all* the samples in your training set to do a single itaration. In SGD you use *only one* or *a subset*  of training samples to do the update for a parameter in a particular iteration. The subset use in every iteration is called a **batch** or **minibatch**."
      ]
    },
    {
      "metadata": {
        "id": "oz6z3Nma-HUa",
        "colab_type": "text"
      },
      "cell_type": "markdown",
      "source": [
        "# Gradient Descent - Classification\n",
        "\n",
        "For a fixed dataset $x$ and $y$ `mse_loss(a,b)` is a function of $a$ and $b$. We would like to find the values of $a$ and $b$ that minimize that function.\n",
        "\n",
        "**Gradient descent** is an algorithm that minimizes functions. Given a function defined by a set of parameters, gradient descent starts with an initial set of parameter values and iteratively moves toward a set of parameter values that minimize the function. This iterative minimization is achieved by taking steps in the negative direction of the function gradient.\n",
        "\n",
        "Here is gradient descent implemented in [PyTorch](http://pytorch.org/)."
      ]
    },
    {
      "metadata": {
        "id": "YujD--pm92AB",
        "colab_type": "code",
        "colab": {}
      },
      "cell_type": "code",
      "source": [
        "def gen_fake_data2(n, a, b):\n",
        "  x = s = np.random.uniform(0,1,n) \n",
        "  y = lin(a,b,x) + 0.1 * np.random.normal(0,3,n)\n",
        "  return x, np.where(y>10, 1, 0).astype(np.float32)"
      ],
      "execution_count": 0,
      "outputs": []
    },
    {
      "metadata": {
        "id": "8xp6W4099405",
        "colab_type": "code",
        "colab": {}
      },
      "cell_type": "code",
      "source": [
        "x, y = gen_fake_data2(10000, 3., 8.)\n",
        "x, y = V(x), V(y)"
      ],
      "execution_count": 0,
      "outputs": []
    },
    {
      "metadata": {
        "id": "pd70Jfhx-c0P",
        "colab_type": "code",
        "colab": {}
      },
      "cell_type": "code",
      "source": [
        "def nll(y_hat, y):\n",
        "  y_hat = torch.clamp(y_hat, 1e-5, 1-1e-5)\n",
        "  return (y*y_hat.log() + (1-y)*(1-y_hat).log()).mean()"
      ],
      "execution_count": 0,
      "outputs": []
    },
    {
      "metadata": {
        "id": "arDgc2em-uI9",
        "colab_type": "code",
        "colab": {}
      },
      "cell_type": "code",
      "source": [
        "a = V(np.random.randn(1), requires_grad=True)\n",
        "b = V(np.random.randn(1), requires_grad=True)"
      ],
      "execution_count": 0,
      "outputs": []
    },
    {
      "metadata": {
        "id": "7gM5-X8C-zfR",
        "colab_type": "code",
        "colab": {
          "base_uri": "https://localhost:8080/",
          "height": 187
        },
        "outputId": "1ed1143d-f79e-449d-aa0d-67dbc04408b0"
      },
      "cell_type": "code",
      "source": [
        "learning_rate = 1e-2\n",
        "for t in range(10000):\n",
        "  p = -(lin(a, b, x)).exp()\n",
        "  y_hat = 1/(1+p)\n",
        "  loss = nll(y_hat, y)\n",
        "  \n",
        "  if t % 1000 == 0:\n",
        "    print(loss.data[0], np.mean(to_np(y)==(to_np(y_hat)>0.5)))\n",
        "    \n",
        "  loss.backward()\n",
        "  \n",
        "  a.data -= learning_rate * a.grad.data\n",
        "  b.data -= learning_rate * b.grad.data\n",
        "  \n",
        "  \n",
        "  a.grad.data.zero_()\n",
        "  b.grad.data.zero_()"
      ],
      "execution_count": 21,
      "outputs": [
        {
          "output_type": "stream",
          "text": [
            "-3.82920503616333 0.6674\n",
            "-3.82920503616333 0.6674\n",
            "-3.82920503616333 0.6674\n",
            "-3.82920503616333 0.6674\n",
            "-3.82920503616333 0.6674\n",
            "-3.82920503616333 0.6674\n",
            "-3.82920503616333 0.6674\n",
            "-3.82920503616333 0.6674\n",
            "-3.82920503616333 0.6674\n",
            "-3.82920503616333 0.6674\n"
          ],
          "name": "stdout"
        }
      ]
    },
    {
      "metadata": {
        "id": "KAs3w2IdCXHy",
        "colab_type": "text"
      },
      "cell_type": "markdown",
      "source": [
        "Nearly all of deep learning is powered by one very important algorithm: **stochastic gradient descent (SGD)**. SGD can be seeing as an approximation of **gradient descent** (GD). In GD you have to run through *all* the samples in your training set to do a single itaration. In SGD you use *only one* or *a subset*  of training samples to do the update for a parameter in a particular iteration. The subset use in every iteration is called a **batch** or **minibatch**."
      ]
    },
    {
      "metadata": {
        "id": "m-JHhZUJCet7",
        "colab_type": "text"
      },
      "cell_type": "markdown",
      "source": [
        "# Gradient descent with numpy"
      ]
    },
    {
      "metadata": {
        "id": "FpZTrn_d_HLN",
        "colab_type": "code",
        "colab": {}
      },
      "cell_type": "code",
      "source": [
        "from matplotlib import rcParams, animation, rc\n",
        "from ipywidgets import interact, interactive, fixed\n",
        "from ipywidgets.widgets import *\n",
        "rc('animation', html='html5')\n",
        "rcParams['figure.figsize'] = 3, 3"
      ],
      "execution_count": 0,
      "outputs": []
    },
    {
      "metadata": {
        "id": "pbLeZig8Cg51",
        "colab_type": "code",
        "colab": {}
      },
      "cell_type": "code",
      "source": [
        "x, y = gen_fake_data(50, 3., 8.)"
      ],
      "execution_count": 0,
      "outputs": []
    },
    {
      "metadata": {
        "id": "ZYcgpmxNCjm0",
        "colab_type": "code",
        "colab": {
          "base_uri": "https://localhost:8080/",
          "height": 34
        },
        "outputId": "ee0a8d8f-eafa-4b60-8757-45fb99de5363"
      },
      "cell_type": "code",
      "source": [
        "a_guess,b_guess = -1., 1.\n",
        "mse_loss(a_guess, b_guess, x, y)"
      ],
      "execution_count": 29,
      "outputs": [
        {
          "output_type": "execute_result",
          "data": {
            "text/plain": [
              "85.25803946742846"
            ]
          },
          "metadata": {
            "tags": []
          },
          "execution_count": 29
        }
      ]
    },
    {
      "metadata": {
        "id": "0nJaw1ZNCk9k",
        "colab_type": "code",
        "colab": {}
      },
      "cell_type": "code",
      "source": [
        "lr=0.01\n",
        "def upd():\n",
        "    global a_guess, b_guess\n",
        "    y_pred = lin(a_guess, b_guess, x)\n",
        "    dydb = 2 * (y_pred - y)\n",
        "    dyda = x*dydb\n",
        "    a_guess -= lr*dyda.mean()\n",
        "    b_guess -= lr*dydb.mean()"
      ],
      "execution_count": 0,
      "outputs": []
    },
    {
      "metadata": {
        "id": "UTFcvMgbCocb",
        "colab_type": "code",
        "colab": {
          "base_uri": "https://localhost:8080/",
          "height": 421
        },
        "outputId": "b3f72152-bfe1-49b8-a571-77915a0a0577"
      },
      "cell_type": "code",
      "source": [
        "fig = plt.figure(dpi=100, figsize=(5, 4))\n",
        "plt.scatter(x,y)\n",
        "line, = plt.plot(x,lin(a_guess,b_guess,x))\n",
        "plt.close()\n",
        "\n",
        "def animate(i):\n",
        "    line.set_ydata(lin(a_guess,b_guess,x))\n",
        "    for i in range(30): upd()\n",
        "    return line,\n",
        "\n",
        "ani = animation.FuncAnimation(fig, animate, np.arange(0, 20), interval=1000)\n",
        "ani"
      ],
      "execution_count": 31,
      "outputs": [
        {
          "output_type": "execute_result",
          "data": {
            "text/html": [
              "<video width=\"500\" height=\"400\" controls autoplay loop>\n",
              "  <source type=\"video/mp4\" src=\"data:video/mp4;base64,AAAAHGZ0eXBNNFYgAAACAGlzb21pc28yYXZjMQAAAAhmcmVlAABjHW1kYXQAAAKtBgX//6ncRem9\n",
              "5tlIt5Ys2CDZI+7veDI2NCAtIGNvcmUgMTUyIHIyODU0IGU5YTU5MDMgLSBILjI2NC9NUEVHLTQg\n",
              "QVZDIGNvZGVjIC0gQ29weWxlZnQgMjAwMy0yMDE3IC0gaHR0cDovL3d3dy52aWRlb2xhbi5vcmcv\n",
              "eDI2NC5odG1sIC0gb3B0aW9uczogY2FiYWM9MSByZWY9MyBkZWJsb2NrPTE6MDowIGFuYWx5c2U9\n",
              "MHgzOjB4MTEzIG1lPWhleCBzdWJtZT03IHBzeT0xIHBzeV9yZD0xLjAwOjAuMDAgbWl4ZWRfcmVm\n",
              "PTEgbWVfcmFuZ2U9MTYgY2hyb21hX21lPTEgdHJlbGxpcz0xIDh4OGRjdD0xIGNxbT0wIGRlYWR6\n",
              "b25lPTIxLDExIGZhc3RfcHNraXA9MSBjaHJvbWFfcXBfb2Zmc2V0PS0yIHRocmVhZHM9MyBsb29r\n",
              "YWhlYWRfdGhyZWFkcz0xIHNsaWNlZF90aHJlYWRzPTAgbnI9MCBkZWNpbWF0ZT0xIGludGVybGFj\n",
              "ZWQ9MCBibHVyYXlfY29tcGF0PTAgY29uc3RyYWluZWRfaW50cmE9MCBiZnJhbWVzPTMgYl9weXJh\n",
              "bWlkPTIgYl9hZGFwdD0xIGJfYmlhcz0wIGRpcmVjdD0xIHdlaWdodGI9MSBvcGVuX2dvcD0wIHdl\n",
              "aWdodHA9MiBrZXlpbnQ9MjUwIGtleWludF9taW49MSBzY2VuZWN1dD00MCBpbnRyYV9yZWZyZXNo\n",
              "PTAgcmNfbG9va2FoZWFkPTQwIHJjPWNyZiBtYnRyZWU9MSBjcmY9MjMuMCBxY29tcD0wLjYwIHFw\n",
              "bWluPTAgcXBtYXg9NjkgcXBzdGVwPTQgaXBfcmF0aW89MS40MCBhcT0xOjEuMDAAgAAAKilliIQA\n",
              "F//+99S3zLLtU2+2C6j3op4mX0N1JQGblsTtOoAAAAMAAAMBXKZXY0ItrtbTGAAAX0ADl+dO03bn\n",
              "HcQCTrV16Uzr7Ys0/e3Jge3FZF2iCk50feR2shZzmu9lpDt0VFrr/JLycKVHoyG2P86PGGDA4rx1\n",
              "dcqZNYkOg8tHx21NQ3dXQ21zniWWGoCyLrXgK5Oa8gKY6FmrbPu8vNpuixI9iXPAzjr+gTA78ZkR\n",
              "5eDjIFWjbjrT/vPlaZftc3apb9HViTUW+r4mVYebUjNI7OF9ig83J+mwzJHNTGs13CmwE8DT9KiF\n",
              "Isl9SylCdNVysXuy1Cctzay6BSDELAXENAfH/tbyH+mubWFsT23SlgdU5BSoEoxD1K1UtH+Yuh+y\n",
              "g1BRKD4C+HwutLngBilZ9wPaMvLMwduDfNA4DX3Yq81EbsvfK//g/lMJI6EGVbYzzyTmKj4jWN8R\n",
              "/+9ESZtia0O1WFgrgjBoxiIST9g57bSHsOR/dH4GG0mG50fiGlKhKmG3wO5LOjrWmPdlXTZcvE8m\n",
              "hr2qvwtfgAnUyTqcT4OO8qQY53rhorbwqSbeBN7aa+/IN88RCLgM8zpmwjM7yEbag4ulk5cyddpn\n",
              "J5w12pd/FprnGNnQ878TOjqBAEMHgMQ7aIKjTe+K5h1Kk5KB59bHmpA/doN1nrHLggLZMVz6Ny7u\n",
              "GOTJfLt4KNZT2O+FzEke37LcLg0ZfxSnul+7nv+9C+C4eGxVTSwh4V8IEDfo8hc5qA+wS/5MOkJ/\n",
              "6m16EfAbmwdT8Hw2E0sBsk+GIolmxynMnd7izuAWBxDvgV/8QPFRfzDvK/Y5sYIz+P4udf+jmzyl\n",
              "LsNDxlE9Z6Bi3Pp6/k++yqjM77vG/kNGc1yxPYr7gDbUsF4d5uHdqR2hJAHCENq5dbHy0HI3a0Qu\n",
              "bXigXhcWU0qnZxdcql1Q8fk5CbpOzHPSV+/StNv2Nc6Mm4KPif06Fu3i8s+yB+nSEeNNCzjW3zTs\n",
              "m4D8GAZo27hX6nxgaInCdh1CH/9i8VOicKTnmUssqJ8322xZBs34gHtkyqqpH1vMDu76/N/f8HYl\n",
              "ARQ4ktujpgLPlwEOEIEaFCbKBgbc+DLrSF7rGziabUwARB0z2SJHVuJl4K2Gj5Pb+C7PwC8TAi1i\n",
              "JP8LuMUn/3N/S3eDEVsuZ2fbEqPddwZbEn15Ue5kzR5PvHWg+xFXz8+cdbdMsIlANT2HrtU4FKkP\n",
              "tzsdfLlNYofBnvefu3LqfWGeMZ3iiwxfyRjO7a/o1qfRo4fHAbbbtYBfuxbrsNP8VHUy5Ewxb8d7\n",
              "4NAUAJIcQ7PUZt4LDts+3AsuJrEgwiWnqPvdSERU81Vm6N1g6M6HlphlqoPiNneBh8bSxWqbGzgE\n",
              "9wvYVxxZ82x/akwqU4+9qNLVhxVeUxdp4zYAVv/xlbbjVu820Hi0xiwb+OjK+9EMLaLgh7SyPU1h\n",
              "U1BxroTu9JC2w0Fd95cXj8oqEVsGxvxL+lSkwUMOcGjmd/Pc2p1Z1Z0hk0wUFotGuCLUKC7QT5rZ\n",
              "khWvrBLE+IbqYgJF24N0VB4Pppnp7xds64DF85d5CWeev5ulPa8aOMAL1Swv9TOd065dDuEH7TSD\n",
              "bNCP/6J+YMWMstiyiNNvlhYurvfPL/5ZeAeywbCXgtIwKXP01AEQqYjRjWWWA+z/hX1GC0SF99RJ\n",
              "yhw4zm39M529jNX28IwLOJgp/+pZPivTTPwTvCsThRiejl8D/FDvZMPu5LWyaLMl4SQFDBp8rIqI\n",
              "LjE+y07R2ze30JDEpXpnSSf+/OYDciLPjtt1vpWZe2YyqIG6+bnHDvv+kmAX3s2HCNCkshydPqj4\n",
              "BHnVTUCvGGh3tKHA+dwPCDYHekTVjrxN2/XJunnPEZ5D00jwA6C/rgkPmhJYddCenZm8KnEkvS9g\n",
              "pchOTBbH27hUSvtHGWNP1U6cfcHjUROBkItiOAD0F+5ki7nP3q9Ar7eH3WrjtOlDkR3hB2HDDn3V\n",
              "d+cflhT1I3Z5Nijg9LR2EVZH7Z4vPkmV2FspBEIMLEN/NzrngoHL15ipuGtwraSoUgjmks9AGenB\n",
              "iWXIKOHLfXWJG8/95Ec7gUNwQWSbOjsDp1Y1rdzaS41mwL1dQd8F8BSOc4nyIKTWddSpZHRJ1jAr\n",
              "VJt7TspDTEwRSuyw8811i+LvxIxUFgcV0UTtW2tBL4qjLebfDNLGc2BgnF92d6N9IvIz+vzY9Y1Q\n",
              "K4IlAJjVDGwg1AgNsaMOgijj7w2zV9sBO2Kga3joe2x6+XUKbkeOH7auktxjqIdirRWvZo2ABCHM\n",
              "linLfXZyhmxYDX4wT1BxtStHvP2Ya8pbdQL0i9TuoxmKLpXb2lTZBjURY8tiQN4/muLnIiOJVOD1\n",
              "tUyXsbl0KrMhy27R+nf6b2Yd8W3ETFmo7ZNr9O8N5YcEnO9+eFX/xwmEVMHO8kaiMDctrzNBxrmD\n",
              "nPNWiokiFclDiCn3cxzUhm+eT8QjbljLtbinAlP8noOTPYZShuoxz9krXdfOJwqVsoKaDIiXuA7p\n",
              "jyiPU9NekD7zI6fAvKnPxTUZs9SjhiBPsfMyUEY84FRYIfG+t75HTritrxaaQU+lzVyHqYCu8Qlc\n",
              "g69s7XXiZut7sv4/GDDeekuv8YAeQgAu/UfuDgI9HP6G4/nvSpEOm30zhS8Z3iUMsK3wV2avqi0c\n",
              "ZZCVbzYR8t2JXCi+ZqiweO0ntc5dWFuEVl6JjFXOaXzK17+OpOmWK2N+KcneAmCwBYInKj1dGzBI\n",
              "nM3nrCpKtmlfXb5hOZO/HSsVU/WsW0tj385FnRFQzNtub6rPyzgdYDJyGAhvQkR1j0vPTVQUVyJO\n",
              "dAy6UEfQ3PZwVy0CfSWvl3VbU11w0dtvR2aiN6Vm7IKUjyya539Nu8vNVDtQgSKCCq9zscSGO2/F\n",
              "11M5CsaASBlvMJc1HQgE3diNK+OTX8LjhRcjwkxrIEvNw4IzVuyiTqbCoZcCjF/CFv17bvvaMM8H\n",
              "uSa4Hxir4QScv8jtOXeY5R2sgS19l0eySChod6ieExMyN/iVkNH9Tp/ZdrBH56t/FzpyEUue8wc7\n",
              "LTGiYbkaL3QzvFT6jq1yivK9tk9erGHbocG2p1iycz8YP+cK/6J9L5UAoYPYSiLlgVihoCb80iL1\n",
              "nSYz/Nwm6lI4pkJhdAd2LRgGhSSWiUBqgjEdemw518EUFbWR2/1f/2aEtF/B6qPaRVbK+xnLRaZt\n",
              "bIXniQnyNjXz1O79KpOuzf4soTW5ecGYtU+NL8FRPPp9mI239r2zpmhV40G6JTcFVaJLUzyeX4nm\n",
              "ihNqtDDZxHCK6L31/3FzaoyJA76hVdyrDn4m+cTgEkQUHTSElUxhlzwJQ6XCCpaNh5n0G6s1IRC2\n",
              "3X+gXK1ONTKlO8RTx3j1AGkrlpcH0wGsTvJ2SVLL+VG+35+3W071z47MB8/EcA4o9T5M+PZEx5ZD\n",
              "xFswIMVqdDG6/kXB4lgZu/7uS2lvG07mbU5s/0ztQgzQ5dc6ofU/ZDGS9z3uu7PFujEU6KRCT8AN\n",
              "NDNVYnZHYeVw2BhMZLtzPYrzOjHyNDki0WQrMvek8dMkMtCHsRAUSQJLa+m+jXP8+l1v6IIDzvMe\n",
              "5DWJZrUe9nVij3DSSqGPTr2zQ//kG9KOIBQ67N/ttaKWtvTzagmykCQRmyTm7GBYwptNqvfPfByE\n",
              "ApwzPC7U2HaiqH8VslsMMbVAHKh++a2Q+wwcX9B32XbB6FcbBQuRI7svR/GxBwn7Ilgd3+jbjMPZ\n",
              "RpyLi96D/fQCmRuw/z7KkRDes3tzr7NlF/wO7aqgZm6gH9lyK656lEyvJToI3VupWnf649d2TnQ5\n",
              "6MJTXFdKR4UNCOSnwRXdaBEBFE0DjgIU491Hlic783eWx9EQR0gq0m0c7osq9gpg8YDw5lum5o1Q\n",
              "GGtPBu4y3YwNvTyIIs7cswCyQBljaG78w+xjOYMC1TXAD3V/H6ZT2JN69rEMJwwcsolWuv/e5VHn\n",
              "OAJ09uESFFNH5FLWmed/vLI6GbpOaZ5//iiESe8ymtPiExTT0WwGCSpgIy2qUxczLnfqfkfy9e70\n",
              "LcNO3WCYXI8ypT576kIYXuuyk/bMezVa4f58b5bwAfreg7SMZd+d29niiOrwVbsk9dvLEsHWaahb\n",
              "WinDktKtcHVFZaM2Bow7FTrzRN1mvJkCTS48Nl2BD5kmz4nZngtHwvAONPcSAK6ZVR2xGoocf8Zc\n",
              "hBexhyvjOiGwTd3thd/O4TvAn+/vX5fVOXfMONqjxq77nYI/jmzLSsXa41yUXj0Qy7Lg6LfYQbYI\n",
              "aviZHgLS+pb2WJ4yLUPCeGTMLEDRx0ZoIHH7//s7VVNteU6c/ksqaT0E6kw83it6K9IOgEuK7Le/\n",
              "8a5cd+HndEFj5hgLNM3EcW3SDRUqo15q1QUYCkmRSP30/M3K7sJ4KTDZ/wf3eFkwqKKJq1I21//G\n",
              "GdcYwlxITJzg+dUCgvuKyZq4WbLMBFR9ouy+bOjC+NQyhPvHgu0rQ4M3E6AAtbk2XOVxPnQoZuQx\n",
              "GZ6aLQhKek1GHSA3yc4bLxGWOlFB4UY3WLMRBnlttOc+IyqseonH/itsV9zfzg0xYNs0MwsoFZmt\n",
              "gjOjDhESG+BC7SRbdd82c/GMF7D3/tdekobDqC5QXjeJj4GQzJ/OVUj2iwsnNfTzhOLJesQeYTS5\n",
              "sirt8QlhcJ9LMKfJCvQqnTDQ7ZJgUBFxitUNe4SgumKEZnJTQzxak7HZeedwTV+MN+EMglg6inAU\n",
              "3lb+AIu3icv8FgGR1/ZTQdtlUcEV/hjiT7OoDq2iOljs5LbOQq03Lt+4F0bc+gyZ5AR+yXSn9LVd\n",
              "Qu688Ti/i96xMcbY5UQuCCtlQAsOeXQd231VXQkkcPrkQUBtvS9UvKDibtUOJ5iJA8pYsz3lyjY7\n",
              "A/W+CVE0KcUZ2ML/nuLZXHw6xIsMJ+Zsatuinc0g8/QI73NB1M3JvhvVS1hCGYCvU5RdsBNTScEm\n",
              "zU66wJNK48JSuM6Ccn2Ou1NzqMl7YBUHgyu56Z5ftaKXMNwwg3J48t8Zm4g0FwXr/RKgl9xeGACn\n",
              "V/y8kIAtTMR3Poquva9ASJm3BVUpW+GJ2TDNVEw0p6aQL7FqYBznneOPEV1YLGdoyvHgEE+o9d6S\n",
              "LN/wOQeLyAe+5YRBP7sD+r0yjsj13o/lxKsipYs0qn6fWUkx0KiIu57y4piLG+M1dZIMhyunHtcv\n",
              "+oM83LW1xODjnZSurxJJevR2gl5WdDpeuF8xY/L9aDSy0zqDSVdzFD7lQ7dCXWjZwIMeUhjClypZ\n",
              "vz25UyjVD/Aiv9qgArJalWCC3jq2+MlGebA86F2ENlT6zodCadBt4TaTfHLZPjhsvkB/2MHbWWmb\n",
              "4ByU++qjevrVe8Vs949RhP2Xm1hPV5e6tN/3hUgJotgm2kpfnwOk31gID9wy8CVLbIKhawyyb6Ov\n",
              "vBWxvN1AmvZMQns9LQiIzjpFFu3vZHlc8KpIqC3LmK9mY+LQT8A1l0tBWajP24ypmc+upV7dd0Sv\n",
              "Xu7Q97Rksc7cTsx6tiOeWFVIaqohRUtChPkzyDz/XSg/FEB10QvwmHu+y5MyeRKkOAo6ebAyhiP4\n",
              "pNrjeIo+clObTYNXQJIbU/hD4RDD8iJrmxV4NOq7opLLs5N3yF8fro4oUHaSfFHyo3t2oUvFsIfZ\n",
              "5Rzi98U0P78Nihy7mOLtW8NT4L89YJHBvyEadRRCjBf3KKNqmD8Aqp1XGaMpVy2zx35VCGYXOS8C\n",
              "fhx+TGCHdYcJZ2zRYgWEoe8RhVyE1ZJ1ZqvATJ014WnOjqIQEqNGRMoxTYyeVIKRFB04FbJ4HF0/\n",
              "bRCogfpm0lwM2tqLSFt+H95WvAfb+SYu0ofK/I/2GUHZw4osSXoGwYdjECKFmmu/eTVC6HCj8dhE\n",
              "dNArumESabCg9PvB1jPL/Nv/EiPPHPfxTqT6IS7Zp8WORwrlzmosMirSXebcJVw8lh6IMKPK68m8\n",
              "gL2bUBEjGqsEoC933fAqrAStFujvgorXKEG0/zPDGNhNlUozTBLr9SblamGqHhGT0+X6puKdifAu\n",
              "/Y0cF8xIe2E0gf2y0Z3GTHmFoGEiDSWrfnFO7juHMNJxE+CA0pa/m4WfgtQebnJPJxdjWoUnggrK\n",
              "NDNDCquJsIH8/YWTCfoBWmMBr+5X5G41KVIxnxW9v1JFMjR59HyGdP+B54lgR32gqUtINOrmmbWC\n",
              "VNboN/E1ufyZk1/YSmyvluP9VIunzaWkijiBNpS+TuDHHo6ajqWK8uLCHf8icE/W9Hn1r7JhDXGG\n",
              "3/PNRRia/rp9Qhd+N7EBYv5+epGZEE1jceTdltc+6qtRMAek3pKIObGMFkTI9yrJciGJn8Jh2WQP\n",
              "nDvWSoQSjZaNMJ6rRlOeOE6VXhWM7UMds+x46WtSb/vwW3ZIS3kRK2ftJk3Y0zwnad9KmoHnpo5a\n",
              "VCwX3ugfha2G/7BOQKM2tTDa9kYh3kMTw5XAvQ0ExUrRcMVzgKtSRWezd8vrXM6DiLGak8DvnFHr\n",
              "orjkAAB0CzYmLnrLNzxid9+vHeOf9MjlabOz4QwEpt3t7RtS9NzsH9UG7XWBfznMapTca+eo/W5u\n",
              "trGAuyP8MyQV84oJs2vSNGZFIBVPmlvd8dCRC1pGq6gZ5LLDxC/FkGnkCxD6fnDohYY89F9Sv04h\n",
              "yMWxnfF+Y4/GCVtXDHVy8Ue7tKAjPaBs9oiv9nAazwfWGrL4/94/z6ddYDvDOkg0XXAqTcm1Nff/\n",
              "gM7ZdQqgN4LFPnxKg3Y4hb+4pw7QadS4w6CM9dvTvB8EWYCBoqtOHwuOx7n/8uRc4D4eG6gS7mhi\n",
              "LypuM5J1cU4tLpxrXK28bwpzGQYnOj48CmLDJwkfLAPgzTtocaIz5CxFu5zXEMZo98u0MlidEiBx\n",
              "8Pdf2azCK4vNj6F28erGaIpTl3HaSr8Mm0pyAO1NjrSyF4f+HXuC+G1AObZmfiCSIx+uTxCRywC+\n",
              "9zPHLu37dZQ4TDiUZapahJqTYFSar21zPtH1wEBVn4v9pe6jWMAVNoPILphU1W0QhgYc1nWsuAkb\n",
              "9SplKlpQP3JIO7UYQKyeqhkA0IHp6t078SJ4hhKodoETr5YdR6xSdPsXWrdx6rstxgIdxc392NFF\n",
              "l9DW+HXWbC5mSr/kO2EBqXxTTxpDOpjTGxReswBUn/9OEZmlSITA0Ea+U3t7X3HtUfz7XxbFi5Gd\n",
              "5kF8l1U5O0p6tg4MK8JU6KrroEe4RIsa5IMyIxcp4+xFfYcVnI0eXjFaQ1kwuDJEA2hTcpOYLc9x\n",
              "BfiQq+BeAUwD/9oj2f5ua0j/4mnTCoCyvGmRKTYgzewICjSrRuJoYP97k7K1aQhmjTPyXxYp3B8Q\n",
              "R06O/s/htksHY48GvyxsyZIudXmPNipnhx9jFoRnDNC/3f/hzbbIiwBe7fveWayG53DkQ/21zxWw\n",
              "IltrqwVcPFvSNap8MJkZn3B2M3TNY1maGAhaE2t/7t9lDd0nqOvpdiwE32wKewxIlNzp4a8idOeG\n",
              "DoSgChtyJFyb5NkVKU1MhaPhON4lZbRdG/yHyaDpOhpUeINfnmdCuhcFSdiGm+elLbK8/dBjmXeY\n",
              "flzVYXtb++xNiOLQtJLTIxf0PD1CwkIqHCHN1pBVqOXEhoAtGmMQSB4pN5B8XZzuWo2TRVWUIXo+\n",
              "/4ZfL/ItJFZgFYjoTrJtYDgCZz1XNQisNEa4LdLPaqQwuzyKWmB8HXDDYGfyqFs56VMaJ51Sh5FG\n",
              "MvPKoGa+oY/v4JZDtKyFCDBS4y3GPiMW0im2u7tKmv/ZA/V2gUiuoGr/P/fxR4ur3GZCN40DEQNF\n",
              "IEhIaxtqff+4DGZhFPHKoDXVmMkogbsNfNlGvQ9zYtYpNAdFryUMitJ3GrcFX7eZO+iqH1/IrpP0\n",
              "rJ0dYQ5SzZ4km6z5l+WNab6AwOY4DtQFH+ll314gYJlUYB+l0//d6I5fb/+c/vYvHK/zpw1akeVW\n",
              "hQwzP7C1n6avycsDqJM05RTqWWjsQXXRCAtY/ijSjDpBDTC1SH8LKJQwlyNP19+LLVhWGl3olIn2\n",
              "xbGreNvXJ7Ko5yh5ZKDZZXee3SBPEQA8ABzVILLu0UQtc2Ar7GjnECNXOwi5elg8oHEHcUcV2glo\n",
              "XBbAD9TRhR7BZLkgyzedcou+hvkm7COKwFZeJ//hugidfjue1vA3wizQfo4L8gHTkWf+dw6qFZJT\n",
              "l/htJQSCRQ8Zyte0OxhV/4vq11AcYCWAN+d6YxPAwhcsmHxgMz0/YcTzQB9xGzSfnd0Y02qTalk+\n",
              "lgNL4HbgJ5V2JdO1Zzf1hybYcpaJ7idwMItVX6lS82WGaav7h2dEsWc0QFbwCzN0mEKPaTfUHsmt\n",
              "t54REA/EKjb4gkaAhZ/WXf2lSqqA6+Uib/tvq//FD16ygGoB/5P84hYD6O3NoccutgxUwf69OvBD\n",
              "Sf74zUuLdXj4HnyTrnmikViXOyoeP5shrtNJuSuYUnEAKeOwtZxqOLTJBWSUhKUEmxI+u774Ip8z\n",
              "H2x7VL/2yTxh++Yf1Dluk3iWR/pyatLyMCCS/ZH/UTdGCqmvPFX/4con3yBkkEJ8z0vvPDmbOrsH\n",
              "PMSZTFkL8LM1b1TwzvEZRIksfkrpD+6Ew+BR+WVO9f5vFV3NIY2lJKjySbFZOfF0Ado5ak3yjuLP\n",
              "5CMp+WAVMrs9+/SYZrGbw9vEgJHXN7b3TS71LT2dPRx9ZjJqqb3rze/cHwkVIqaVVRCJGdzeJiQ/\n",
              "jyhw3ESZejr///Fe7TIrUSlyIAw+zsPj+cxg3MkOUQudiI8ENKfZIuTXMH5TFrDV/WSqX0ekyg40\n",
              "9lip0pORy1Dov43iUAxvsHgUVQ56jAmSaVK/PoV8+3vxk5WCACliOyrYRc/N6nsj32neJ4J1WCYA\n",
              "eWNQ8T1tetBsxMnevvdRbWlWXKUv2RO+6I+kP8q7TwfgsV9f8QP5mq5wOhycd0mUw6GVrZ3vFEXv\n",
              "FiTIf3LzsEaewquTQe8zsXEAE4kost571iZl7Zyz1qwqaytcyBPmg6LmpLfpNLtvPDYfl5uQCOcY\n",
              "mnzulYGSXgJwbxZdMQZzAf36LvX8u3cdZIoogpNZ/Td6qD67LtRxYeA1vb60qjmR7Yj9XbQGo0D3\n",
              "7+vH/9/p/w/y6mJtyuoIUL2sAvdWBtra090M6eTN6eIv8oQuIimKDhUW0dJyYO0S3wvdNYTBVqzE\n",
              "StgOY/Y4fNpgjuJ/5Jz+SQ2AP+nb5yZSfmo+b9YiZUKYLZbTOdrnxjlYCjhPnrYCE8OepwBhNses\n",
              "QCIePfdTqma/ux63GbxNlTx65+PC2PnKHfmr+xxCMA6G4dLuMKbh4z7KNYqR9NBxfCz1UBuaOTp2\n",
              "N4G63SWjQd6ZaQs4VjInQ2X2HQKw6CEu4ESHWkad/4sm5YVG+nhvMb/HauXg9shWq9QHWz/VZ/GU\n",
              "tILJ9YAJnqcPj2rApRN9UdJ9Ht4myI4/KiJ/9mndc/qyaQprOxVaji9uYmbfM8kON2L7XydoancU\n",
              "G817RovRYVDs8Hg7nCSag0H9SKgZ4rA9oJaJHh96z48kMVbNXPnrc5KvlJ1odXL2nYWdcNZ53Ac7\n",
              "yYewZot2X4CeJITTGEoTTNDKbkUS+ARspiJzL//w2/tvv/jfCOLVqnKsKXP5AdvT1AYtk/9dwnjJ\n",
              "/j2P1Rn1JjUNqjvbEdrLL4cjYSWK1cvXnPLXG/X0GtPIil2Iv1kWaThDBcv/iwgSc+i6sHji4pzV\n",
              "CNdHFCkPwRImx4axlmP2Tj5xFiOiUgDujUVzIYt41hdvO/59sOShHJqC1MO3rWA0kSislHMml5k+\n",
              "loe9iESC2OJ3Vmpkjf0JACavXdfQwJbtEZAPVtTyDmtlgjh1FcvaxEXAQapgp8o38NCSQUhWbhps\n",
              "j+vC0rT1bkMu0fIH6Bn+/CpRSwG/w6/X4x6y465yCWwrXP5lp2/+v7yPGRGbMvwOsnQtUak4jOs7\n",
              "igCPzy665zcbnV9pli0qu+95T5WQIjJH7QE68eOsiCB0Z9kTiY+s4vSbAm5j11RSwiBu5q+iG1TY\n",
              "j8TCmsvs71MnAr6F3T9BtXFFdH4dXpmb+GEf8mOhlh5MzOcxIikMmRNNKcKdjEJcUXPSA0h7a7zK\n",
              "NueHbAqo5aqeEP0KLWuJnMzgev2CrJ3gUrh4cQiYETvxqcrB5k3lLtEC2yYtzJr0x+LfZPf3njmT\n",
              "wA4KNiE3WrS2I4hicRXsimeggGvGzC1q8YcC1Oomw/auGIXhTwmXz3ikYp7IOjy7uuKo8vTm1IgB\n",
              "cjkbYu45J4jtBa6v+/qHoh3og5RzRrli5FUl7bIupvOChu8xz5lKM9GvfTO062EZda1FoP9YCSM8\n",
              "MRKOaD+odj0n+afGTiagh9tZ4V3aAQ2B6FWl8s1BaBFAkXQJW2IxvWTelj3SViS3YF4suU5zf2oJ\n",
              "l4NcVdHfy1oswgMU0xNhv2Ynys66exMWu4J41bmRujOPCbZjy735/xdkOF0q8XQwp1xSrqRgIx3I\n",
              "Aaw5H0HP9N87drHC6hMWb+fchO2mGjpor9Lu1Ws2XZ+01ZAhW9WJyELrk8k5FhtzUB96isqxNETJ\n",
              "80R7tmx2bXZIZ3SHLmx5NLd6UktXaskxD9Eqi9FQDQMxHTyTTNblybGyJ5n1Pa8f1QovGaEKlr+N\n",
              "Vcsj/3XMXBldWMtEExl8HrEKd5mVqvr0j8d0ro7G6JOvJo9w5kd071DFkOSv5qidoJIWbJMfYZ7a\n",
              "+KmfgnObxhBuEMpabX5pBADu7899cqLn7LXqmxifzX78i/B/94vHdwhvT6H3QrPrrp297GnSUxly\n",
              "i06o4EXTDxoPvgscEnOrRNHJbjKhcaZ+OqyCejvNqJfZYXFpFXn+ms8E3d1GMCBlb7llAnGuIT24\n",
              "haFhgzjPYEOI7FPynLyy/2oiT4LXyKvQcPymG1zWCPmhKjZVfZUfoRW70XnIaqH1j7QyFOuWjgkj\n",
              "7exZuuMI049rFfbGA10No7DKdWtgRUpx/dLPY2Nm7uoQS/zdBw2FhkFU8FzEA2VpV+spE70heEmE\n",
              "tarCnwCIqlxWWxOh9ECu2bsSYGkbq3L8UT3col7dA6LgjozDIaUD14SpNp3fmnx1+UR8adogfjnS\n",
              "zrIoSenLrp+n5JuoOx1hK1kB7mofe6ghvwl2lRQ+KWhtXvdh4yVaPvGVvPukA0VEmMLN3f6BiVFR\n",
              "BE95oXL0+xDAV0WHqYitT62Fpxj+2dnry6PJDQnT4rbu6vEZGqbNI/fTGLu8qoSk7t+Ctp6XDQZE\n",
              "tkJ5ljp2RltmzPw5a9MB94AC7ccMDoTOd+Q0WiiVRzjqEqJySwQvnUWBfOMeS9yTZMG+z0nQFw++\n",
              "XxOdCwQQtRRfIarl02mGLP4mMfbpU5w9qACDXB54DD0wtRMhWNNBgyKgldZBnxFLsRzXpnQgwMQY\n",
              "MA3cYTK8VmzkgOXD+EFmdWrFGdpthH5JgvGAXNaMRF+KKUfRVGrPv9msC0wikdK8dC08Afg2v8MT\n",
              "KT4tvaj8U5ON3pLw4zM0PTSFifweYqqGX7GdylWt3MbLT2Hw9RNpI4Xe3yIVIDd5hzj3v5F5saYg\n",
              "4/R9PgMLoxI5OKM61yA07cwqAu1PuCFLyeM4US8+UZk4fWvm4F4GGgsxlc5D8MbqE5xIuT9XivbM\n",
              "XtAbBkCIW20lrqi1NXbH0NdDAFtyfEP9FYCkPgB9cdsNhRo1Tj2X8ckLg4JZ1G2pvenLUQe7ii2J\n",
              "unemLmSrp0Sgb4MAkilYwOOkDc4m1oUioQar4N+R4VXaUrwNLrr/ya+RTYH2gskX3KwR4eN+XoM4\n",
              "TXxQawp07LusJuLh9HVjTnKhvvGYWhjOh1hCLvs5VLK4401Pm58de3C+9FKJYKWAQw/0ckV6q0Sm\n",
              "qQ89DzBBhOdR/cdjNBuNudNGWv0L4bzJwbeNf+Ayk78RdpWRRrdkUGIE9GAWju6AplaB2GWUeShw\n",
              "+7TYInVvK0SuQuuJF8foumdUWiJFn/sv5GfH/eP2AbgTIaTJ5PvRy2npyLZmXBZG+rTgWgVHtuXf\n",
              "88bwJUQ4a5jBVUmpxk0L9YPxAxraW3kEL7IzFMZIL+g+/W3JntQM/vV7ndgznSUFtdT0AABt6t3n\n",
              "oLyFdWK6NGmss34HWSkvYe3m/h9xbmrRP1US9RzxN75VzYvCNUWeit1UPQLiaZoPV0PL2psjZnu2\n",
              "cy+HNTl6MUVz2chzVTJUAnQ98uaWJFyagihjadJRjVOqNHCoDOTyBk50vd3XRHIxttnDoRPeeF4c\n",
              "Vnsq5wnlJSY4X1Pe3+x7RUGUgzr/IleUGjSHwYKqN9hDj80jBIwlgHTU+8p9DPpDdNNwlV/XF+LV\n",
              "taoC77X1QzAOOgKrGk3mZP6DCtrxV5uX8H3xyBcgZnLMwaEG+5aQ6/7bL9pBM7DU5BTNrDrUT5zw\n",
              "aZSiK4CScjP+4iAdYgznM5gHFmxXHYHPlPdvrLCklrdfl9tyZALuW0a0Gr6NpTqqkxYgmAcwTBO/\n",
              "DfkhH4UKsAKF0HjVUXx3/Guu0SyVHoWpi8F3xn/wPk2sa7jQ6VXL36bK2Gf9nmHqfNwjkkGuFzXm\n",
              "J1X7doOJZMCwGudCYky3Qezp4nc5PerVzcwb15+vtBFaIV+5hls+kZlf/VzOIxGlRtaZVxHD9iqW\n",
              "Pn7Hm6o44k0/1W2jfS4irMDC5VfcYPjVBJXrYPCYMUc47MVb3PhTxnRdTqcXTZ0qrgHztcRQnkLT\n",
              "PjKTdUbW96Qnvqv23IkawmYQ0HQ9RGyqV1umW7WkcsaBAeIuY+yR6Ur32QPIYKnGdwEoxvQ45zpm\n",
              "beu/sQfHqDHA9TivcX0oZHKhj4O6t4Iq5jH10ORz8GuamJC4imq7aeaDhAKbMwI1teLCUagZnyol\n",
              "36GtIJoChkO5GceejA/6YDHXH06jDMb5vzXBEXzKIUp3AnQfP2L0kGwY4olGIhFJ6p67uJvF33lV\n",
              "2wKkx/SSff/RBwigT74xF7TaRjwFDPAHnWHNKH0aH8YRFIea/kx717pnZdLfsFGz7OzQyy1uLiHV\n",
              "Y6WxdD0zHjKGvFqnzUw8AI63JNITXPHYmXDJ1PeCCAHLNk8miXNQXAXjBLgTw/lY4N+kKa7IjrED\n",
              "zdJcqAcLPxDWhWB5ow8ysutZAf0ZNF4E4yjF6XxiqNONKNbp4GilTJG57LF5eVkFy8AbkkrTqO9i\n",
              "vB0m+OwMgcKMZkQxBKgOFn2dmhllrcZpqrx0+Zg9aUoKbWoA3tvzWY91I7aobGl43TCh/t5p6zrq\n",
              "wE0JOPH0Di+BESzAUfZ5F+5OsTvtKvOaMZNaLPr5gqX+VJnaH/fgsVFHtd17QPzEdzMGeoJEDyDd\n",
              "I/luOvSdr0XwfKHpMpRlx7ogyaNjl8YYKE2XKN4ySLw6fg5eIRsff7Cid/0TBU7cDCFoQB/MxZzw\n",
              "ByU5Z5+Fpu1w79yAwXdB18Okxs8DGjw8jtRQIpjZuD4torWbcPtowANq12JEiwLQAE55c1q7cOKN\n",
              "Pn6nKlCm6A6cG2Ad7zIcU0eFqlP0bJR7/EhJvdr1bZjcJ3nOUpV3641FebzSyUNWu7/qMnpylAi2\n",
              "KfoEJaptfEDxz2aF8EbhG13m169Gm/bvdA+bcOphetogxvGCQE7+vUioqUfN/FqINBekOGVWV5no\n",
              "LnVVRCMGwE4GBUm3/ZqjJw9fBOJJKbGT4YnTaiutyjrkXgDwSqkFenoZ5X+FPUi0+fa4hJ3SOCCa\n",
              "V4TqStk4tlIFBJ6KDlcBBpmMClWzGqndkXlq8UuWcO0Msja9SqeI2wdlio7IuIQrW3QXsRh0Wbjr\n",
              "GPxBrx1S2s2eyI+HIrDQ04Wu+CKUN/P3tIAGtlMSRcOFB5KshMNKwbhDlcZCh0mgZxt7tIdQHiQd\n",
              "AvX6TcqmwEjOGXUJfAssFPi/qLwS/KYkYq2++P7/p32v6EW+Cj3c0r+C1SI6RMdAHBHMvXQRJHam\n",
              "4udkswaDe2WK7Q5OFpw/U/I4oXThmBFyGEG/yjiS50qHrPAJbnMUgyoozPZK9/WQTpEKhGCmqSQK\n",
              "DhW7KDxqZkUd3LP0sH0HYjNbybfREAqZ+//OVKVgryT9dLdoybTDJMLd4YU0HZjC3cXnJ+d4/gvp\n",
              "AQykGBtSYihihDH/2Q4cg+H1uugaOoTBBtvV5nWBA58/zS9J134uV4ffkFbYsrtZPotERcCj0wU4\n",
              "fWsmTzhQBasYjYTTNriqlkLJovqV+Vym4u1Ie7bVphXqvAe9RYns9TFNLfCD3OqkYi6bT5keN8Lz\n",
              "sYbLCXbn9MF4B2k+GW4Ft+Lw62eVufdWtiDiIwUNcqzEnz6riuChKOBZdWJKkxEbQASXK2p/HiBH\n",
              "99Il/PKvhGUyer33VcWSqWFuoz5Xy91DNc9I/cuUPLHWsADIyMn4WmWyHAOCQia6bM58wkjW/Opj\n",
              "9aELequlk7dxl5ll+hOf+f0EQIbHJbA+Dg6R8i93qNnH+KJkLKqdoOrLhDSYIT4jVRYI5wZEn8+O\n",
              "98lBRMm9oeVhwiVgAACRgQAABxpBmiFsQX/+2qZYAUEw+0gGinzYvFdfEEcMIs2QeJjgZrnKm9Jr\n",
              "CLlP0B2F4nyNA/Yv9L/F+4lHB+P7oUkTKuq+RNoybdTT5wWVWzhq91Leask6oaj25tn2FuZTOmfp\n",
              "cPSkCqkp/o+aRbmFnjNmo8XMLM1GA2uCMB67+/6sCvXt/MxNku56XiZLaMIDvXiUb1c1dsJARhKF\n",
              "yyDEAuloMh22ZQ7rLqgxrjajC46xIH7cWV7YkbfyacKWTIeQjllxkjcB12qbAK7dhyG0RNPoCm94\n",
              "I3d3Zx+Klap01bkBAYAxf4lGgWXfb7shDlr+WikJ2Qk5gsfW6YZCvf/rZM1QcAny5dSPl6Uwj7Ww\n",
              "zDHzJk08Yz30fk+PFTHgVTb3RnGwuGleieHjb/NEQk4x+2sVhyUWzpzyB1SYaeRWpdxIYWb7jZce\n",
              "eVXWttXSwoy8N0dH9ZisOWTd0iPjKYIDxYkqHhioV7H287PvvUdJmNPbnqHWfhS//twhgPX7RVAK\n",
              "8WqS02/8pXPhuvgvwMp0ZTGVXv0l/rAPH5iEAEYioaroX0rRmN0U0hmWkl9LB+v7flgyJNzR+VUG\n",
              "BdUkREdZIPOjwI8l2WLszjKQuilZGmFfCrRUA7tcW1bDdgEwbeJw8a94gl+yppvmXh6VXhVFvjS3\n",
              "4AMg8fY2AT1Yyen67xNv1734zz8f/anKIg0/xuzPXZjy7EpWBtXNENK4ZOsYKXFV1EO/8yFaU9sF\n",
              "lhh+IvqtUrlvsTw2dNHuw7TYGWsm34u2gjZ/NojSXn4CZ8VhExi7pD0HWU8ISEH5UFi5+cqk1hAS\n",
              "E1+cSn0BTAdsZLHFBEQC+hs8mVDYnKcgasAbgub9TJVs72XDfh4OwJGl9E1EIA/fcb0wSWGUfP+X\n",
              "9L5tdKKl3SVVuXkPDdnk7MBciSXPuEbdr+cSiSCIVdK9Gjwa/zrRPqbRqVgWU+JzujzYOPRWONo6\n",
              "9PlFfKfi0m/+XGdNNcC/B/cYpVcnJwL87NKDdnwRJUEtIE1lLxPuQCxNmZqKh6CBACQOn+xnvBFp\n",
              "1cXinmRWOhbuEyEBADGk5D/wj4nrqVCQyMRJp1eBJQLwP9pwXvUbCX4tcyqD+beXqlQvCGWFKDzZ\n",
              "Kxmjs+0SUfO5NlbmjEKKcPlY9+w+W6TiqMZ2lGeplwgKB5yjJ+UBcsbpRDznSUll4VXnyAujySN1\n",
              "1DZ6Jkn/wZ5IkR+AYC5ZbEyNlkIQvq9KawgqDyngFm3BYBMRmblYR64m9OQOXrUIMUJvmHfIzcum\n",
              "n3ohlzEkxici89NKJKj6gkFItAbhVv9bvy7xew5wiaDFq+JoJKSWUN9CjoOS9u+NXzC0dKq2iAld\n",
              "zUzxejsLsTWit0MqA8NMlyHPAM7+C2mpCwndC/w7Bg3qlSCSKZ2IeDOsWO27pRMYcTVkG63yBYUL\n",
              "FSgV4v41bEjcvH9D4eIvpTEPwHY0totWR7EI8A0eqTRJ5gYZht0wTfiqsHzDp+oQqHjSEwnGWY4r\n",
              "EJ5UpbuG1NgMK3VBe7B+8vsdkZl1DQ9WOTPD5Pf9c+AVOmIPUdl4EPtSOAhA3S/TRN3/LDQUZDz8\n",
              "tC+c+ukEpXL9FYZP/CUu+fXJ2W+JyIV3KknWbbdVs6hvSP/tDMDHJod45+hMwS7+Rreqx3/7/rBH\n",
              "IwHMwZGwrNlH4TNhj2eZLVtm7wppVP1FgurF+F/yyjeSf2e/eCUKSR/TdgXGLC25OcE1PujloBid\n",
              "iYGy0TB/Ap3Dj53ty7HThc8MZhaIwKWoqMmkSWOIzrgfiiGDt+7yKQqUUzw3NjXid2kBaAHrtnjW\n",
              "XFOJf9rjaBDl+bX7+D9kWEnquIYvm+D7MvwU8H7QczlMuc+3iv6wwmFN9VxLCsaQNCqqIgxQyJbm\n",
              "JKhN2Vg7x2CxuTk/fiAF4MZEUIZOJYMxwXX7TBD30tXApqedru0SBQWK21yGDRiq5xS2z3nUMwx9\n",
              "yUs8qfDoRsI1lYl/d4OU0mKKta1Mo5ejvgHyPNaOM1ok5SYnq/xY+1SsVKhmCUVbto1BYGNyAM4u\n",
              "FnKqi86q2D6KkFsodsJ21g0QtPb2E2wVCOyIaNMa4kt9IV2NxCZn8yjKo6f/HFYbKHCJeZ7dwTNQ\n",
              "f9qtVHbVLDlsrXpKC3QvYUrcSO98QI3HsyKdKnQOV2Wb38yZ0pysZirMMKTwwQDQYbJ+zX2ez1yL\n",
              "DRNTVvBwW18e/MkI8VG+vlp0sDpDsqE11NWA8OMsgY/VC3Fjus3pKA+2Qr9NRhEjqSvcWmRyITO0\n",
              "KcPmY7e+7hOXw2WYfQFY4j6/+Btnp34gZsKEtfE9SFe+K1H1B6f0G6/ALo/ul9GBbf0Nu51H8ofp\n",
              "oDTPqDiv6GsXRPlWocGXVwTdqEfL0wl+njnoNFzO/2QD3TAH5BUFBWB4BuRqVIwzqOWFd0KX4Khi\n",
              "uzIOykimdeFoz+QABdwAAAjfQZpFPCGTKYQX//7aplgBQTV1pAJgQvL9y12c3zy0tQ2J1A6NKBT/\n",
              "RkLABJu5MC3dyZ8tSh3wTS1gNXDjQKQ1Oja4Hlk7Y9nuPhXikIasVMQhGK9hCgAhOinxCEMcjOsc\n",
              "c+urNvwZsJ+50X+gRniT5v1OCY559bBCM8bCQqPXb/diACPisr/9UMoan66h4qqtV52BiF5D1jeL\n",
              "RaqAFExZGC45G99CBL6P0iqoHzX5sb8ytl8+Ma7A/wYwc8zIGJFcl/ojgNGo5EU9q2tdxU5TZlfM\n",
              "9r6CvZsMT79xi6JjTNoXJ6sJqmXKmU9EjjgfnNIOIfylyoUeGTATqC0VGJNoxLFKVSZ49VYu8L9E\n",
              "Blh+6JINySMHlxRbALY1fGJZmqW77jB5FROqky7SBIpl4cRaACmml1BfPwWXLlUZxr/XuJNphC9B\n",
              "1AFVbS2F3C/dOkBc8keXlE23DdYjWPprf4AAm+ALEJDopjCkHhiiMGNijDLNlYhlr9xvLUhRSXdy\n",
              "FEGkmq18kG2/9T3vB3JsFUH9TeLskQCUUfgQvt5Z56hz6iDn64inJcX98A5MyqhRV+f89LHBEpwo\n",
              "uJdsuX6gi6bX/1wMcoM8NAZXOgpZTwLeW/ot/DjCSfU5CsvF04kbavHXvTm2hLMOHpjIQdfebr2Y\n",
              "xU3HgIaSWfwwtJKfP8TVaTowk1kwtlFGxtOcw85fnOh3rlL6JfwgNt3Wc0LkiL4VjqJ+JwMr83B0\n",
              "2kwGYEHPH4SGlf8COOjt2HTabAQabxOZiReNzSCe3EN2nc46DlIVrrZZfBrGYIbFpC7psGv3+2Cc\n",
              "5U/xcpYfOu2iMURkBncA6PPzYqO/atj82cV4505g/cS6RWq7RtZipgz3Vri/NUzhb+sI3C1I7aR5\n",
              "rOUJyZ4R3H5nAdgIWx9Lz8F1Bms/g76ifVRTBl6Vx+K5qFMTdtQBrNjlx5SjtWG8FWXy9yk4WMLL\n",
              "yUGN1qaRcL23uuqKhRC3My9i7vuaB9VYhlrPp3zLh+n+m4oHqhGiSs3y7OtRFsshmlAHbQ68GDTe\n",
              "RmEZRlnLB2pjHWMsEAfm7RfqgYGGUS+vYJPgD3/EoHIRZMD6JRyHiyD9kjA+e303T6VsrTp/8dpf\n",
              "mYZ1fqyKXiUrVuzkrECLJNFaxJdgHcoJtol92+hCKKuByPCmgiDwgo2k5ZoHGHkYxg7dU7huyFvz\n",
              "mbLWWevruE0FNG3T5snM7++JcsaLeMIGAz4wYmlTRMOcg356+bbBOL1JxONN68UCS1khpIfqVfmK\n",
              "6pSDyaSeCjBVK5f3rThmF0GOri26pSAja2mq7FcyEgnON9zcjgrYu71O3v4KX6qLuRig+7NbBX7R\n",
              "7qodIvGsY/f0vpUmJ867Q1T6oDfUnUwSgTK9wGQ23TB7QFVv/xC67vZ4y9kn4Gd2mcAhsY7A1M2Z\n",
              "uCkSF862MGvfMvGQk1wPftLBlGcA1/cOooHhd5HPXp5ke9ogcAzWQ93eyw2fDzr63upvCdIxZElV\n",
              "IhYjwbnXvYA9aJ5J55ff7Flcfh/MNZUA3b6T/SOqdnyCFkaifi0i0bTumTTzFcnBeLbMmzmgzAV9\n",
              "Sp0+C9VlxFmQPJABWwWMXqtv9IkgX5j8foQ0+viQwjZ9VemwEzDLc6LxlunGFJvGw8zU94wKZkZc\n",
              "39HOE+n7/LafnP/6xUTsen//nAAwURGq4Eq9ikhQF5Y2wYXUV1bWBhR11qw3LhG0VvXkj2GOZwA5\n",
              "cMBHqe/jM1ycbzMRTC1uLO/RKT2EIz8zfDFwcdsuIAAKJ7B7NiDGPLcKZr5YtaGnQXTu7do8JS7E\n",
              "YgvosBc/olpw4VgMfK0lYooqT4IldiO09JO8NHSO2JxMjMMH0IWSEvFvWWTJn2VMb9HpPPwU/yb0\n",
              "CoeQbla1aB0dijfN5G45gOZ3Nt7njYiJkrAL9zOCrY+lo57cexbWALFobX7Eh9nb8GTT2LHqBTPw\n",
              "ly+5RQzin7cq+T6jhTzVStaGwdwgMGxDgvS9nqLPZfNeUIiKdNUL5/94DiaFkWzTxbW18hP31ZAB\n",
              "CcBhEQHp7dcpTz3d0ecLPw935ljNjU69Aw/osiBHaPrjFp8V5bQyZsQt60mXkcINJr38iSKBU7bB\n",
              "u9Sa4yGockg3Kg8Jb0C8zvCO7tngf6l8rx/GgUA9xTNxsCMik2wvIFyPX/6xjzoL2KXue1Ez72vt\n",
              "gRPsLeIxUuUNXC6WCYMparSbGaKvBjtc7/D5ku9B8m6kxytKOP1x1bkuicYoUTqTMl1M5MJWLNj9\n",
              "5EmhZ2PpGrdWf4ztlEYoyyvLmz2djWlpd3++45xtvTqrac8ssZbqzxsxn0IaDX2NVhJfWWZm2/Za\n",
              "oJjm0BY4gyFtrbDM3LEn4kVtYvFV/mSGOr/BWwcUEiaGh6W//hLh8+KxzL/kGCsrr8IKDjHu74dE\n",
              "tBKvcj63hqwE3GiMGd+hE6K1b7TMKRZMIWeX6PbDxFY2JMptBsaC+oMq0yQdu7hZUE6N7XbidjEm\n",
              "QUPvIZwp0n0IWsI1Ebkydl6XzPaJ8hrnj9cnjXQa/hh0RzG+ckOVPj6JRp44R8ovKzj/uYCtvd82\n",
              "mf4bWn8fOlNXRuXz3SnkWAfJrU24gzxvqe6SvLeqxKJb+LK88gaX9maaos7SCLQIZU9cnGEPWyUa\n",
              "53tQzD+15JXUZ3ukas587GMb6To9DYWQSH6yJf/jLSc0jNZ+ut4/ceS14WWVra0uAjHU8TA2lJxj\n",
              "6/zq9ur5r9JXazvuIxafWycF6O4g5mzhWlpnQ00+6qhhveLv7S1yXZsCy+N7yVQUgh3PLYM5CkeX\n",
              "fnqpeZgcOplgPVXkTzLDOMzPd/3dtumw+SGpqmxIEmj0hrTbE7aDP3PBJmvFp90RuLY4HXAeaSYd\n",
              "PJ09urfGz6zi1jyuJm4TWaRpJgHQwsvr7Z7by8iIX7CotH/r34gObTfVQ4sUH8E6Aes/JC5N6Ojd\n",
              "PTViq/RmpmoIEZWJx1aXS4FP9bjEwxeKws/FgpwsOMo1H3Ab1BG5Kgzid4kEUqtXmkk+BvvFIw2R\n",
              "klEtON4AADuhAAAFo0GeY2pTwW8AABBFtR5j464QARCp2jCHXHtr6Ahg5Sg7kmk2QwJ+ExyVSQ7A\n",
              "AK8JbkH83YIRRSri+Dk0zndMQMNYOAROPhgDTYwxrG0Hbal/FbfinRRwltwGv0guTIyU51iYoBqa\n",
              "IxonbaNLIM8gjysJE+q33C01ObWArYUTXaycCfWtSjulT+HcM/Q1Gf/8pxa4xP9XX+SnO1u+styu\n",
              "wjiy/WBtJ9qf+x7iYUX3reRDFHKu+k0sFZytZ4Zri1Q3/zaIi3rSOLH0TKTat3TfxFSWv3PQaufI\n",
              "Ypo/HNPnffmvvpc+Pd3LPtSZnlZoeCa8KKDgFBtR/OtmW9fr5XB3jlmeBAAhKZcgBNUv4p7jLRIC\n",
              "++alqir8g9+bFwvcixOgKYJPRquyDsBpXWvKI+NftSvH2Ni6qA70LocDALS0MTwCBqgFk/CbKAGX\n",
              "v64t7hmGiQCosSa+FqSmzBUGk2WntxBrvTAfuoR8EDa5xWfLIUv/4CZuTn+xarv6bI7rNQDwVao9\n",
              "YZj8+/BIcdSW0Dx85d/y+D6E3UmRks3QdW6NF2A7CISkTEUN3HCzrHv0oCz7KbX5BuHQT9r/4C0Q\n",
              "mMAm3+SOGVQL1FDqk828/CuKqMocONgZQUiwANUxktExclv0pov4o1hjukLeHFVzuDJMX6of6tBk\n",
              "I0TB0/b70xQX0YgPoY+AX4PUipyY6kjvwMbv+nCM4ppkC9PpyIGVTz6fTIa3FV1Oobk8foXAr4dp\n",
              "7OzdwxIO0dzvOxIDEZp2W2OtjaNv5kQqC8IixAq/Z/+ORU8UOaD6EK5mNo9zlrVkBpZY4tWTc0pZ\n",
              "xJ/EGovPwDxU40+ovl42cnj2mCEn/qlHSOVsX5CwFl1bepL0JLI38o5h9McSiknyHmXrEuT1HNNK\n",
              "MMCzjXD+ww6CggH1OFRsZHfoRTXilM+FWFmK1YqGqE37pCftvrb0zN6Qx5c1Mld0LszBil9ZJJrC\n",
              "04559R4oII9QRm/9H3Zb5JeQ9d8BCvlJuI8d93vWfzltdg0krt01wHeXjaEsxFsvH1swHq7EZWX7\n",
              "zaEfvKmXdcEUKHgqYt0tDDB6rRKJ96oNmOwMquF7bHDqA8XKI1HHTXFr5V7AaS9rT9sU4ynb4E7a\n",
              "SuQdyDramwSvnRne/q3XoTECSyjKmTXYpQUyo7l0vqcKehHFaAi7NEbgsi2xsN9yA1/Bwwonq+Sy\n",
              "Wg6cXQKUTynqvf/6+VgDxYwpdI4vhzkshUsOf2wljK3JEQyN83kIlFfCmAjb13f+veOzcTyp/X5a\n",
              "9nlqcx0RBPXYiyPA7rCtgp6RAmkPPSd4Bizk66FKcZ28tdHPuaoxBhj+Af0l42IP0aYanM5jf9Fp\n",
              "NSS3WiNh2t7Q0JRDqKdpenoHH/VtceFoOJqYsajH+d05TP8viyrEJMLOEVfXj54DZOp2qzGPrzjb\n",
              "1gTp+PYlZzNnxmmA28CbVNvo5D/dgD9oXhWnDHzydOcGB9cTk7mohripSkxkxacODUPwixM5/9B1\n",
              "fov9FOFbzUK8qE8xO8549c3dld2gKzdLby52CCOC6YnFZh66duXX8gVL2sbnMv5AGEYFjVT3NAh3\n",
              "iNiKJfV2N8lZsKvfNQk7T77UbIpt7O9I/4FSFfJ8w41Z39n5IqRAjg13h9mViXfP0X+GPVh9jEr5\n",
              "61sAeuMJr+tLn3XC4qZ185vG5A8t0kEKl5mgjjjnCXD8SsywqnU0jsL2VRLTIfLYxLaLraX33zHs\n",
              "JImIgLsJDhN8Z9gFxVTUVjATVP5ygMFI45qL/NVnz0KMvHiFBb1XOMNxAERvvxJRvQ97e0aTdqx/\n",
              "i5hrzKeRqrKDa6jkB6NAQFsJysu0m/IMnTySV8B4CiwFs9e3H7geeFG9OVkEEWcrmOkCAIcaYrRF\n",
              "uKABYWcXR+VO1Cb5jkySjW4022azEPDgxLn4QAAz4AAABlABnoJ0QV8AABhrR+e96sa/Qnauc/wA\n",
              "JqOzHXcHtDDoDVG138FhCrkFtDqbNLQdJaL/9ncojhd+okAnkGoCBwlkjDNAP7ycCZYn5Z7r8PIq\n",
              "t9VlziOQBQRg4s/MmxMv9An13cFba35VKB165lqI2EVAERkn6UwWJbcilyPqx3jM9yxtgRKKLhFW\n",
              "jBEWfR8V1/EBhwoaU1Lrf7CnAc41qzEoqxaLiwGUcwKc0X6CSX3P101r0N+tWEyeXxIel9Npksw9\n",
              "ykScyScFY34yU31LCYXbYDYh6jJ5jvcs1ikC7pv9dKMxXHvF3oP3ZF7xnjuhBVe9s+5W5ZxDiJVa\n",
              "TlO+ZjqsjnwsCUUe4tHV93M8ojg02OEHUnL6BTCu0rdxJ9SiMJfWeL4LciqPPiSDf0cnrNMrbfoo\n",
              "m35f2vLIl4TYm75YMjQAAtcuk+m0W3xbCR5Wauc92EdOeUPkKj+QmG9r5qrIufaeG1dWV6ljVCDI\n",
              "7SkJ00kfL/7kl8fgfCxKBwjzRWfCjVurJ9A0DdKs7SbeaTM7A3Pt9/S7dnJupNG0wXH/jrnJ/5SY\n",
              "2kIB2h/Ju/Xqis+O8gOb9kr55XAGwIuB3ZlwMH7aadc7qsWMhTJyj6QP6VGtPSTnjDhAjFhGJZAD\n",
              "W+h8TK9tze+OZv7rRtqHWAApDz7HpwiL7eCCDp55gko5dUEzwYf59HkgokFUrHAm2eoj3qnCEF6B\n",
              "45Ve1sb7XmRDncOJjhAInJcYPcWkdnLn6VyqzUxE0XySQQvWGhSGa2lYkhQlRXaYjPA1j+jcspuB\n",
              "X7ldHV3hzqiHxbNLzCb09qVsXjAB7D6mPG1y6PVJF8zKcVROUBY3Z1Z7kly99awYYN8BcR5TxO6O\n",
              "D91uTJpoMmzkID+SgtSrJd2utku2rUEP9tduItWIX2s21WHxRdNYDjz1y8RcpJvLhzE3jc8v54bY\n",
              "zzkImpbscwPgluhSMiAg3fj56Oskc3ClX9VGmSxmmlPZdyswUbYuZxYJbdfqnZVThYpfulvLfzQl\n",
              "Zd2440ERAT4es5qB9QJJFgs5ia7Fz96tfq/R0hR8JgUEO8jQPYxoOu6376uL/elI7xuDagjAUHlK\n",
              "4C06SnCF2QYaQpptex0OAugAdMNajgtgaTcPbI03pWd3oDYCUaOqxzWmBZJ9bjPLWf7QNjgOp88T\n",
              "Zqk7jKZ66hf6gPfIVAgfucwDwIs8oybCakYXusKLjgCPzVwFXtgKlWbqKPN0oI/6muLbKKtqNHA1\n",
              "245OlruPxuWf+xVz7+WBAzxwwyNuTvAs4BXBqslva91Pxyyj0m5VUqtXPKF/L2MyIDl/hbKiLi4m\n",
              "TlWIIutvLWTOw96efjijlllpOgzIWYTvsmQ8OKFOAOg4NbojQVcQ9N3coO2jTRXeaziamx4qeuJF\n",
              "1DGrbsgM5SPztV8F6ZWYpkO+pBTZEEkeozno0KciKIYEwQtb8QkBLH9VgXhf1ja07Uf5IkDmdrgC\n",
              "KviStY6GaijPw56uYgG9DZrBNVKX3UKblqzaHKJkpX5I4haInvpbVpnnqrrtbSxfLdWwWqLjlPJf\n",
              "GAk9cXdmENdTC30hFft3jD7Wb5W5GKwH69Z7a0cA/AVXs1UcFw/ONY89TeOSTS3rfQNu4nXmRsfe\n",
              "tXZEyCjd7SMabPgE3rh1CsiTztgpYpF4mmd6II0+yJ+4RNlc0CqsUbjqjKvOhpBtNsctGfRt/rZM\n",
              "mgm5+/qftU+JJLKwbjtCiLG0fIdPKkhB8snlFrrvLlZ1QJT5UkSe2z/LAC+VmOI/571b4CncbMEe\n",
              "PPSyxjS/g3j8YCH2uoA+H+DM/TxkY+WV5J/QtDbjmhCjlftCO3CWHR+Wngp5oe9iKRdU7igJcySl\n",
              "LGFrCWPdkL+mYp7MXEAFrDKACXq35EK3/K0B1sxAK/LfErzJL58KBp+qxOm1OE3uMmdxarKG5Heg\n",
              "L/XjIiSC5DbE17Rsncfb+8hIlCECZncSZVWUFPIaBiewMe3UjVyGB74lS78NMEgNuxioAZ77UV0N\n",
              "MHfWEdQ0gojSaP1eHArKdnasUWIkKuSQ4x/odEPknitGtITiqzo9vK7E0d4FuZrpkCxiIrGYO9Bq\n",
              "XYn6ASWFYZaX/M3EfIA6LLPDTHJjfbLO6u9/uL1z2o+LNHrwOZsZsW2IQdN0P1xKxfQtogAGBQAA\n",
              "BDgBnoRqQV8AABmraXQAE1qCTyVE7cu1pamyoCiO5LsgyTvb3ZKOz5O/IrULrxxQxyxgISu9nxbM\n",
              "o/cU9SR/vVk9SD4GiO4ZP7DCjScIYVvKblEuVtdYsA56SNwS2GqkmX5NmZHgrfmTzfy7nhnUDvVA\n",
              "o02HSEm8iQf9TFKayUcbm074eXz+YM2TtbKUY09BHn9kH50WVL5ks76XcM7HksRNwBuEJVcrS/W8\n",
              "6eR70C4vRKYH94DW8bGXSjVKGQsp/xc+0ObF1iHPMY434/y5VS70Anot0khSPj2x5/DRtek8kH/S\n",
              "QZDYi95YpLcZMU/H0OUFTT2F8hXY7cEM5bi5xaFWW7NcrIJ+843m8DbcIExLYjDX2h5NK3Sv4b1g\n",
              "7r0VL5cb/sECgq+hY18tMM8NEsMkMw2uHoZ24s20L4KqadjcU0r6rOvRf0j9EzUa9DAkaRkcp2Z6\n",
              "Udt+7PiYG82vsFBMRpqt7BC8e6pupq6C0oSqdIHPHPPXy8CDLRIvjWH8UlgVnAYUytrrooBnYTvC\n",
              "m102Hs3UGeQ7BHAbCuN1rvWwD3JTQzZBeQRNr7cktAOA/QccpHT/ZfIoaFHuNzqGaQSEZOysweVN\n",
              "MeUaO3gkBTIOu2PoI/U5OLr6nYRSXwva62Lc9dIzLAFbsQVSL+uwLShNkOinLlstmJtHtkHyGnSI\n",
              "gI6wcJ+/Gdng1LO90/3BcQHZYphgPX5Ot75GYHCkz8nLJWsOTMfSjCrMf1QWTF9SM0hD41U+QlUv\n",
              "vT19idybGwv4cBToKj+OZCWvqNIQRGGhxAUARLdHio5mbwZyfzNB1+qh+o82bNgbRoefwQ4QLbX0\n",
              "y8926negwusSGMXwFdrTqUpZj1pglL9gwThtI3ZCZrdbsa8EHnITrydl3gUqPzY7GlOeLkORTAHr\n",
              "0DQHp+ZWWWeB7B8fgCJE6XDbLY03F+RNAmIL7ilW7UwpZtfuQTY7Ynn9gES2eXK7Lv2SFSYG8XnU\n",
              "qJ8Y45THEQzarqDfK1r0CBMSdG/JGMkMSOfb10H0jGLYfg23GfzW4OFlz8tDq+5V+r6WieoleLNw\n",
              "KyiRvDFJqoaid9PkMKu0ieH7mLRQy5+DPoachIvEC1ajmxKae96HrfvP/NgMtWAdlqgLMw0NTk+3\n",
              "twTmoT3PU5bV1Wh7W7IMLTDwZtyxB/HoevZbn50wF1MJJU9xvOxEFEQY5TaBWmdlZsFqDGT6SL1B\n",
              "QlMzbgyFCb5B7DT712vkUnadpBlvlpr7BexTyLF7SbNikn0R8Oguj3OlfzlQ5CW8Alpr6mizz8eL\n",
              "lpBSVURsXahTvJAmz85O1YJN5HsGHqgQjqOqf8IO7TUAFem4Ng178orzyWzhSWxRC4s/egcEL6FK\n",
              "nNxW7ncEWiQgx/bSuAeXtQYinqfzo335GyPMUEHwlwqU1MTiV62wYjElWKYpHMqzOtdqDCgAEHEA\n",
              "AAaFQZqGSahBaJlMCC///tqmWABOHlfQAsI1NZ6U99Jvuugc0XzbFfkpb6BJfBJcKLC2atFs+inc\n",
              "yVfUZpjCmjm0JJTGGRR4wPryKbRg/xv4dAaR32LJvwYnrgEWHkISlIBy/59Efjwo0Hv5xwvMFtnc\n",
              "Xz3SOPjMsAw5f2uZ74wH/wB2ABDaExBhAj2HQmdBILNSivTlnMqCouD/iLz9QZBawb9X3bl2YylT\n",
              "+lOyres4v1MJtO4dDnz5LtoJALXSeOCwelgOCHXsFFAC76Wf9zL+COdH54130HhhQRy9DPF7/H9p\n",
              "5+n9CNIMOUF2KbRY0nvQCnc7wBoaXbDmQZwvEK5iu4PlCSgGurk6mWP2U6pAz/nVAjzpoE15IGOG\n",
              "2RakG8GxmTFj3z6IfyKYwnA/kSrnBMRFDFeaKbRAjNTzl7lJPaoCS06HNw3PP2m7D+TOhPHqK0zt\n",
              "tI34W64o5Ijn8yNMms+/2HOeNVfDXwMhoxiCIqHem2lQL0n/DcKdJodLfbR0jECS/m40GFw5Khir\n",
              "ImEy1VXLZF1bsd4jE+HZd2BHg2UbXhoGHrHwII4nluH7lJiBKoXugdgwgx3xxgQt6a1WiQE99kTJ\n",
              "dECYnXmlAyeoZae+17W/vUFWF9xdUvBnV0p0keWLaoeTJZK1tMuidg/gFRC3tb+fwJ/lF/spJaX+\n",
              "DlQT3WzJYE+L0Ur5m2XozrPop5nwao7FYUZVqo17RKtLkJbqGPQr2tWFCvTPihZ+vt56ayGbJbhX\n",
              "1pRu8soXJys+Ygcd5KgPL46AzxaPym/1QktFtT7ky9rgyxaEiqqwK7ojJH+VYPqB+JAruDFD5M49\n",
              "VPn/DFaO3AkdrlgzQRLIShEY02G+5/633epNyP5u7HhDhQ5YvYROrWlZsYWwXQBI/IFA1kZUJi/L\n",
              "fcBFNy1/US9yup475w+GjHMTi9Hk3epr51oio3aMSUh6kpG6simsL9Zt/0cXWHH+qEb1fM3yRHOx\n",
              "2tmGhSnLw5GEwHxl35bmaxYPE/bbki15B4PRa8VUjRXXmoPPFoyyyY09Lm6fB5h0r11C12H3e4+k\n",
              "abuuQ7hvbcjBYMM9zQUjh2uPk6LF52Ur3TQ43FkIG8D+pRuwVivuR2RxPHX1PagTuOnYF1tPPz0B\n",
              "oMsnC3GU46wvHMEkyx3pjAY+bfrYCyoX8f7TUrQwncmAD/ktD9djByYJpztsl9I2hm4G5wY/BrJP\n",
              "cYMRE3aoRVl2/x3/d+bHaqFVXljZ/9cFqkiTmJzHxdWfTtC39Y6bhEU/WYtJooXYoQRMP+BogOp8\n",
              "40LeehoLxyiFzZV4if/pmME1/azw1VWt8zKg861eXxwLnqRR+PDjEvxROEMqauHfw+Ewhh5vsGbu\n",
              "46XP/ulrFH+jFzgv0MZ1UqvT0XKahNhqN3cEkz78bCUjOAJ64S98hX5PJr+I5/4DfhELQljzTm3d\n",
              "FHGE+Xj7RmHPVSioRORBraSKS+Z6I8ATGDPlh0qdfnvIwWpKJ1JWaeP6KX/SQUSgcJhlqQ5Uc9S7\n",
              "E9346UfoHJG9qHTNZYQiDsxIRnoe6PQ9ZK5WIWzLg4O28FalxQL05XsCJJKr8s/D7lyd3+bE+Pjy\n",
              "snXmIGnFXDDKufYnRbcoFiZ0CHirqBw4I7DjNbvYJ6SFL1q8Pgy7gaEKW0lETFmlkO7PyyydxzK5\n",
              "S+1TtJpMHNo47/5rGhO0Lc3znBwnjwXibyBYiII8O1caMlpNlwdwWsxFSc9xG+bCShh53Xp8/eHa\n",
              "PM3h6RyzFxrFZGYwACZe0SZH2vNNHp8kKTCyW5/BdcfqRX8HwD6/Yr0LilhKzct23VDtJdCT0W/X\n",
              "YZpjcv0DV9iq+OES5/WFDHimtT52yZ5rQgpAgGavcruDVadd412+GKfE0xA2lOQgt98JSQVYNosH\n",
              "jobvP6gxXbGHKJ+A064ZobGNLR7whBrTJTxWZhE1b2thoeldx6fFVsx443HKwNp6ZBCnUtvLfaSt\n",
              "g+zU+mJ+V+jpZUWw8HapgSHRtF3plO/adc8kfmDes8KBY9T/AfyvHQcHZzCRsrBhD0WUVucHmE/X\n",
              "DEKQppYSVfnwuTfvs7JTryppFXEYb3JzURJ9ef50lHTnaH4QgDoXpxNV9NXh5H4jMMiCzXClfuwY\n",
              "0+EasVReM29Ah1Rsx1SCg3f0GGB7VwjDF+SwtAVQSLudBvbuRxga+w78z+j5JzBiRY722ZVrejD2\n",
              "z0EoBALVhmtvq7czJhbYYAA9IQAABhpBmqpJ4QpSZTAgv//+2qZYAE4eV9ACxKhPyJLqoIYwpNKm\n",
              "NdwnM9um0wkZ6BYNn9lNYy+eySmh0dig8VI2gz5X1rFikHJzXQOwF6A2iEfR/f4w314tr/5h3TUI\n",
              "Z1SqZxZIA22xvu60Ltjc84MMBDtWuiWLf0WNuMfrHZic5NpsM0NboSUOKXL/EfHbxn/88U3YZaQG\n",
              "jy17Q3OiWc9y040QRxxdOv901ouguFqDGRnp5KrPIFHn8rS4mbbmj5zPsCXPqk7EdNjUPPTIrsZz\n",
              "zh4oXYSCLswRCaWQ6S0i79jw7AbxE5iYMkl0slMrLlCLnxDedXkD5xcB1jbNw6cmcTvR/HweLCee\n",
              "9OF2E3ObcyedGB8qtKi3hbb1uXWbrhBbLpMBAgqRIlb1qme7PP63rHCKLjG3PSoux/KnWqCjNfQH\n",
              "pJicjHlUvVl5raGgX7Uw6ehLFf+e2iFaAUIuVESIeh3BECk8ykW78mGID+f/rriNbwyVcdkwWbgY\n",
              "VHGa1+h1YBtYICbFKqUdwvY+G4L190uem5PmR0ddpoPbHtLi/eC7qeNSNd0g5ynBN5tcpfvGamAa\n",
              "xyiwaxS9hNndBHTHde322hqVZTgYY9ruZQpbJhSp97eYTD5kTt24cZkBGkiOQaJoOO3ZiaMAQTmo\n",
              "g0FqlkYGi0WOlcD6DDVNy/wolFL8QJ9nmeAbsT/wP4kOMnjrHGTKtwRvANGrQAjVbUIlqn8vpR8m\n",
              "E61LD23xhresbuotB4sQNs9s25gWQmgNfPzp0NgXaxYe5BGfkw15Jr4e0mo2v+Xr0eKstjQ9Dqan\n",
              "17TS/kdHT+RQa6pN6GzZhVlmamDh1WyZbS0amvlFKcLoKd2uYkhycDeBMIb68CQCz0xfE2tEDR5B\n",
              "r1w+BwWhD6sdnaMz0JrAdinM3PuJSeCW6cLQTPAXpif0XPMnva2FqXe+0UcbvVPaOADhM61yYHv0\n",
              "B5Xplm1j2UtsmNsmgpvxWIWPrG4jgNb8aNE97zyISMXyCbsO9pHzexSXQMSr7r+UHhNsCcmyNUkr\n",
              "C+ACO2helxkWptHQfdk1nymuMtD2E42vqsWZb7XEYwzyj7hAoBpILDb1t5Xjti1YJKzP+KnF7P/Y\n",
              "pvbBRXGeqxGZqCd29LVGfrJyAJqWTcWFOa06s/7Z2TjO3tWp/+ivclubDICCS3T15aRiOa5xpxSM\n",
              "EkKBTh3Nx6ztFY6GGnSmP6g/Id5KmDB9J0WW3mk9nef7rf60sOJGI8ATWjURPUMMTDL0Kuxxi5N9\n",
              "BbKhys9KE0+SMXhzkoAUeyKdWD6E5etTv+cTlvm0b7O5nxOggAdKYX/1vBbOXfUuJ3ab47J4oXgA\n",
              "awqx2IudG5ox9TCbvUBG/CbtjHEyoobBhL6M4FGGlXVL8BzaXEErP2UKF3WbQzDLpmrYoSRZVYfk\n",
              "T7lOwWgoUbk2bhpzUwlXHllnla1ZLPu2QROHoqgXGTP0XZvu81FfbVWl/6ZcNiFYWzoeyspJymre\n",
              "hX0kr3r5SjWqki9vZ9WzOTMYdMPCcVQNCgWWb0Jm6KnmZRwRfuJ2wN61S+mMrm1SOFypPchEHRr2\n",
              "TcEURlK9nA9Rec7qS3X1/L0dGtVhbpA+rfO0p2z1MlUhoHKwP1JJDolN67zywkZqRsRfFs4eNlLt\n",
              "L27oN6CjQr0hgLxcfuDDwoz8wrYyMKW9adxw/wnBN80Cegk1Q5D7jywr7Tt2PUcphnc97OK/4fg9\n",
              "AHMWkB3bnqnYzuwWo030434mXYlVEhfj6OhoZu299aOUC0RBym1bQ5oIPz4YPW8kuI2LWb9yF5d2\n",
              "64oBsAakanu/cCsWkrLanRKbmKquRg7ukpRTro0fPrZJI+N40X2W3Pq0Gn2/37KZA/gfK1WHbFqU\n",
              "Ran3IfS75vi80NNkCY/mBeuMT5WoGfsrsLC89AmcJR+mIt2RKKooiZYaksdPE+p9LSKDPv1gyFLS\n",
              "pmRxyqpAb+wYi5Sj28s2EGZK/I9yXxBKPSg6zRxLtvswpH29OuqPcpPhwprKUladIMmy7YNI8jJm\n",
              "C8ybGemAxGTKiW3htBHPZzDxiTL73D4OrWQEdBm+BzyauKGMuJmDhaW1/gAC2wAAAfxBnshFNEwW\n",
              "/wAAIYpRNABLSyVfs6TmCsyiQd5GnIkl4soyudZ16N4FtEz/9NOGKZPAcp42kdMeieaCNjVtHSt6\n",
              "cNxeOl3n9Kk8vUxMXHq43+IjDcTLhfGV1VS3Q+bXuIrW6sLL8n4Ot5xPZgfKPiqX75Lqpa+zW7mb\n",
              "cM5bocZodqfpDGgz/XyvMb7naO90ONkykGvkmB9OkENMZRc0xRYYOS1sTFRXA7N0odlweAtQ8qqW\n",
              "b6rPCeCvWyPhvQIXkeMavs0ywMITtJtxrGy6ahaeT4GdsTKbCKzypgBGddKRhkNF5Fy+HC7OI4yq\n",
              "L6HM1mpcC5sAUXWJuZFxXcl3Fg3Ms9/4ALXjNRIaOpk8BT3OxeP2aMoynNVgI3Q+cFKPC3BAizXs\n",
              "RkWWiboGR8DyMTrIxxV5tiFcofOSCOiCGeEQ9vKvzd1ei9FsLpLV2La+mvdOiA9w1vOO4eoO2hKa\n",
              "7mt0rw9Gl5ir09NXi9VP1Gl8kHeDyWXs3Ln55q8nyikWFpFcthFxMetGnebHIj4C+Je8NMpwiqGI\n",
              "PbJDJ82r4abySV3PyagaZuZDDvLUgEtmK5AzDeyMLza53nZegcndIYcwEwZuAPzDcJM75LrO1r/Z\n",
              "vpIFweT0u+B7aB7wz98sMawIpWOQS7DMlgNX8G01Yah2EltIbAu2aJygABQQAAACMwGe53RBXwAA\n",
              "NB1W2I4AE7qR3FJ+34fLegbw+5OKVRkX26G68H30lOB1fmtVsitHciKiPjyMbrtuAQpm++pOalOX\n",
              "nMlR77jFO5Swa4HaLXKTezA0xWxe2X0liYoH3hNVf4n42AKARQx3njl8VJfwFG4vi2uqP2fjWm64\n",
              "FWFL07mCTWZWtkC41hhSoK4CuV6VxK9kviJ0L/KMFj0+AldqZ6C2Wx++Lrop+CvrMgPyae08+3YN\n",
              "V3g6P9voS29sm92NADZ7YQzQHWtzJ1AxiJfYIqcEzO+XADNMRhh1efyfLC7WvsnXai48Nlv2R3Xe\n",
              "bGHC4u96dqyR6ysPYkA+EBA9yZYRKs1lqoyI8HmFbBP+JCkf+GVEj0VELGyGQTenl5phtE09UVVY\n",
              "MXdsKHv/dsBwi7GlE14oTG2zYaksYCCS5tQrhz+XazdLo6WX+9eVmi1ivaoeGK5dtkOucQMxzDVX\n",
              "Iefm4Xr8C/uvFyQFVFmDBv1UA3+95l3jefvoppIlM48wq7IGv+4nzKj9DWH6HKSjFcM8ZjN57Tcj\n",
              "9ZCwsLKCnLRzJVissgj1raspMHiaQREP+4yRdOKaYznOtQUFfxP2eKTqgfsdiAXe2YEGFK+Cb7yC\n",
              "RehwzQLQ24prbszBcN/MgkIOyZhXGjTPIgdK4tWPqZyKhhi+KLUYfDbqYQmwXVwkAVTWP6lra6BD\n",
              "QNf76+NmnkuuplMtPJwKuxUe9t58xgnUJgvADlg2DcgcsBR/GquQAAi4AAAAkAGe6WpBXwAAGap7\n",
              "AwAmG0+toC5ybbey/BOXYtOVbTsJYHQub98oVO62R1IiVis2KSBg9mlqBMECTDgyzkeSaegg98LQ\n",
              "RiuIuR31l+wt8w7y1/6JoXu3V5KRxSsLqSl5kgLO/bINXCcHKSFmioHMs5U/mDZa97G5b0o7I4Ua\n",
              "xPtQ/fdMOhm0FqNqpEDgUAAHrQAAAf5Bmu5JqEFomUwIL//+2qZYAE4eYUAA5CopM6RkYylT2gnv\n",
              "ig1VrwKer5C9DzQQD9Q/1blY18oc4RFXiKmAcE6wdu1ZXmik/NMJnM2y50/P01Jq0OHwqDAqYUS/\n",
              "7G0ezT5YdHZETjrOR4xxA7h+zSHJRqrQ1BXGvgnCQcn7gpK4xqA43bEHX36yckMhTbB+dstbwERa\n",
              "OBrtfOFVVu15VFCgy6S4EURbwZlJQ3MEGYwBFeMRFlYo2W5iKFrU2hGF2guZn5fj6dgQEoRHe/Lz\n",
              "B94/Mubki6Qp5Ctrq2rQxRN8a2feHpC2pup7QgJDTlSjwB3cPBNBWfkimK0iFmYYcVrv2r94YQhG\n",
              "tBlG71hRyNuUOFS3zWqd3OT2g5aMBbGOB0sr+mwfVgN9iUc7t+cEvTKrlxcLT9cOpQnePBSUdzkC\n",
              "q7jvGa24uZTrUkguB7rch+iISDJA/Wg3WZqr+SBDMuA5MhjEPIvxPKLUsc3V2vtdPpuZ1J9EeRiq\n",
              "ZKLYp9cw5BHWvLrYxZJWCV6T+58TWNLnGBvQ/35McXEVAoVciIBb7u5jndNmC0+e/UoSPGZy4ZB4\n",
              "skseH+dxcjxJGoJO0DmiQ7YeTcV3gJ6xUZptzumo7vpkHCApgISe9mIVCXsYYqULEdE2aScu6tuw\n",
              "ckQMi33VGwnWAhBzIFRaaQAAy4AAAAA0QZ8MRREsFv8AABHFtSVY1e5Z1yO34ABdOLulDVd6ayG+\n",
              "hdNgGpCDqQ+lNy/tVnPHWAALaAAAABgBnyt0QV8AAAaS0ghBDilreVrebnKAZUEAAAAfAZ8takFf\n",
              "AAAbi2jDJV2Kdly8F04a+hPDmy/CBAAG9QAAAVxBmzJJqEFsmUwILf/+1qVQAE4eQugAt7fDUYNn\n",
              "3n718g4jOfVnoZf1x3g4yl8/i+ODPbKClMIcO2kkCoyorUorbLN1QXzBCSBqfGxlSfNrtOn3xWRT\n",
              "HCyJGDs9nhVLFUFG4/BAWgkknKB5jI6gIJi74RI1KV7DdkhkHqRGLbxKWADvQyrreGObYIftWvwa\n",
              "z8NXdJgmkrZU8VbUpKp9YckQyPSps3nZhmL/uB7jYiR3kuo+ChW7DGv9RTj1MuyQemj+PYoT4Gbp\n",
              "chKex+IyjKQ9qKguYD5XsuGjEuNL44e2UXl/I/sKj2IKSy4MgJbwSvoveZQ+ZcAKFH8VSSCCJRQU\n",
              "why6ekjfRciBE3S1hwIAahUdzxmmcnskT4StuKYOuJeHWlF6lIX/vqqOBHP7xYoQJ924964vL2nb\n",
              "CEfySpdhWrmrk/dv+A6wEUrsKxaPmS71v2KDQ+TMzH2ACXkAAAAtQZ9QRRUsFv8AABHFhJT9ES8k\n",
              "nRJd6VmpCfuDf6werlMA3KWoOZ3CIxbeGA/wAAAAGAGfb3RBXwAAG4qXBf7HPFCnv+IlTEAqoAAA\n",
              "ABEBn3FqQV8AAAMAOzbIB+AGZQAAAE5Bm3NJqEFsmUwIK//+1qVQACQPE3pAAnVFj0Eft1Gm7I1T\n",
              "saYJgQ5tFhgmHKNywyd03Fu69iLvOcE+cO02D21mSd37Y2xuyVTYRwYAK2AAAAQXbW9vdgAAAGxt\n",
              "dmhkAAAAAAAAAAAAAAAAAAAD6AAATiAAAQAAAQAAAAAAAAAAAAAAAAEAAAAAAAAAAAAAAAAAAAAB\n",
              "AAAAAAAAAAAAAAAAAABAAAAAAAAAAAAAAAAAAAAAAAAAAAAAAAAAAAAAAAAAAgAAA0F0cmFrAAAA\n",
              "XHRraGQAAAADAAAAAAAAAAAAAAABAAAAAAAATiAAAAAAAAAAAAAAAAAAAAAAAAEAAAAAAAAAAAAA\n",
              "AAAAAAABAAAAAAAAAAAAAAAAAABAAAAAAfQAAAGQAAAAAAAkZWR0cwAAABxlbHN0AAAAAAAAAAEA\n",
              "AE4gAACAAAABAAAAAAK5bWRpYQAAACBtZGhkAAAAAAAAAAAAAAAAAABAAAAFAABVxAAAAAAALWhk\n",
              "bHIAAAAAAAAAAHZpZGUAAAAAAAAAAAAAAABWaWRlb0hhbmRsZXIAAAACZG1pbmYAAAAUdm1oZAAA\n",
              "AAEAAAAAAAAAAAAAACRkaW5mAAAAHGRyZWYAAAAAAAAAAQAAAAx1cmwgAAAAAQAAAiRzdGJsAAAA\n",
              "tHN0c2QAAAAAAAAAAQAAAKRhdmMxAAAAAAAAAAEAAAAAAAAAAAAAAAAAAAAAAfQBkABIAAAASAAA\n",
              "AAAAAAABAAAAAAAAAAAAAAAAAAAAAAAAAAAAAAAAAAAAAAAAAAAAGP//AAAAMmF2Y0MBZAAW/+EA\n",
              "GWdkABas2UCAM+fhAAADAAEAAAMAAg8WLZYBAAZo6+PLIsAAAAAcdXVpZGtoQPJfJE/FujmlG88D\n",
              "I/MAAAAAAAAAGHN0dHMAAAAAAAAAAQAAABQAAEAAAAAAFHN0c3MAAAAAAAAAAQAAAAEAAACoY3R0\n",
              "cwAAAAAAAAATAAAAAgAAgAAAAAABAAFAAAAAAAEAAIAAAAAAAQAAAAAAAAABAABAAAAAAAEAAIAA\n",
              "AAAAAQABQAAAAAABAACAAAAAAAEAAAAAAAAAAQAAQAAAAAABAAFAAAAAAAEAAIAAAAAAAQAAAAAA\n",
              "AAABAABAAAAAAAEAAUAAAAAAAQAAgAAAAAABAAAAAAAAAAEAAEAAAAAAAQAAgAAAAAAcc3RzYwAA\n",
              "AAAAAAABAAAAAQAAABQAAAABAAAAZHN0c3oAAAAAAAAAAAAAABQAACzeAAAHHgAACOMAAAWnAAAG\n",
              "VAAABDwAAAaJAAAGHgAAAgAAAAI3AAAAlAAAAgIAAAA4AAAAHAAAACMAAAFgAAAAMQAAABwAAAAV\n",
              "AAAAUgAAABRzdGNvAAAAAAAAAAEAAAAsAAAAYnVkdGEAAABabWV0YQAAAAAAAAAhaGRscgAAAAAA\n",
              "AAAAbWRpcmFwcGwAAAAAAAAAAAAAAAAtaWxzdAAAACWpdG9vAAAAHWRhdGEAAAABAAAAAExhdmY1\n",
              "Ny44My4xMDA=\n",
              "\">\n",
              "  Your browser does not support the video tag.\n",
              "</video>"
            ],
            "text/plain": [
              "<matplotlib.animation.FuncAnimation at 0x7fcfe4bb4da0>"
            ]
          },
          "metadata": {
            "tags": []
          },
          "execution_count": 31
        }
      ]
    },
    {
      "metadata": {
        "id": "TaCxY8xICrie",
        "colab_type": "code",
        "colab": {}
      },
      "cell_type": "code",
      "source": [
        ""
      ],
      "execution_count": 0,
      "outputs": []
    }
  ]
}